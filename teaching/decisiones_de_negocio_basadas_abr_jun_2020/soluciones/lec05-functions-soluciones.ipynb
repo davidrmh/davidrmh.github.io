{
 "cells": [
  {
   "cell_type": "markdown",
   "metadata": {},
   "source": [
    "<h2 style=\"color:crimson\"> Ejercicio </h2>\n",
    "\n",
    "Programe la función ```distancia_lp``` para calcular la distancia entre dos vectores en $\\mathbb{R}^n$:\n",
    "\n",
    "$$\n",
    "d(\\mathbf{x}, \\mathbf{y}) = \\left( \\sum_{i=1}^{n} |x_i - y_i |^{p} \\right)^{1/p}\n",
    "$$\n",
    "\n",
    "pruebe con los vectores `x=[0,1,0,1,0], y = [1,0,1,0,1]` y `p=1`."
   ]
  },
  {
   "cell_type": "code",
   "execution_count": null,
   "metadata": {},
   "outputs": [],
   "source": [
    "def norma_lp(vec_x, vec_y, p = 2):\n",
    "    '''\n",
    "    Función para calcular la norma Lp\n",
    "    \n",
    "    ENTRADA\n",
    "    vec_x, vec_y: Listas con números\n",
    "    \n",
    "    p: número mayor que cero\n",
    "    \n",
    "    SALIDA\n",
    "    float\n",
    "    '''\n",
    "    if len(vec_x) != len(vec_y):\n",
    "        print('Los vectores deben tener mismo tamaño')\n",
    "        return None\n",
    "    \n",
    "    n = len(vec_x)\n",
    "    \n",
    "    suma = 0\n",
    "    for i in range(n):\n",
    "        \n",
    "        suma = suma + abs(vec_x[i] - vec_y[i])**p\n",
    "    suma = suma ** (1 / p)\n",
    "    \n",
    "    return suma\n",
    "\n",
    "x = [0,1,0,1,0]\n",
    "y = [1,0,1,0,1]\n",
    "\n",
    "norma = norma_lp(x, y, 1)\n",
    "print(norma)"
   ]
  },
  {
   "cell_type": "markdown",
   "metadata": {},
   "source": [
    "Escribe un programa `unicos` que tome una `n` cantidad de números enteros y regrese una lista con los valores únicos.\n",
    "```python\n",
    ">>> unicos(1, 2, 3, 4, 2, 3, 4)\n",
    "[1, 2, 3, 4]\n",
    ">>> unicos(1, 1, 2)\n",
    "[1, 2]\n",
    "```"
   ]
  },
  {
   "cell_type": "code",
   "execution_count": null,
   "metadata": {},
   "outputs": [],
   "source": [
    "def unicos(*args):\n",
    "    return list(set(args))\n",
    "\n",
    "uni = unicos(1,2,3,4,2,3,4)\n",
    "print(uni)\n",
    "uni = unicos(1, 1, 2)\n",
    "print(uni)"
   ]
  },
  {
   "cell_type": "code",
   "execution_count": null,
   "metadata": {},
   "outputs": [],
   "source": [
    "#Otra manera menos eficiente\n",
    "def unicos_2(*args):\n",
    "    uni = []\n",
    "    \n",
    "    for elem in args:\n",
    "        if elem not in uni:\n",
    "            uni.append(elem)\n",
    "    return uni  \n",
    "\n",
    "uni = unicos_2(1,2,3,4,2,3,4)\n",
    "print(uni)\n",
    "uni = unicos_2(1, 1, 2)\n",
    "print(uni)"
   ]
  },
  {
   "cell_type": "markdown",
   "metadata": {},
   "source": [
    "Escribe una función `familia` que describa una familia. El programa deberá tomar como parámetro el rol de un miembro de la familia y como argumento su nombre. El programa deberá imprimir `\"Los integrantes de la familia son:\"`, seguido de los integrantes de la familia\n",
    "```python\n",
    ">>> familia(papa=\"Mario\", hija1=\"Sophia\", hija2=\"Elizabeth\")\n",
    "Los integrantes de la familia son:\n",
    "Mario es papa\n",
    "Sophia es hija1\n",
    "Elizabeth es hija2\n",
    "```"
   ]
  },
  {
   "cell_type": "code",
   "execution_count": null,
   "metadata": {},
   "outputs": [],
   "source": [
    "def familia(**kwargs):\n",
    "    for key in kwargs:\n",
    "        print(kwargs[key], 'es', key, sep = ' ')\n",
    "\n",
    "familia(papa = 'Mario', hija1 = 'Sophia', hija2 = 'Elizabeth', mama = 'Laura')"
   ]
  },
  {
   "cell_type": "markdown",
   "metadata": {},
   "source": [
    "Escribe un programa que tome una lista de enteros y regrese la lista con sólo los números impares\n",
    "```python\n",
    ">>> solo_impares([1, 5, 2, 8, 9, 10])\n",
    "[1, 5, 9]\n",
    "```"
   ]
  },
  {
   "cell_type": "code",
   "execution_count": null,
   "metadata": {},
   "outputs": [],
   "source": [
    "def solo_impares(lista):\n",
    "    result = []\n",
    "    \n",
    "    for num in lista:\n",
    "        if num % 2 != 0:\n",
    "            result.append(num)\n",
    "    return result        \n",
    "impares = solo_impares([1, 5, 2, 8, 9, 10, 5])    \n",
    "print(impares)"
   ]
  },
  {
   "cell_type": "markdown",
   "metadata": {},
   "source": [
    "Escribe una función `sum_mult` que calcule la suma de todos los números divisibles por 3 o 5 por debajo de un número límite `n` (exclusivo). Por ejemplo, si $n=10$, entonces el programa debería regresar la suma de los valores `3, 5, 6, 9` \n",
    "```python\n",
    ">>> sum_mult(10)\n",
    "23\n",
    ">>> sum_mult(20)\n",
    "78\n",
    "```"
   ]
  },
  {
   "cell_type": "code",
   "execution_count": null,
   "metadata": {},
   "outputs": [],
   "source": [
    "def sum_mult(n = 10):\n",
    "    \n",
    "    suma = 0\n",
    "    \n",
    "    for num in range(n):\n",
    "        if num % 3 == 0 or num % 5 == 0:\n",
    "            suma = suma + num\n",
    "            \n",
    "    return suma\n",
    "print(sum_mult(10))\n",
    "print(sum_mult(20))"
   ]
  },
  {
   "cell_type": "markdown",
   "metadata": {},
   "source": [
    "Escribe una función `factorial` que calcule el factorial de un número entero $n \\geq 0$. El factorial de un número $n \\geq 1$ se define como\n",
    "$$\n",
    "    n! = n \\times n - 1 \\times n - 2 \\times \\ldots \\times 2 \\times 1\n",
    "$$\n",
    "y $0! = 1$"
   ]
  },
  {
   "cell_type": "code",
   "execution_count": null,
   "metadata": {},
   "outputs": [],
   "source": [
    "def factorial(n = 0):\n",
    "    #Caso base\n",
    "    if n == 0:\n",
    "        return 1\n",
    "    #Para acumular el producto\n",
    "    prod = 1\n",
    "    \n",
    "    for i in range(n, 0, -1):\n",
    "        prod = prod * i\n",
    "    return prod    \n",
    "\n",
    "print(factorial(0))\n",
    "print(factorial(1))\n",
    "print(factorial(2))\n",
    "print(factorial(4))\n",
    "print(factorial(5))"
   ]
  },
  {
   "cell_type": "markdown",
   "metadata": {},
   "source": [
    "Escribe una función `fibonacci` que regrese una lista con los primeros `n` elementos de la secuencia Fibonacci. Recordemos, la secuencia fibonacci es la siguiente:\n",
    "```\n",
    "0 1 1 2 3 5 8 13 21\n",
    "```\n",
    "En general, el $n$-ésimo término de la secuencia Fibonacci es $F_1 = 0$, $F_2 = 1$ y, para cualquier $n \\geq 3$,\n",
    "\n",
    "$$\n",
    "    F_n = F_{n - 2} + F_{n - 1}\n",
    "$$"
   ]
  },
  {
   "cell_type": "code",
   "execution_count": null,
   "metadata": {},
   "outputs": [],
   "source": [
    "def fibonacci(n = 1):\n",
    "    if n == 1:\n",
    "        return [0]\n",
    "    elif n == 2:\n",
    "        return [0, 1]\n",
    "    else:\n",
    "        fn_2 = 0\n",
    "        fn_1 = 1\n",
    "        result = [fn_2, fn_1]\n",
    "        \n",
    "        while n >= 3:\n",
    "            \n",
    "            #calcula nuevo término\n",
    "            fn = fn_2 + fn_1\n",
    "            \n",
    "            #agrega al resultado\n",
    "            result.append(fn)\n",
    "            \n",
    "            #prepara para la siguiente iteración\n",
    "            fn_2 = fn_1\n",
    "            fn_1 = fn\n",
    "            n = n - 1\n",
    "            \n",
    "    return result\n",
    "\n",
    "for n in range(1, 10):\n",
    "    print(fibonacci(n))"
   ]
  },
  {
   "cell_type": "markdown",
   "metadata": {},
   "source": [
    "*La conjetura de Collatz*. La conjetura de Collatz nos dice lo siguiente: elige cualquier número entero $n \\geq 2$ si $n$ es par, divídelo por $2$; si $n$ es impar, multiplicalo por $3$ y súmale uno\n",
    "$$\n",
    "    C(n) = \\begin{cases}\n",
    "        n / 2 & n \\text{ es par}  \\\\\n",
    "        3n + 1 & n \\text{ es impar}\n",
    "    \\end{cases}\n",
    "$$\n",
    "Sin importar el número con el que empieces, eventualmente, $n$ terminará siendo uno.  \n",
    "Escribe la función `collatz` que regrese el número de veces que tarda un número en llegar a $1$ (el primer paso no cuenta). Por ejemplo, si $n=3$. Los pasos a seguir serían los siguientes:\n",
    "```\n",
    "3 10 5 16 8 4 2 1 \n",
    "```\n",
    "```python\n",
    ">>> collatz(3)\n",
    "7\n",
    ">>> collatz(7)\n",
    "16\n",
    ">>> collatz(2 ** 100 - 1)\n",
    "108\n",
    ">>> collatz(63728127)\n",
    "949\n",
    "```\n",
    "\n",
    "En el resultado también despliegue la sucesión"
   ]
  },
  {
   "cell_type": "code",
   "execution_count": null,
   "metadata": {},
   "outputs": [],
   "source": [
    "def collatz(n):\n",
    "    if n < 2:\n",
    "        print('n debe de ser mayor o igual que 2')\n",
    "        return None\n",
    "    \n",
    "    contador = 0\n",
    "    \n",
    "    sucesion = [n]\n",
    "    while n != 1:\n",
    "        if n % 2 == 0:\n",
    "            n = n / 2\n",
    "        else:\n",
    "            n = 3 * n + 1\n",
    "        #Agrega nuevo n e incrementa un paso\n",
    "        sucesion.append(n)\n",
    "        contador = contador + 1\n",
    "        \n",
    "    print('La sucesión es', sucesion)\n",
    "    return contador\n",
    "\n",
    "print(collatz(3))\n",
    "print(collatz(7))\n",
    "print(collatz(2 ** 100 - 1))"
   ]
  },
  {
   "cell_type": "markdown",
   "metadata": {},
   "source": [
    "Escriba una función que pida que el usuario introduzca números.\n",
    "Estos números deben de guardarse en una lista.\n",
    "Si el usuario introduce un 0, se deja de pedir entrada del usuario\n",
    "y el programa imprimir los números ingresados (sin incluir el 0) en orden inverso, de la siguiente forma:\n",
    "\n",
    "Si el usuario ingresa en 1,2,3,4 en este orden; el pograma debe de imprimir\n",
    "\n",
    "```python\n",
    "4\n",
    "3\n",
    "2\n",
    "1\n",
    "```"
   ]
  },
  {
   "cell_type": "code",
   "execution_count": null,
   "metadata": {},
   "outputs": [],
   "source": [
    "def reversa():\n",
    "    lista = []\n",
    "    num = float(input('Dame número'))\n",
    "    while num != 0:\n",
    "        lista.append(num)\n",
    "        num = float(input('Dame número'))\n",
    "    for elem in lista[::-1]:\n",
    "        print(elem)\n",
    "reversa()"
   ]
  },
  {
   "cell_type": "markdown",
   "metadata": {},
   "source": [
    "Escriba un programa para calcular el promedio y la varianza de un conjunto arbitrario de números.\n",
    "\n",
    "$$\n",
    "\\mu = \\dfrac{1}{n} \\sum_{i = 1}^{n} x_i\n",
    "$$\n",
    "\n",
    "$$\n",
    "\\sigma^2 = \\dfrac{1}{n - 1} \\sum_{i = 1}^{n} (x_i - \\mu)^2\n",
    "$$"
   ]
  },
  {
   "cell_type": "code",
   "execution_count": null,
   "metadata": {},
   "outputs": [],
   "source": [
    "def promedio(*args):\n",
    "    #Este if es necesario si se quiere reutilizar\n",
    "    #en la función varianza\n",
    "    #y se quiere evitar usar un loop\n",
    "    if type(args[0]) == tuple:\n",
    "        args = args[0]\n",
    "    n = len(args)    \n",
    "    return sum(args) / n\n",
    "\n",
    "def varianza(*args):\n",
    "    n = len(args)\n",
    "    mu = promedio(args)\n",
    "    \n",
    "    suma = 0\n",
    "    for xi in args:\n",
    "        suma = suma + (xi - mu)**2\n",
    "    return (1 / (n - 1)) * suma   \n",
    "\n",
    "print(promedio(1,2,3,4))\n",
    "print(varianza(1,2,3,4))"
   ]
  },
  {
   "cell_type": "markdown",
   "metadata": {},
   "source": [
    "El valor de una opción call Europea bajo el modelo de **Black-Scholes** está dada por \n",
    "\n",
    "$$\n",
    "    C = S_t \\Phi(d_1) - K e^{-rT}\\Phi(d_2)\n",
    "$$\n",
    "\n",
    "De ser una opción *put*, el valor de la opción está dado por\n",
    "\n",
    "$$\n",
    "    P = -S_t \\Phi(-d_1) + K e^{-rT}\\Phi(-d_2)\n",
    "$$\n",
    "\n",
    "\n",
    "Donde\n",
    "\n",
    "$$\n",
    "d_1 =  \\frac{\\ln(S/K) + T(r + \\sigma^2 /2)}{\\sigma\\sqrt{T}}\\\\\n",
    "d_2 = d_1 - \\sigma \\sqrt{T}\n",
    "$$\n",
    "\n",
    "* $S_t$ es el valor de la acción a tiempo $t$\n",
    "\n",
    "* $K$ es el *strike* de la opción\n",
    "\n",
    "* $r$ es la tasa libre de riesgo\n",
    "\n",
    "* $T$ es el tiempo a vencimiento de la opción en años\n",
    "\n",
    "* $\\sigma$ es la volatidad de la acción\n",
    "\n",
    "* $\\Phi(z)$ es la función de distribución acumulada de una normal estándar definida como $\\Phi(z) = \\frac{1}{\\sqrt{2\\pi}}\\int_{-\\infty}^z \\exp\\left(-\\frac{x^2}{2}\\right) dx$\n",
    "\n",
    "\n",
    "Programa una función que pueda calcular el precio de ambos tipos de opciones.\n",
    "\n",
    "Considere importar las funciones `log`, `sqrt`, `exp` de la librería `math`.\n",
    "\n",
    "Para calcular la función que involucra la integral, importe el objeto `norm` desde el módulo `scipy.stats`.\n",
    "\n",
    "$\\Phi(z) = $ `norm.cdf(z)`\n",
    "\n",
    "Por medio de la función `option`, calcula el valor de una opción call europea considerando $S= 60$, $K=65$, $T=0.25$, $r = 0.08$, $\\sigma=0.3$"
   ]
  },
  {
   "cell_type": "code",
   "execution_count": null,
   "metadata": {},
   "outputs": [],
   "source": [
    "from math import log, exp, sqrt\n",
    "from scipy.stats import norm\n",
    "\n",
    "def precio_bs(s, k, t, r, sigma, tipo = 'call'):\n",
    "    #Para asegurarnos que se escribió en minúsculas\n",
    "    tipo = tipo.lower()\n",
    "    \n",
    "    if tipo == 'call':\n",
    "        w = 1\n",
    "    elif tipo == 'put':\n",
    "        w = -1\n",
    "    else:\n",
    "        print('Elige entre call o put')\n",
    "        return None\n",
    "    \n",
    "    #calcula d1 y d2\n",
    "    d1 = log(s / k) + t * (r + 0.5 * sigma**2) / (sigma * sqrt(t))\n",
    "    d2 = d1 - sigma * sqrt(t)\n",
    "    \n",
    "    precio = w * s * norm.cdf(w * d1) - w * k *exp(-r * t) * norm.cdf(w * d2)\n",
    "    \n",
    "    return precio\n",
    "    \n",
    "print(\"call vale\", precio_bs(60, 65, 0.25, 0.08, 0.3, 'call'))     \n",
    "print(\"put vale\", precio_bs(60, 65, 0.25, 0.08, 0.3, 'put'))     "
   ]
  },
  {
   "cell_type": "code",
   "execution_count": null,
   "metadata": {},
   "outputs": [],
   "source": [
    "#Paridad put-call\n",
    "s = 60\n",
    "t = 0.25\n",
    "r = 0.08\n",
    "k = 65\n",
    "sigma = 0.3\n",
    "c = precio_bs(s, k, t, r, sigma, 'call')\n",
    "p = precio_bs(s, k, t, r, sigma, 'put')\n",
    "print(p - c)\n",
    "print(k * exp(-r * t)  - s)"
   ]
  },
  {
   "cell_type": "code",
   "execution_count": null,
   "metadata": {},
   "outputs": [],
   "source": []
  }
 ],
 "metadata": {
  "kernelspec": {
   "display_name": "Python 3",
   "language": "python",
   "name": "python3"
  },
  "language_info": {
   "codemirror_mode": {
    "name": "ipython",
    "version": 3
   },
   "file_extension": ".py",
   "mimetype": "text/x-python",
   "name": "python",
   "nbconvert_exporter": "python",
   "pygments_lexer": "ipython3",
   "version": "3.7.6"
  }
 },
 "nbformat": 4,
 "nbformat_minor": 4
}
