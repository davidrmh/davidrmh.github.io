{
 "cells": [
  {
   "cell_type": "code",
   "execution_count": null,
   "metadata": {
    "slideshow": {
     "slide_type": "fragment"
    }
   },
   "outputs": [],
   "source": [
    "import numpy as np"
   ]
  },
  {
   "cell_type": "markdown",
   "metadata": {},
   "source": [
    "## Ejercicio\n",
    "\n",
    "Crea un numpy array con 100 elementos $\\{x_i\\}_{i=0}^{99}$ donde\n",
    "$$\n",
    "    x_i = i (i + 100) \\, \\text{ para }  i \\in \\{0, \\ldots, 99\\}\n",
    "$$\n",
    "\n",
    "e.g., $x_{99} = 19701$; $x_{10} = 1100$ "
   ]
  },
  {
   "cell_type": "code",
   "execution_count": null,
   "metadata": {},
   "outputs": [],
   "source": [
    "x = np.arange(100)\n",
    "x = x * (x + 100)\n",
    "print(x[99])\n",
    "print(x[10])"
   ]
  },
  {
   "cell_type": "markdown",
   "metadata": {},
   "source": [
    "# Ejercicio\n",
    "Crea un numpy array en $\\mathbb{R}^{10\\times 10}$ tal que\n",
    "\n",
    "$$\n",
    "x_{i,j} = \n",
    "\\begin{cases}\n",
    "    2(i + 1) & \\forall \\ i = j \\\\\n",
    "    0 & \\forall \\ i \\neq j\n",
    "\\end{cases}\n",
    "$$\n",
    "\n",
    "Considera $i, j \\in \\{0, \\ldots, 9\\}$\n",
    "\n",
    "```python\n",
    "help(np.nonzero)\n",
    "```\n"
   ]
  },
  {
   "cell_type": "code",
   "execution_count": null,
   "metadata": {
    "slideshow": {
     "slide_type": "fragment"
    }
   },
   "outputs": [],
   "source": [
    "x = np.identity(10)\n",
    "print(x)\n",
    "print('-'*30)\n",
    "x[x.nonzero()] = (x.nonzero()[0] + 1) * 2\n",
    "print(x)"
   ]
  },
  {
   "cell_type": "markdown",
   "metadata": {},
   "source": [
    "## Ejercicio\n",
    "\n",
    "Resuelva el siguiente sistema de ecuaciones lineales\n",
    "\n",
    "$$\n",
    "\\begin{matrix}\n",
    " 3x & + & y & = & 9 \\\\\n",
    "x & + & 2y & = & 8\n",
    "\\end{matrix}\n",
    "$$"
   ]
  },
  {
   "cell_type": "code",
   "execution_count": null,
   "metadata": {},
   "outputs": [],
   "source": [
    "#Matriz de coeficientes\n",
    "mat_A = np.array([[3, 1], [1, 2] ])\n",
    "\n",
    "#Vector del lado derecho\n",
    "vect_b = np.array([9 , 8])\n",
    "\n",
    "#Solución\n",
    "sol = np.linalg.solve(mat_A, vect_b)\n",
    "\n",
    "print(sol)\n",
    "\n",
    "#Validamos\n",
    "print(np.allclose(mat_A @ sol, vect_b))"
   ]
  },
  {
   "cell_type": "markdown",
   "metadata": {},
   "source": [
    "## Ejercicio\n",
    "\n",
    "Implemente el producto de matrices sin utilizar numpy.\n",
    "Pruebe su código con los siguientes datos\n",
    "\n",
    "```python\n",
    "A = [ [1,2,3], [4,5,6], [7,8,9] ]\n",
    "B = [ [1,2], [4,5], [7,8] ]\n",
    "```"
   ]
  },
  {
   "cell_type": "code",
   "execution_count": null,
   "metadata": {},
   "outputs": [],
   "source": [
    "A = [ [1,2,3], [4,5,6], [7,8,9]]\n",
    "B = [ [1,2], [4,5], [7,8] ]\n",
    "\n",
    "def obten_columna(matriz, col = 0):\n",
    "    '''\n",
    "    Función para obtener la columna col\n",
    "    de la matriz derecha en el producto\n",
    "    '''\n",
    "    columna = []\n",
    "    for reng in matriz:\n",
    "        columna.append(reng[col])\n",
    "    return columna\n",
    "\n",
    "obten_columna(A, 2)\n",
    "\n",
    "def producto_punto(vect1, vect2):\n",
    "    '''\n",
    "    Función para realizar el producto punto\n",
    "    de dos vectores.\n",
    "    '''\n",
    "    suma = 0\n",
    "    for i in range(len(vect1)):\n",
    "        suma = suma + vect1[i] * vect2[i]\n",
    "    return suma\n",
    "\n",
    "def producto_matrices(mat1, mat2):\n",
    "    '''\n",
    "    Función para realizar el producto\n",
    "    de dos matrices\n",
    "    '''\n",
    "    \n",
    "    producto = []\n",
    "    \n",
    "    for renglon in mat1:\n",
    "        reng_resultado = []\n",
    "        \n",
    "        for i in range(len(mat2[0])):\n",
    "            col_mat2 = obten_columna(mat2, i)\n",
    "            prod_punto = producto_punto(renglon, col_mat2)\n",
    "            reng_resultado.append(prod_punto)\n",
    "        producto.append(reng_resultado)\n",
    "    return producto"
   ]
  },
  {
   "cell_type": "code",
   "execution_count": null,
   "metadata": {},
   "outputs": [],
   "source": [
    "#Se realiza el producto\n",
    "prod = producto_matrices(A, B)\n",
    "\n",
    "#Se valida\n",
    "print(np.allclose(prod, np.matmul(A, B)))"
   ]
  },
  {
   "cell_type": "markdown",
   "metadata": {},
   "source": [
    "## Ejercicio\n",
    "\n",
    "Programe una función que calcule la distancia euclidiana entre dos vectores\n",
    "\n",
    "$$\n",
    "d(\\mathbf{x}, \\mathbf{y}) = \\sqrt{ \\sum_{i=1}^{n} \\left(x_i - y_i \\right)^2 }\n",
    "$$\n",
    "\n",
    "Pruebe su función con los vectores\n",
    "\n",
    "$\\mathbf{x} = (1,2,3)$ y $\\mathbf{y} = (3, 2, 1)$"
   ]
  },
  {
   "cell_type": "code",
   "execution_count": null,
   "metadata": {},
   "outputs": [],
   "source": [
    "def distancia(punto1, punto2):\n",
    "    return np.sqrt( np.sum( (punto1 - punto2)**2 ) )"
   ]
  },
  {
   "cell_type": "code",
   "execution_count": null,
   "metadata": {},
   "outputs": [],
   "source": [
    "x = np.array([1,2,3])\n",
    "y = np.array([3,2,1])\n",
    "dist = distancia(x,y)\n",
    "print(dist)"
   ]
  },
  {
   "cell_type": "code",
   "execution_count": null,
   "metadata": {},
   "outputs": [],
   "source": []
  }
 ],
 "metadata": {
  "celltoolbar": "Slideshow",
  "kernelspec": {
   "display_name": "Python 3",
   "language": "python",
   "name": "python3"
  },
  "language_info": {
   "codemirror_mode": {
    "name": "ipython",
    "version": 3
   },
   "file_extension": ".py",
   "mimetype": "text/x-python",
   "name": "python",
   "nbconvert_exporter": "python",
   "pygments_lexer": "ipython3",
   "version": "3.7.6"
  }
 },
 "nbformat": 4,
 "nbformat_minor": 4
}
