{
 "cells": [
  {
   "cell_type": "markdown",
   "metadata": {},
   "source": [
    "<h2 style=\"color:#B22222\"> Ejercicios </h2>\n",
    "\n",
    "1. Considera la lista `numeros0` y cálcula el valor promedio\n",
    "```python\n",
    "numeros0 = [1, 1, 2, 3, 5, 8, 13]\n",
    "```\n",
    "2. Considera la lista `numeros1` y cálcula la suma del primero, el último y el número en medio de la lista (**nota:** El número de elementos en la lista es impar)\n",
    "```python\n",
    "numeros1 = [0, 7, 20, 11, 1, 17, 4, 13, 9, 0, 12, 18, 5, 10, 8, 0, 10, 6, 19, 19, 10, 9, 4, 4, 18, 18, 0]\n",
    "```\n",
    "3. Considerando `list1`, reemplaza cada elemento `\"a\"` por `\"*\"\n",
    "```python\n",
    "list1 = [\"a\", \"b\", \"a\", \"d\", \"a\", \"a\", \"c\"]\n",
    "```\n",
    "\n",
    "**Sugerencia**\n",
    "\n",
    "```python\n",
    "help(list.index)\n",
    "```\n",
    "\n",
    "4. Piense en otra forma de solucionar el ejercicio 3.\n",
    "\n",
    "**Sugerencia**\n",
    "\n",
    "```python\n",
    "help(str.join)\n",
    "```"
   ]
  },
  {
   "cell_type": "code",
   "execution_count": null,
   "metadata": {},
   "outputs": [],
   "source": [
    "# 1\n",
    "numeros0 = [1, 1, 2, 3, 5, 8, 13]\n",
    "prom = sum(numeros0) / len(numeros0)\n",
    "print(prom)"
   ]
  },
  {
   "cell_type": "code",
   "execution_count": null,
   "metadata": {},
   "outputs": [],
   "source": [
    "# 2\n",
    "\n",
    "numeros1 = [0, 7, 20, 11, 1, 17, 4, 13, 9, 0, 12, 18, 5, 10, 8, 0, 10, 6, 19, 19, 10, 9, 4, 4, 18, 18, 0]\n",
    "\n",
    "primero = numeros1[0]\n",
    "ultimo = numeros1[-1]\n",
    "medio = numeros1[len(numeros1) // 2]\n",
    "\n",
    "suma = primero + ultimo + medio\n",
    "print(suma)"
   ]
  },
  {
   "cell_type": "code",
   "execution_count": null,
   "metadata": {},
   "outputs": [],
   "source": [
    "# 3\n",
    "list1 = [\"a\", \"b\", \"a\", \"d\", \"a\", \"a\", \"c\"]\n",
    "indice = list1.index('a', 0)\n",
    "list1[indice] = '*'\n",
    "print(list1)\n",
    "indice = list1.index('a')\n",
    "list1[indice] = '*'\n",
    "print(list1)\n",
    "indice = list1.index('a')\n",
    "list1[indice] = '*'\n",
    "print(list1)\n",
    "indice = list1.index('a')\n",
    "list1[indice] = '*'\n",
    "print(list1)"
   ]
  },
  {
   "cell_type": "code",
   "execution_count": null,
   "metadata": {},
   "outputs": [],
   "source": [
    "# 4\n",
    "\n",
    "list1 = [\"a\", \"b\", \"a\", \"d\", \"a\", \"a\", \"c\"]\n",
    "aux_string = '-'.join(list1)\n",
    "print(aux_string)\n",
    "aux_string = aux_string.replace('a', '*')\n",
    "print(aux_string)\n",
    "lista2 = aux_string.split('-')\n",
    "print(lista2)"
   ]
  },
  {
   "cell_type": "markdown",
   "metadata": {},
   "source": [
    "<h2 style=\"color:#B22222\"> Ejercicio </h2>\n",
    "\n",
    "Sin utilizar una variable auxiliar intercambie los valores de *x* y *y*\n",
    "```python\n",
    "x = 10\n",
    "y = 5\n",
    "```"
   ]
  },
  {
   "cell_type": "code",
   "execution_count": null,
   "metadata": {},
   "outputs": [],
   "source": [
    "x = 10\n",
    "y = 5\n",
    "x, y = y, x\n",
    "print(x)\n",
    "print(y)"
   ]
  },
  {
   "cell_type": "markdown",
   "metadata": {},
   "source": [
    "<h2 style=\"color:#B22222\"> Ejercicio </h2>\n",
    "\n",
    "1. Dado el diccionario `vocales`, accede al primer elemento dentro de la llave `\"minusculas\"`\n",
    "```python\n",
    "vocales = {\n",
    "    \"mayusculas\": ['A', 'E', 'I', 'O', 'U'],\n",
    "    \"minusculas\": ['a', 'e', 'i', 'o', 'u']\n",
    "}\n",
    "```\n",
    "2. Modifica el diccionario `alumnos` de tal manera que cada llave del diccionario sea el nombre del estudiante y el valor un diccionario adicional con las llaves `\"edad\"`, `\"color_favorito\"`, `\"carrera\"`, asignados a sus valores correspondientes.\n",
    "\n",
    "\n",
    "```python\n",
    "alumnos = {\n",
    "    \"José\":  [11, \"rojo\", \"Administración\"],\n",
    "    \"Charlie\": [33, \"Violeta\", \"Ingeniería\"]\n",
    "}\n",
    "```\n",
    "\n",
    "\n",
    "3. ¿Cuál es la longitud del set `{'q', 'u', 'e', 'u', 'e'}`? Explica.\n",
    "4. Considerando los conjuntos `investor1`, `investor2` e `investor3`\n",
    "    * Encuentra todas las acciones que `investor1`, `investor2`, `investor3` e `investor4` tienen en conjunto\n",
    "    * Encuentra las acciones que `investor1`, `investor3` e `investor4` tienen en común\n",
    "\n",
    "```python\n",
    "investor1 = {'HOTEL', 'CHDRAUI', 'ALPEK', 'VISTA', 'MFRISCO', 'AHMSA', 'LAB', 'SPORT', 'SAVIA', 'LASEG'}\n",
    "investor2 = {'CMOCTEZ', 'BEVIDES', 'OMA', 'GNP', 'AGRIEXP', 'SPORT', 'TRAXION', 'GENTERA', 'COLLADO', 'LAMOSA'}\n",
    "investor3 = {'FEMSA', 'ALSEA', 'BIMBO', 'ELEMENT', 'FINAMEX', 'GCC', 'VISTA', 'GEO', 'IENOVA', 'OMA', 'CADU', 'ANB', 'AUTLAN', 'GICSA', 'GFNORTE', 'IDEAL', 'MEXCHEM', 'ELEKTRA', 'SITES', 'CABLE'}\n",
    "investor4 = {'GENTERA', 'BOLSA', 'VISTA', 'TEAK', 'ACCELSA', 'CUERVO', 'TEKCHEM', 'QBINDUS', 'MEDICA', 'URBI', 'CIE', 'NEMAK', 'KIMBER', 'GPH', 'GMD', 'ACTINVR', 'GAP', 'JAVER', 'INGEAL', 'ARA'}\n",
    "```"
   ]
  },
  {
   "cell_type": "code",
   "execution_count": null,
   "metadata": {},
   "outputs": [],
   "source": [
    "# 1\n",
    "\n",
    "vocales = {\n",
    " \"mayusculas\": ['A', 'E', 'I', 'O', 'U'],\n",
    " \"minusculas\": ['a', 'e', 'i', 'o', 'u']\n",
    "}\n",
    "\n",
    "print(vocales)\n",
    "lista = vocales['minusculas']\n",
    "print(lista)\n",
    "print(lista[0])\n",
    "\n",
    "#De manera más breve\n",
    "print(vocales['minusculas'][0])"
   ]
  },
  {
   "cell_type": "code",
   "execution_count": null,
   "metadata": {},
   "outputs": [],
   "source": [
    "# 2\n",
    "alumnos = {\n",
    "    \"José\":  [11, \"rojo\", \"Administración\"],\n",
    "    \"Charlie\": [33, \"Violeta\", \"Ingeniería\"]\n",
    "}\n",
    "\n",
    "alumnos['José'] = {'Edad': 11, 'color':'rojo', 'carrera': 'Admon'}\n",
    "alumnos['Charlie'] = {'Edad': 33, 'color':'violeta', 'carrera': 'Ing'}\n",
    "\n",
    "alumnos['Charlie']['Edad']"
   ]
  },
  {
   "cell_type": "code",
   "execution_count": null,
   "metadata": {},
   "outputs": [],
   "source": [
    "# 3\n",
    "# Los conjunto no contienen elementos repetidos\n",
    "conjunto = {'q', 'u', 'e', 'u', 'e'}\n",
    "print(len(conjunto))"
   ]
  },
  {
   "cell_type": "code",
   "execution_count": null,
   "metadata": {},
   "outputs": [],
   "source": [
    "# 4\n",
    "investor1 = {'HOTEL', 'CHDRAUI', 'ALPEK', 'VISTA', 'MFRISCO', 'AHMSA', 'LAB', 'SPORT', 'SAVIA', 'LASEG'}\n",
    "investor2 = {'CMOCTEZ', 'BEVIDES', 'OMA', 'GNP', 'AGRIEXP', 'SPORT', 'TRAXION', 'GENTERA', 'COLLADO', 'LAMOSA'}\n",
    "investor3 = {'FEMSA', 'ALSEA', 'BIMBO', 'ELEMENT', 'FINAMEX', 'GCC', 'VISTA', 'GEO', 'IENOVA', 'OMA', 'CADU', 'ANB', 'AUTLAN', 'GICSA', 'GFNORTE', 'IDEAL', 'MEXCHEM', 'ELEKTRA', 'SITES', 'CABLE'}\n",
    "investor4 = {'GENTERA', 'BOLSA', 'VISTA', 'TEAK', 'ACCELSA', 'CUERVO', 'TEKCHEM', 'QBINDUS', 'MEDICA', 'URBI', 'CIE', 'NEMAK', 'KIMBER', 'GPH', 'GMD', 'ACTINVR', 'GAP', 'JAVER', 'INGEAL', 'ARA'}"
   ]
  },
  {
   "cell_type": "code",
   "execution_count": null,
   "metadata": {},
   "outputs": [],
   "source": [
    "investor1 | investor2 | investor3 | investor4"
   ]
  },
  {
   "cell_type": "code",
   "execution_count": null,
   "metadata": {},
   "outputs": [],
   "source": [
    "investor1.union(investor2).union(investor3).union(investor4)"
   ]
  },
  {
   "cell_type": "code",
   "execution_count": null,
   "metadata": {},
   "outputs": [],
   "source": [
    "investor1  & investor3 & investor4"
   ]
  },
  {
   "cell_type": "code",
   "execution_count": null,
   "metadata": {},
   "outputs": [],
   "source": [
    "investor1.intersection(investor3).intersection(investor4)"
   ]
  },
  {
   "cell_type": "code",
   "execution_count": null,
   "metadata": {},
   "outputs": [],
   "source": []
  }
 ],
 "metadata": {
  "kernelspec": {
   "display_name": "Python 3",
   "language": "python",
   "name": "python3"
  },
  "language_info": {
   "codemirror_mode": {
    "name": "ipython",
    "version": 3
   },
   "file_extension": ".py",
   "mimetype": "text/x-python",
   "name": "python",
   "nbconvert_exporter": "python",
   "pygments_lexer": "ipython3",
   "version": "3.7.6"
  }
 },
 "nbformat": 4,
 "nbformat_minor": 4
}
