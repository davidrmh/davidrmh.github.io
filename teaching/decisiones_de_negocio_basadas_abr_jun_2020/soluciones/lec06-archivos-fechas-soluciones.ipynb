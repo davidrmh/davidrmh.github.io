{
 "cells": [
  {
   "cell_type": "markdown",
   "metadata": {},
   "source": [
    "# Ejercicio\n",
    "\n",
    "A partir del archivo ```operaciones.csv``` programe una función que cree otro archivo en donde además del contenido de ```operaciones.csv```, este nuevo archivo debe de tener la columna `Resultado` en donde se debe de poner el resultado de la operación indicada.\n",
    "\n",
    "Por ejemplo\n",
    "\n",
    "*operaciones.csv*\n",
    "\n",
    "|Izquierdo|Derecho|Operador|\n",
    "|---------|-------|--------|\n",
    "|1|5|+|\n",
    "|4|2|/|\n",
    "\n",
    "\n",
    "*resultado.csv*\n",
    "\n",
    "|Izquierdo|Derecho|Operador|Resultado|\n",
    "|---------|-------|--------|---------|\n",
    "|1|5|+|1 + 5 es 6\n",
    "|4|2|/|4 / 2 es 2.0|\n",
    "\n",
    "\n",
    "**Sugerencia**\n",
    "\n",
    "```python\n",
    "eval('1 + 5')\n",
    "\n",
    "help(str.join)\n",
    "```"
   ]
  },
  {
   "cell_type": "code",
   "execution_count": null,
   "metadata": {},
   "outputs": [],
   "source": [
    "def crea_csv(path_csv, path_out):\n",
    "    '''\n",
    "    path_csv: string con la ruta del archivo csv\n",
    "    path_out: string con la ruta del archivo que se crea\n",
    "    '''\n",
    "    #Auxiliar para considerar los encabezados\n",
    "    aux_header = True\n",
    "    \n",
    "    #Abre (crea) archivo salida\n",
    "    f_out = open(path_out, 'w')\n",
    "    \n",
    "    with open(path_csv, 'r') as f:\n",
    "        \n",
    "        for renglon in f:\n",
    "            \n",
    "            #Revisa si es el encabezado\n",
    "            if aux_header:\n",
    "                #Escribe encabezados\n",
    "                f_out.write('Izquierdo,Derecho,Operador,Resultado\\n')\n",
    "                aux_header = False\n",
    "            else:\n",
    "                #Obtiene datos del renglón\n",
    "                izq, der, op = renglon.split(',')\n",
    "                \n",
    "                #op es un string que tiene \\n\n",
    "                #es necesario removerlo\n",
    "                op = op.replace('\\n', '')\n",
    "                \n",
    "                #calcula el resultado\n",
    "                res = eval(izq + op + der)\n",
    "                \n",
    "                #crea el contenido de la columna Resultado\n",
    "                res_str = izq + ' ' + op  + ' ' + der + ' es ' + str(res)\n",
    "                \n",
    "                #Crea el renglón que se escribirá\n",
    "                reng_out = ','.join([izq, der, op, res_str]) + '\\n'\n",
    "                \n",
    "                #Escribe reng_out\n",
    "                f_out.write(reng_out)\n",
    "                \n",
    "    #Cierra el archivo de salida\n",
    "    f_out.close()\n",
    "    \n",
    "    print('Archivo creado')"
   ]
  },
  {
   "cell_type": "code",
   "execution_count": null,
   "metadata": {},
   "outputs": [],
   "source": [
    "path_csv = '../datos/operaciones.csv'\n",
    "path_out = '../datos/operaciones_resultado.csv'\n",
    "crea_csv(path_csv, path_out)"
   ]
  },
  {
   "cell_type": "markdown",
   "metadata": {},
   "source": [
    "# Ejercicio\n",
    "\n",
    "Utilizando el archivo `n_lineas.txt` programe una función que imprima las primeras `n` líneas del archivo o las últimas `n` lineas."
   ]
  },
  {
   "cell_type": "code",
   "execution_count": null,
   "metadata": {},
   "outputs": [],
   "source": [
    "def n_lineas(path, n = 10, top = True):\n",
    "    '''\n",
    "    path: string con la ruta del archivo\n",
    "    \n",
    "    n: entero con las líneas a imprimir\n",
    "    \n",
    "    top. Booleano. True => las primeras n líneas, False => Las últimas n líneas\n",
    "    '''\n",
    "    \n",
    "    #Para contar líneas\n",
    "    cont = 0\n",
    "    \n",
    "    with open(path, 'r') as f:\n",
    "        #para almacenar las líneas\n",
    "        lista_n = []\n",
    "        \n",
    "        #Primeras n líneas\n",
    "        if top:\n",
    "            for linea in f:\n",
    "                #Si todavía no se almacenan\n",
    "                #n líneas, se agrega una mas\n",
    "                if cont < n:\n",
    "                    cont = cont + 1\n",
    "                    lista_n.append(linea)\n",
    "        #últimas n líneas\n",
    "        else:\n",
    "            for linea in f:\n",
    "                #Se agregan líneas\n",
    "                #y si ya se tiene más de\n",
    "                #n líneas, se remueve la\n",
    "                #primera que se agregó\n",
    "                lista_n.append(linea)\n",
    "                if len(lista_n) > n:\n",
    "                    lista_n.pop(0)\n",
    "\n",
    "            \n",
    "    #Imprime las líneas\n",
    "    if top:\n",
    "        print('Las primeras', str(n), 'líneas son:')\n",
    "        for linea in lista_n:\n",
    "            print(linea)\n",
    "            \n",
    "    else:\n",
    "        print('Las últimas', str(n), 'líneas son:')\n",
    "        for linea in lista_n:\n",
    "            print(linea)"
   ]
  },
  {
   "cell_type": "code",
   "execution_count": null,
   "metadata": {},
   "outputs": [],
   "source": [
    "path = '../datos/n_lineas.txt'\n",
    "n_lineas(path, 10, True)"
   ]
  },
  {
   "cell_type": "markdown",
   "metadata": {},
   "source": [
    "# Ejercicios (business day conventions)\n",
    "\n",
    "Programe las siguiente funciones para ajustar los días de acuerdo a una convención dada.\n",
    "\n",
    "\n",
    "## Following business day rule\n",
    "\n",
    "Cuando la fecha de un pago cae en fin de semana o día festivo, esta fecha es ajustada para que sea el día hábil siguiente más cercano.\n",
    "\n",
    "Programe una función que haga dicho ajuste.\n",
    "\n",
    "```python\n",
    "def following_day_rule(fecha = '2019/11/01', festivos = ['2019/11/01']):\n",
    "```\n",
    "\n",
    "* Fecha de pago 2019/11/01\n",
    "* Día festivo 2019/11/01\n",
    "* Fecha ajustada 2019/11/04\n",
    "\n",
    "## Modified following business day rule\n",
    "\n",
    "Cuando la fecha de un pago es un fin de semana o día festivo, esta fecha es ajustada para que sea el día hábil siguiente más cercano. Sin embargo, si dicho día no está dentro del mismo mes, entonces la fecha se ajusta para que sea el día hábil anterior más cercano a la fecha de pago.\n",
    "\n",
    "Programe una función que haga dicho ajuste.\n",
    "\n",
    "```python\n",
    "def mod_foll_rule(fecha = '2019/11/29', festivos = ['2019/11/29']):\n",
    "```\n",
    "\n",
    "* Fecha de pago 2019/11/29\n",
    "* Día festivo 2019/11/29\n",
    "* Fecha ajustada 2019/11/28\n",
    "\n",
    "## Preceding business day rule\n",
    "\n",
    "Cuando la fecha de pago es un fin de semana o día festivo, esta fecha es ajustada para que sea el día hábil anterior más cercano.\n",
    "\n",
    "Programe una función que haga dicho ajuste.\n",
    "\n",
    "```python\n",
    "def pre_day_rule(fecha = '2019/11/01', festivos = ['2019/11/01']):\n",
    "```\n",
    "\n",
    "* Fecha de pago 2019/11/04\n",
    "* Festivos 2019/11/01 y 2019/11/04\n",
    "* Fecha ajustada 2019/10/31\n",
    "\n",
    "## Modified preceding business day rule\n",
    "\n",
    "Cuando la fecha de pago es un fin de semana o días festivo, la fecha se ajusta para que sea el día hábil anterior más cercano. Sin embargo, si este día no está dentro del mismo mes, esta fecha se ajusta para que sea el día hábil siguiente más cercano a la fecha de pago.\n",
    "\n",
    "```python\n",
    "def mod_pre_day_rule(fecha = '2019/11/01', festivos = ['2019/11/01']):\n",
    "```\n",
    "* Fecha de pago 2019/11/04\n",
    "* Festivos 2019/11/01 y 2019/11/04\n",
    "* Fecha ajustada 2019/11/05\n"
   ]
  },
  {
   "cell_type": "code",
   "execution_count": null,
   "metadata": {},
   "outputs": [],
   "source": [
    "from datetime import datetime, timedelta"
   ]
  },
  {
   "cell_type": "markdown",
   "metadata": {
    "slideshow": {
     "slide_type": "slide"
    }
   },
   "source": [
    "\n"
   ]
  },
  {
   "cell_type": "code",
   "execution_count": null,
   "metadata": {},
   "outputs": [],
   "source": [
    "############ Following business day rule #########################\n",
    "festivo = datetime.strptime('2019/11/01', '%Y/%m/%d')\n",
    "festivos = [festivo]\n",
    "\n",
    "def following_day_rule(fecha = '2019/11/01', festivos = []):\n",
    "    #convierte  a datetime\n",
    "    fecha = datetime.strptime(fecha, '%Y/%m/%d')\n",
    "    \n",
    "    while fecha.weekday() in [5,6] or fecha in festivos:\n",
    "        fecha = fecha + timedelta(days = 1)\n",
    "    return fecha    \n",
    "\n",
    "following_day_rule(festivos = festivos)"
   ]
  },
  {
   "cell_type": "code",
   "execution_count": null,
   "metadata": {},
   "outputs": [],
   "source": [
    "############ Modified following business day rule #########################\n",
    "\n",
    "festivo = datetime.strptime('2019/11/29', '%Y/%m/%d')\n",
    "festivos = [festivo]\n",
    "\n",
    "def mod_foll_rule(fecha = '2019/11/29', festivos=[]):\n",
    "    \n",
    "    fecha_dt = datetime.strptime(fecha, '%Y/%m/%d')\n",
    "    \n",
    "    #Primero aplica following_day_rule\n",
    "    nueva_fecha = following_day_rule(fecha, festivos)\n",
    "    \n",
    "    if nueva_fecha.month == fecha_dt.month:\n",
    "        return nueva_fecha\n",
    "    else:\n",
    "        while nueva_fecha.month != fecha_dt.month or nueva_fecha.weekday() in [5,6] or nueva_fecha in festivos:\n",
    "            nueva_fecha = nueva_fecha - timedelta(days = 1)\n",
    "        return nueva_fecha\n",
    "\n",
    "mod_foll_rule(festivos = festivos)"
   ]
  },
  {
   "cell_type": "code",
   "execution_count": null,
   "metadata": {},
   "outputs": [],
   "source": [
    "################### Preceding business day rule ####################\n",
    "festivo1 = datetime.strptime('2019/11/04', '%Y/%m/%d')\n",
    "festivo2 = datetime.strptime('2019/11/01', '%Y/%m/%d')\n",
    "festivos = [festivo1, festivo2]\n",
    "def pre_day_rule(fecha = '2019/11/04', festivos = []):\n",
    "    nueva_fecha = datetime.strptime(fecha, '%Y/%m/%d')\n",
    "    \n",
    "    while nueva_fecha.weekday() in [5,6] or nueva_fecha in festivos:\n",
    "        nueva_fecha = nueva_fecha - timedelta(days=1)\n",
    "    return nueva_fecha\n",
    "pre_day_rule(festivos = festivos)"
   ]
  },
  {
   "cell_type": "code",
   "execution_count": null,
   "metadata": {},
   "outputs": [],
   "source": [
    "################### Modified preceding business day rule ####################\n",
    "\n",
    "festivo1 = datetime.strptime('2019/11/04', '%Y/%m/%d')\n",
    "festivo2 = datetime.strptime('2019/11/01', '%Y/%m/%d')\n",
    "festivos = [festivo1, festivo2]\n",
    "\n",
    "def mod_pre_day_rule(fecha = '2019/11/04', festivos = []):\n",
    "    fecha_dt = datetime.strptime(fecha, '%Y/%m/%d')\n",
    "    \n",
    "    #Primero aplica pre_day_rule\n",
    "    nueva_fecha = pre_day_rule(fecha, festivos)\n",
    "    \n",
    "    if nueva_fecha.month == fecha_dt.month:\n",
    "        return nueva_fecha\n",
    "    else:\n",
    "        while nueva_fecha.month != fecha_dt.month or nueva_fecha.weekday() in [5,6] or nueva_fecha in festivos:\n",
    "            nueva_fecha = nueva_fecha + timedelta(days = 1)\n",
    "        return nueva_fecha    \n",
    "mod_pre_day_rule(festivos = festivos)   "
   ]
  },
  {
   "cell_type": "code",
   "execution_count": null,
   "metadata": {},
   "outputs": [],
   "source": []
  }
 ],
 "metadata": {
  "celltoolbar": "Slideshow",
  "kernelspec": {
   "display_name": "Python 3",
   "language": "python",
   "name": "python3"
  },
  "language_info": {
   "codemirror_mode": {
    "name": "ipython",
    "version": 3
   },
   "file_extension": ".py",
   "mimetype": "text/x-python",
   "name": "python",
   "nbconvert_exporter": "python",
   "pygments_lexer": "ipython3",
   "version": "3.7.6"
  },
  "nbdime-conflicts": {
   "local_diff": [
    {
     "key": "language_info",
     "op": "add",
     "value": {
      "codemirror_mode": {
       "name": "ipython",
       "version": 3
      },
      "file_extension": ".py",
      "mimetype": "text/x-python",
      "name": "python",
      "nbconvert_exporter": "python",
      "pygments_lexer": "ipython3",
      "version": "3.6.8"
     }
    }
   ],
   "remote_diff": [
    {
     "key": "language_info",
     "op": "add",
     "value": {
      "codemirror_mode": {
       "name": "ipython",
       "version": 3
      },
      "file_extension": ".py",
      "mimetype": "text/x-python",
      "name": "python",
      "nbconvert_exporter": "python",
      "pygments_lexer": "ipython3",
      "version": "3.7.3"
     }
    }
   ]
  }
 },
 "nbformat": 4,
 "nbformat_minor": 4
}
