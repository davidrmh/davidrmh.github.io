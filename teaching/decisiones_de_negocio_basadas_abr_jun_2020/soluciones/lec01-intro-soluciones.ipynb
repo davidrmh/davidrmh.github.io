{
 "cells": [
  {
   "cell_type": "markdown",
   "metadata": {},
   "source": [
    "<h2 style=\"color:#B22222\">Ejercicios</h2>\n",
    "\n",
    "1. Lea la documentación de la función ```find``` y pruébela con el siguiente texto\n",
    "```python\n",
    "\"Una gran gran máquina\"\n",
    "```\n",
    "¿cómo localizaría la posición del segundo ```gran```?\n",
    "\n",
    "2. ¿Qué sucede al correr el siguiente programa: `\"Una gran maquina\".find()`?\n",
    "\n",
    "3. Crea un programa que transforme el siguiente string en minúsculas `\"MINUSCULAS\"` (*hint*: usa el método `.lower`)"
   ]
  },
  {
   "cell_type": "code",
   "execution_count": null,
   "metadata": {},
   "outputs": [],
   "source": [
    "\"Una gran gran máquina\".find('gran', \"Una gran gran máquina\".find('gran') + 1)"
   ]
  },
  {
   "cell_type": "code",
   "execution_count": null,
   "metadata": {},
   "outputs": [],
   "source": [
    "#Error\n",
    "\"Una gran maquina\".find()"
   ]
  },
  {
   "cell_type": "code",
   "execution_count": null,
   "metadata": {},
   "outputs": [],
   "source": [
    "\"MINÚSCULAS\".lower()"
   ]
  },
  {
   "cell_type": "markdown",
   "metadata": {},
   "source": [
    "<h2 style=\"color:#B22222\">Ejercicios</h2>\n",
    "\n",
    "Dado el string `\"Python\"`,\n",
    "1. Obten del primer al tercer carácter\n",
    "2. Obten del tercer al último carácter\n",
    "3. Obten del segundo al cuárto carácter\n",
    "4. ¿En que resulta la siguiente línea de código: `\"Python\"[::2]`? ¿Qué efecto tuvo sobre el string?\n",
    "5. ¿En que resulta la siguiente línea de código: `\"Python\"[::-1]`?\n",
    "6. Explica que hace el siguiente slicing `\"string\"[ini:fin:k]`, para enteros no negativos `ini`, `fin` y `k`."
   ]
  },
  {
   "cell_type": "code",
   "execution_count": null,
   "metadata": {},
   "outputs": [],
   "source": [
    "cadena = \"Python\"\n",
    "print(cadena[0:3])\n",
    "print(cadena[2:])\n",
    "print(cadena[1:4])\n",
    "print(cadena[::2])\n",
    "print(cadena[::-1])\n",
    "print(cadena[0::2])\n",
    "print(cadena[-1:-5:-1])"
   ]
  },
  {
   "cell_type": "markdown",
   "metadata": {},
   "source": [
    "<h2 style=\"color:#B22222\">Ejercicios</h2>\n",
    "\n",
    "1. Calcula el valor presente de un bono cupón zero con valor nominal $C=100$, tasa de interés pagadera anual $i=7\\%$ y vencimiento a  $t=10$ años. El precio del bono cupón zero está dado por\n",
    "\n",
    "$$\n",
    "    \\frac{C}{(1 + i)^t}\n",
    "$$\n",
    "\n",
    "2. Modifica el programa anterior: por medio de la función `input`, pídele al usuario un valor nominal `C`, una tasa de interés `i` y un vencimiento a `y` años. Calcula el valor del bono cupón zero y guárdala dentro de la variable `B`.\n",
    "\n",
    "3. Escribe un programa que pida el nombre y la edad del usuario. Posteriormente, deberá imprimir el nombre del usuario repetido el mismo número de su edad; cada repetición del nombre en una nueva línea. Por ejemplo, para un usuario `\"Toño\"` con `5` años de edad, el programa deberá mostrar lo siguiente:\n",
    "```\n",
    "¿Cuál es tu nombre? Toño\n",
    "¿Cuál es tu edad? 5\n",
    "Toño\n",
    "Toño\n",
    "Toño\n",
    "Toño\n",
    "Toño\n",
    "```\n",
    "\n",
    "**Sugerencia** http://python-ds.com/python-3-escape-sequences\n",
    "\n",
    "4. Considerando la variable `trabalenguas` elimine todas las `\"r\"` y `\"s\"` del string.\n",
    "```python\n",
    "trabalenguas = \"\"\"En tres tristes trastos de trigo,\n",
    "tres tristes tigres comían trigo.\n",
    "Comían trigo, tres tristes tigres,\n",
    "en tres tristes trastos de trigo.\"\"\"\n",
    "```\n",
    "5. Escribe un programa que le pida al usuario una `frase` y una `palabra_objetivo`; el programa deberá imprimir en la pantalla todos los carácteres posteriores (sin espacios extras) a la palabra objetivo. Por ejemplo, si `frase = \"Como valuar un forward-starting swap\"` y `palabra_objetivo = \"un\"`, el programa debe regresar `forward-starting swap`."
   ]
  },
  {
   "cell_type": "code",
   "execution_count": 1,
   "metadata": {},
   "outputs": [
    {
     "name": "stdin",
     "output_type": "stream",
     "text": [
      "Dame nominal 100\n",
      "Dame tasa 0.07\n",
      "Dame plazo 10\n"
     ]
    },
    {
     "name": "stdout",
     "output_type": "stream",
     "text": [
      "El valor del bono es 50.83\n"
     ]
    }
   ],
   "source": [
    "# 1 y 2\n",
    "nominal = float(input('Dame nominal'))\n",
    "tasa = float(input('Dame tasa'))\n",
    "plazo = float(input('Dame plazo'))\n",
    "\n",
    "B = nominal / (1 + tasa)**plazo \n",
    "print(f'El valor del bono es {format(B, \",.2f\")}')"
   ]
  },
  {
   "cell_type": "code",
   "execution_count": 2,
   "metadata": {},
   "outputs": [
    {
     "name": "stdin",
     "output_type": "stream",
     "text": [
      "¿Cuál es tu nombre? David\n",
      "¿Cuál es tu edad? 30\n"
     ]
    },
    {
     "name": "stdout",
     "output_type": "stream",
     "text": [
      "David\n",
      "David\n",
      "David\n",
      "David\n",
      "David\n",
      "David\n",
      "David\n",
      "David\n",
      "David\n",
      "David\n",
      "David\n",
      "David\n",
      "David\n",
      "David\n",
      "David\n",
      "David\n",
      "David\n",
      "David\n",
      "David\n",
      "David\n",
      "David\n",
      "David\n",
      "David\n",
      "David\n",
      "David\n",
      "David\n",
      "David\n",
      "David\n",
      "David\n",
      "David\n",
      "\n"
     ]
    }
   ],
   "source": [
    "# 3\n",
    "nombre = input('¿Cuál es tu nombre?')\n",
    "rep = int(input('¿Cuál es tu edad?'))\n",
    "\n",
    "print((nombre + '\\n') * rep)"
   ]
  },
  {
   "cell_type": "code",
   "execution_count": 4,
   "metadata": {},
   "outputs": [
    {
     "name": "stdout",
     "output_type": "stream",
     "text": [
      "en te tite tato de tigo,\n",
      "te tite tige comían tigo.\n",
      "comían tigo, te tite tige,\n",
      "en te tite tato de tigo.\n"
     ]
    }
   ],
   "source": [
    "# 4\n",
    "trabalenguas = \"\"\"En treS tRistes trastos de trigo,\n",
    "tres tristes tigres comían tRigo.\n",
    "Comían trigo, tres tristes tigres,\n",
    "en tres tristes trastos de tRigo.\"\"\"\n",
    "\n",
    "resultado = trabalenguas.lower().replace('r', '').replace('s','')\n",
    "#resultado = trabalenguas.lower()\n",
    "#resultado = resultado.replace('r', '')\n",
    "#resultado = resultado.replace('s', '')\n",
    "print(resultado)\n"
   ]
  },
  {
   "cell_type": "code",
   "execution_count": 7,
   "metadata": {},
   "outputs": [
    {
     "name": "stdout",
     "output_type": "stream",
     "text": [
      "valuar un forward-starting swap\n"
     ]
    }
   ],
   "source": [
    "# 5\n",
    "frase = 'Como valuar un forward-starting swap'\n",
    "palabra_objetivo = 'Como'\n",
    "\n",
    "resultado = frase[frase.find(palabra_objetivo) + len(palabra_objetivo) :  ].strip()\n",
    "\n",
    "print(resultado)"
   ]
  },
  {
   "cell_type": "code",
   "execution_count": null,
   "metadata": {},
   "outputs": [],
   "source": []
  }
 ],
 "metadata": {
  "kernelspec": {
   "display_name": "Python 3",
   "language": "python",
   "name": "python3"
  },
  "language_info": {
   "codemirror_mode": {
    "name": "ipython",
    "version": 3
   },
   "file_extension": ".py",
   "mimetype": "text/x-python",
   "name": "python",
   "nbconvert_exporter": "python",
   "pygments_lexer": "ipython3",
   "version": "3.7.6"
  }
 },
 "nbformat": 4,
 "nbformat_minor": 4
}
