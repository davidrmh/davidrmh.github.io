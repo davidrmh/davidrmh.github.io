{
 "cells": [
  {
   "cell_type": "markdown",
   "metadata": {
    "slideshow": {
     "slide_type": "slide"
    }
   },
   "source": [
    "<h1 style=\"color:#872325\">Loops</h1>"
   ]
  },
  {
   "cell_type": "markdown",
   "metadata": {},
   "source": [
    "Los cíclos o *loops* son comunmente usados cuando tenemos un bloque de código el cuál deseamos repetir un número finito de veces.\n",
    "\n",
    "Supongamos queremos calcular el área ($A = \\pi r^2$) de un número $n$ de círculos. Dada una lista de radios `radios = [1, 3, 5, 2, 1, 10]` y considerando `pi = 3.14159265`. ¿De qué manera podríamos calcular el área de cada uno de los círculos?\n",
    "\n",
    "Una primera manera sería considerar cada elemento dentro de \"radios\" e imprimir el resultado\n",
    "```python\n",
    "radios = [1, 3, 5, 2, 1, 10]\n",
    "pi = 3.14159265\n",
    "print(pi * radios[0] ** 2)\n",
    "print(pi * radios[1] ** 2)\n",
    "print(pi * radios[2] ** 2)\n",
    "print(pi * radios[3] ** 2)\n",
    "print(pi * radios[4] ** 2)\n",
    "print(pi * radios[5] ** 2)\n",
    "```"
   ]
  },
  {
   "cell_type": "markdown",
   "metadata": {},
   "source": [
    "La desventaja de hacerlo de esta manera es tener que escribir cada uno de los índices y repetir `print` para cada uno de los elementos ¿Estaría dispuesto a calcular el área de 500 círculos utilizando este método?\n",
    "\n",
    "En este caso, sería conveniente tener una manera de iterar sobre los índices de la lista ```radios``` e ir imprimiendo el área correspondiente al elemento ```radios[i]```.\n"
   ]
  },
  {
   "cell_type": "markdown",
   "metadata": {
    "slideshow": {
     "slide_type": "slide"
    }
   },
   "source": [
    "## Cíclos `For` \n",
    "Usamos un cíclo `for` cuando **conocemos exactamente** el número de veces que deseamos que se ejecute un bloque de código. El ejemplo anterior es un caso para usar un *for*.\n",
    "\n",
    "La sintaxis para un *for* en python es la siguiente\n",
    "\n",
    "```python\n",
    "for var_iter in iterable:\n",
    "    #instrucciones (observe la sangría)\n",
    "```\n",
    "\n",
    "* `iterable` es un iterable (lista, tupla, llaves de un diccionario, conjuntos...).\n",
    "\n",
    "* `var_iter` es una variable que toma como valor cada elemento dentro de `iterable`\n"
   ]
  },
  {
   "cell_type": "code",
   "execution_count": null,
   "metadata": {
    "slideshow": {
     "slide_type": "slide"
    }
   },
   "outputs": [],
   "source": [
    "lista = [\"a\", \"b\", \"c\"]\n",
    "\n",
    "#Se itera sobre cada elemento en lista\n",
    "for x in lista:\n",
    "    print(x) #observe la sangría"
   ]
  },
  {
   "cell_type": "code",
   "execution_count": null,
   "metadata": {
    "slideshow": {
     "slide_type": "slide"
    }
   },
   "outputs": [],
   "source": [
    "#El nombre de la variable sobre la que se itera\n",
    "#no necesariamente debe ser un caracter\n",
    "\n",
    "lista = [\"a\", \"b\", \"c\"]\n",
    "for elemento in lista:\n",
    "    print(elemento)\n",
    "    print(\".\" * 10)"
   ]
  },
  {
   "cell_type": "code",
   "execution_count": null,
   "metadata": {
    "scrolled": true,
    "slideshow": {
     "slide_type": "slide"
    }
   },
   "outputs": [],
   "source": [
    "# Líneas de código sin sangría se consideran fuera del loop. \n",
    "# Estas líneas se ejecutan una vez que se terminan las\n",
    "# iteraciones del loop\n",
    "lista = [\"a\", \"b\", \"c\"]\n",
    "num_iter = 0\n",
    "for elemento in lista:\n",
    "    print(elemento)\n",
    "    num_iter = num_iter + 1\n",
    "    print('Se termina iteración', num_iter)\n",
    "    \n",
    "print(\"...Se terminó el for...\")"
   ]
  },
  {
   "cell_type": "markdown",
   "metadata": {},
   "source": [
    "Considerando el ejemplo anterior, \n",
    "```python\n",
    "radios = [1, 3, 5, 2, 1, 10]\n",
    "pi = 3.14159265\n",
    "print(pi * radios[0] ** 2)\n",
    "print(pi * radios[1] ** 2)\n",
    "print(pi * radios[3] ** 2)\n",
    "print(pi * radios[3] ** 2)\n",
    "print(pi * radios[4] ** 2)\n",
    "print(pi * radios[5] ** 2)\n",
    "```\n",
    "\n",
    "Podemos reescribir el código con un *for loop* de la siguiente manera\n",
    "```python\n",
    "radios = [1, 3, 5, 2, 1, 10]\n",
    "pi = 3.14159265\n",
    "for radio in radios:\n",
    "    print(pi * radio ** 2)\n",
    "```"
   ]
  },
  {
   "cell_type": "code",
   "execution_count": null,
   "metadata": {},
   "outputs": [],
   "source": [
    "# ¿Qué resultado arrojaría correr el siguiente código?\n",
    "word = \"Beseechingly\"\n",
    "for letter in word:\n",
    "    print(letter)"
   ]
  },
  {
   "cell_type": "markdown",
   "metadata": {},
   "source": [
    "**Rangos**  \n",
    "La manera de crear un rango de números dentro de python es mediante la función `range`, la cuál puede ser usado de tres maneras\n",
    "* `range(a)` crea un rango de valores de `0` hasta `a-1`\n",
    "* `range(a, b)` crea un rango de valores de `a` hasta `b-1`\n",
    "* `range(a, b, s)` crea un rango de valores de `a` hasta `b-1` dando saltos `s`"
   ]
  },
  {
   "cell_type": "code",
   "execution_count": null,
   "metadata": {},
   "outputs": [],
   "source": [
    "help(range)"
   ]
  },
  {
   "cell_type": "code",
   "execution_count": null,
   "metadata": {},
   "outputs": [],
   "source": [
    "# ¿Qué imprime el siguiente código?\n",
    "for n in range(5):\n",
    "    print(n)"
   ]
  },
  {
   "cell_type": "code",
   "execution_count": null,
   "metadata": {},
   "outputs": [],
   "source": [
    "# ¿Qué imprime el siguiente código?\n",
    "for n in range(5, 11):\n",
    "    print(n)"
   ]
  },
  {
   "cell_type": "code",
   "execution_count": null,
   "metadata": {},
   "outputs": [],
   "source": [
    "# ¿Qué imprime el siguiente código?\n",
    "for n in range(4, 12, 2):\n",
    "    print(n)"
   ]
  },
  {
   "cell_type": "code",
   "execution_count": null,
   "metadata": {},
   "outputs": [],
   "source": [
    "# ¿Qué imprime el siguiente código?\n",
    "\n",
    "for n in range(4,13,2):\n",
    "    print(n)"
   ]
  },
  {
   "cell_type": "code",
   "execution_count": null,
   "metadata": {},
   "outputs": [],
   "source": [
    "#Podemos ver el contenido de un range \n",
    "# haciendo una conversión (casting) al tipo list\n",
    "print(list(range(4,12,2)))\n",
    "print(list(range(4,13,2)))\n",
    "print(list(range(1,1)))\n",
    "print(list(range(1,0)))\n",
    "print(list(range(5,-5,-1)))"
   ]
  },
  {
   "cell_type": "markdown",
   "metadata": {
    "slideshow": {
     "slide_type": "slide"
    }
   },
   "source": [
    "## `while` loops\n",
    "A diferencia de un `for` loop, en un `while` loop **no necesariamente conocemos el número de veces que se repetirá el ciclo**. La sintáxis de un `while` loop es la siguiente.\n",
    "\n",
    "```python\n",
    "while condicion:\n",
    "    #Instrucciones (no olvide la sangría)\n",
    "```\n",
    "\n",
    "* `condicion` una expresión que regresa un valor booleano y esta expresión se evalua al princpio de cada ciclo.\n",
    "\n",
    "Si `condicion == True`, el bloque de código en sangría es evaluado; de otra manera el ciclo se rompe.\n"
   ]
  },
  {
   "cell_type": "code",
   "execution_count": null,
   "metadata": {
    "slideshow": {
     "slide_type": "fragment"
    }
   },
   "outputs": [],
   "source": [
    "# ¿Cuál es valor final de x?\n",
    "x = 1\n",
    "while x < 10:\n",
    "    x = x + 1"
   ]
  },
  {
   "cell_type": "markdown",
   "metadata": {},
   "source": [
    "**El `break` keyword**  \n",
    "\n",
    "En ocasiones es necesario romper el un cíclo si se cumple cierta condición. \n",
    "\n",
    "En estos casos podemos ocupar `break` para terminar el loop con anticipación."
   ]
  },
  {
   "cell_type": "code",
   "execution_count": null,
   "metadata": {
    "slideshow": {
     "slide_type": "fragment"
    }
   },
   "outputs": [],
   "source": [
    "#En esta lista se guardarán las comidas\n",
    "comidas = []\n",
    "\n",
    "print(\"Ingresa comidas que te gusten. Escribe 'fin' para terminar el programa\")\n",
    "while True: # La condición siempre es verdadera\n",
    "    comida = input(\"Comida: \")\n",
    "    if comida != \"fin\":\n",
    "        comidas.append(comida)\n",
    "    else:\n",
    "        print(\"Saliendo del programa...\")\n",
    "        break\n",
    "print(comidas)        "
   ]
  },
  {
   "cell_type": "markdown",
   "metadata": {
    "slideshow": {
     "slide_type": "slide"
    }
   },
   "source": [
    "## Agrupando elementos con `zip`\n",
    "\n",
    "Si queremos agrupar el contenido de iterables entrada por entrada, podemos utilizar la función `zip`.\n"
   ]
  },
  {
   "cell_type": "code",
   "execution_count": null,
   "metadata": {},
   "outputs": [],
   "source": [
    "help(zip)"
   ]
  },
  {
   "cell_type": "code",
   "execution_count": null,
   "metadata": {},
   "outputs": [],
   "source": [
    "edades = [1,2,3]\n",
    "nombres = ['Bruno', 'Andrea', 'Karina', 'Carlos']\n",
    "trabajo  = ['A','B', 'C']\n",
    "grupo = zip(edades, nombres, trabajo)\n",
    "print(type(grupo))\n",
    "print(grupo)\n",
    "\n",
    "#Para poder ver el contenido de lo que regresa\n",
    "#la función zip, es necesario hacer una conversión\n",
    "#a tipo list o tuple\n",
    "print(list(grupo))"
   ]
  },
  {
   "cell_type": "code",
   "execution_count": null,
   "metadata": {
    "slideshow": {
     "slide_type": "fragment"
    }
   },
   "outputs": [],
   "source": [
    "tickers = [\"AAPL\", \"AMZN\", \"FB\", \"GOOG\"]\n",
    "nombre = [\"Apple\", \"Amazon\", \"Facebook\", \"Alphabet\"]\n",
    "comp_tick = {} \n",
    "\n",
    "#zip nos regresa un objeto iterable\n",
    "for ticker, company in zip(tickers, companies):\n",
    "    comp_tick[company] = ticker    \n",
    "print(comp_tick)"
   ]
  },
  {
   "cell_type": "code",
   "execution_count": null,
   "metadata": {},
   "outputs": [],
   "source": [
    "#Si leemos help(dict), lo anterior puede reducirse a\n",
    "comp_tick = dict(zip(tickers, companies))\n",
    "print(comp_tick)"
   ]
  },
  {
   "cell_type": "markdown",
   "metadata": {},
   "source": [
    "<h2 style=\"color:#d62728\"> Ejercicio </h2>\n",
    "\n",
    "Cree un diccionario que contenga el conteo de cada palabra del siguiente texto\n",
    "```python\n",
    "texto = '''\n",
    "Tres tristes tigres tragaban trigo en un trigal en un trigal tragaban trigo\n",
    "tres tristes tigres estos Tigres tragaban mucho trigo en un trigal\n",
    "'''\n",
    "```"
   ]
  },
  {
   "cell_type": "code",
   "execution_count": null,
   "metadata": {},
   "outputs": [],
   "source": [
    "texto = '''\n",
    "Tres tristes tigres tragaban trigo en un trigal en un trigal tragaban trigo\n",
    "tres tristes tigres estos Tigres tragaban mucho trigo en un trigal\n",
    "'''"
   ]
  },
  {
   "cell_type": "code",
   "execution_count": null,
   "metadata": {},
   "outputs": [],
   "source": []
  },
  {
   "cell_type": "markdown",
   "metadata": {
    "slideshow": {
     "slide_type": "slide"
    }
   },
   "source": [
    "<h2 style=\"color:#d62728\"> Ejercicio </h2>\n",
    "\n",
    "1. Suponga que tiene los siguientes datos de un bono\n",
    "\n",
    "```python\n",
    "lista_tasas = ['0.05', '0.1', '0.15', '0.20']\n",
    "\n",
    "lista_cupones = [5, 10, 15, 10, 5]\n",
    "\n",
    "nominal = 10\n",
    "```\n",
    "\n",
    "    calcule el precio del bono.\n",
    "    \n",
    "$$\n",
    "Precio = \\sum_{t=1}^{n} \\dfrac{cupon_i}{(1 + i_t)^t} + \\dfrac{nominal}{(1 + i_n)^n}\n",
    "$$\n",
    "\n",
    "    puede suponer que son pagos anuales.\n",
    "\n",
    "2. Escribe un programa que cree el siguiente patrón:\n",
    "\n",
    "   Para una ```n``` dada por el usuario, por ejemplo ```n=5```, se debe de imprimir\n",
    "\n",
    "```\n",
    "1 \n",
    "1 2 \n",
    "1 2 3 \n",
    "1 2 3 4 \n",
    "1 2 3 4 5 \n",
    "```\n",
    "\n",
    "3. Escribe un programa para adivinar un número:  \n",
    "Considerando un número objetivo `target_num`, el programa le deberá pedir al usuario ingresar un número `input_num`. Si `input_num` > `target_num`, el programa deberá informarle al usuario que su número está por encima del número objetivo; de otra manera, si `input_num` < `target_num`, el programa deberá informarle al usuario que su número se encuentra por debajo del número objetivo. El programa se termina una vez que el usuario adivine el número objetivo, i.e., una vez que `input_num == target_num`.\n",
    "\n",
    "4. Considerando las listas `capitales` y `estados`, escribe un programa que escriba `\"la capital de <estado> es <capital>\"`; donde `<estado>` y `<capital>` representa cada elemento de las listas mencionadas.\n",
    "\n",
    "```python\n",
    "capitales = ['Aguascalientes', 'Mexicali', 'La Paz', 'Campeche', 'Saltillo', 'Colima',\n",
    "             'Tuxtla Gutiérrez', 'Chihuahua', 'Ciudad de México', 'Durango', 'Guanajuato',\n",
    "             'Chilpancingo', 'Pachuca', 'Guadalajara', 'Toluca', 'Morelia', 'Cuernavaca', \n",
    "             'Tepic', 'Monterrey', 'Oaxaca', 'Puebla', 'Querétaro', 'Chetumal', 'San Luis Potosí',\n",
    "             'Culiacán', 'Hermosillo', 'Villahermosa', 'Ciudad Victoria', 'Tlaxcala', 'Xalapa',\n",
    "             'Mérida', 'Zacatecas']\n",
    "estados = ['Aguascalientes', 'Baja California', 'Baja California Sur', 'Campeche', 'Coahuila',\n",
    "           'Colima', 'Chiapas', 'Chihuahua', 'Distrito Federal', 'Durango', 'Guanajuato',\n",
    "           'Guerrero', 'Hidalgo', 'Jalisco', 'México', 'Michoacán', 'Morelos', 'Nayarit',\n",
    "           'Nuevo León', 'Oaxaca', 'Puebla', 'Querétaro', 'Quintana Roo', 'San Luis Potosí',\n",
    "           'Sinaloa', 'Sonora', 'Tabasco', 'Tamaulipas', 'Tlaxcala', 'Veracruz', 'Yucatán', 'Zacatecas']\n",
    "```\n",
    "\n",
    "5. Podemos estimar el valor de $\\pi$ con la siguiente serie infinita\n",
    "\n",
    "$$\n",
    "\\pi \\approx 3 + \\dfrac{4}{2 \\times 3 \\times 4} - \\dfrac{4}{4 \\times 5 \\times 6} + \\dfrac{4}{6 \\times 7 \\times 8} - \\dfrac{4}{8 \\times 9 \\times 10} + \\dfrac{4}{10 \\times 11 \\times 12} - \\ldots\n",
    "$$\n",
    "\n",
    "Escriba un programa que muestre las primeras $20$ aproximaciones de $\\pi$\n",
    "\n",
    "```\n",
    "La aproximación 1 es 3\n",
    "La aproximación 2 es 3.1666666666666665\n",
    "La aproximación 3 es 3.1333333333333333\n",
    "La aproximación 4 es 3.145238095238095\n",
    "La aproximación 5 es 3.1396825396825396\n",
    "La aproximación 6 es 3.1427128427128426\n",
    "La aproximación 7 es 3.1408813408813407\n",
    "La aproximación 8 es 3.142071817071817\n",
    "La aproximación 9 es 3.1412548236077646\n",
    "La aproximación 10 es 3.141839618929402\n",
    "La aproximación 11 es 3.1414067184965018\n",
    "La aproximación 12 es 3.1417360992606653\n",
    "La aproximación 13 es 3.141479689004255\n",
    "La aproximación 14 es 3.1416831892077552\n",
    "La aproximación 15 es 3.1415189855952756\n",
    "La aproximación 16 es 3.141653394197426\n",
    "La aproximación 17 es 3.1415419859977827\n",
    "La aproximación 18 es 3.1416353566793886\n",
    "La aproximación 19 es 3.1415563302845726\n",
    "La aproximación 20 es 3.1416238066678384\n",
    "```"
   ]
  },
  {
   "cell_type": "code",
   "execution_count": null,
   "metadata": {},
   "outputs": [],
   "source": []
  }
 ],
 "metadata": {
  "celltoolbar": "Slideshow",
  "kernelspec": {
   "display_name": "Python 3",
   "language": "python",
   "name": "python3"
  },
  "language_info": {
   "codemirror_mode": {
    "name": "ipython",
    "version": 3
   },
   "file_extension": ".py",
   "mimetype": "text/x-python",
   "name": "python",
   "nbconvert_exporter": "python",
   "pygments_lexer": "ipython3",
   "version": "3.7.6"
  }
 },
 "nbformat": 4,
 "nbformat_minor": 4
}
