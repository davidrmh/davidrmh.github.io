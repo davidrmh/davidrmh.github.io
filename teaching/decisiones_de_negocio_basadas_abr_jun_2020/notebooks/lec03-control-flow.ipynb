{
 "cells": [
  {
   "cell_type": "markdown",
   "metadata": {
    "slideshow": {
     "slide_type": "slide"
    }
   },
   "source": [
    "<h1 style=\"color:#872325\">Control del flujo de un programa</h1>"
   ]
  },
  {
   "cell_type": "markdown",
   "metadata": {
    "slideshow": {
     "slide_type": "slide"
    }
   },
   "source": [
    "## Valores booleanos en Python: `True`, `False`\n",
    "\n",
    "En la mayoría de las situaciones, es necesario poder controlar las sentencias que un programa ejecutará de acuerdo a si ciertas condiciones se cumplen o no.\n",
    "\n",
    "Para lograr lo anterior, es necesario conocer las distintas formas de controlar el flujo de un programa y para esto necesitamos conocer los valores *booleanos* (valores de verdad) `True` y `False`"
   ]
  },
  {
   "cell_type": "code",
   "execution_count": null,
   "metadata": {},
   "outputs": [],
   "source": [
    "print(True)\n",
    "print(False)"
   ]
  },
  {
   "cell_type": "markdown",
   "metadata": {},
   "source": [
    "Al igual que con `int`s y `float`s, los objetos booleanos contienen sus propios operadores:\n",
    "* `==`: Igualdad entre objetos\n",
    "* `!=`: Diferencia entre objetos\n",
    "* `not`: Negación de un enunciado lógico\n",
    "* `and`: y (conjunción)\n",
    "* `or`: o (disyunción)\n"
   ]
  },
  {
   "cell_type": "markdown",
   "metadata": {
    "slideshow": {
     "slide_type": "slide"
    }
   },
   "source": [
    "**Igualdad entre objetos**: Verdadero si y solo si a es igual a b\n",
    "\n",
    "| `==`  | True  | False |\n",
    "|-------|-------|-------|\n",
    "| True  | True  | False |\n",
    "| False | False | True  |"
   ]
  },
  {
   "cell_type": "markdown",
   "metadata": {},
   "source": [
    "**Diferencia**: Verdadero si y solo si `a` no es igual a `b`\n",
    "\n",
    "| `!=`  | True  | False |\n",
    "|-------|-------|-------|\n",
    "| True  | False  | True |\n",
    "| False | True | False  |"
   ]
  },
  {
   "cell_type": "markdown",
   "metadata": {},
   "source": [
    "**Condición \"y\":** Verdadero si y solo si `a` es verdadero y `b` es verdadero\n",
    "\n",
    "| `and`  | True  | False |\n",
    "|-------|-------|-------|\n",
    "| True  | True  | False |\n",
    "| False | False  | False  |"
   ]
  },
  {
   "cell_type": "markdown",
   "metadata": {
    "slideshow": {
     "slide_type": "fragment"
    }
   },
   "source": [
    "**Condición \"o\"**: Verdadero si `a` es verdadero o `b` es verdadero\n",
    "\n",
    "| `or`  | True  | False |\n",
    "|-------|-------|-------|\n",
    "| True  | True  | True |\n",
    "| False | True  | False  |"
   ]
  },
  {
   "cell_type": "markdown",
   "metadata": {},
   "source": [
    "**Negación**\n",
    "\n",
    "| `not`  |   |\n",
    "|-------|-------|\n",
    "| True  | False  |\n",
    "| False | True  |"
   ]
  },
  {
   "cell_type": "markdown",
   "metadata": {},
   "source": [
    "### Métodos cuyos resultados es un valor booleano"
   ]
  },
  {
   "cell_type": "code",
   "execution_count": null,
   "metadata": {},
   "outputs": [],
   "source": [
    "my_str = \"The Tipping Point\""
   ]
  },
  {
   "cell_type": "code",
   "execution_count": null,
   "metadata": {},
   "outputs": [],
   "source": [
    "my_str.endswith(\"Point\")"
   ]
  },
  {
   "cell_type": "code",
   "execution_count": null,
   "metadata": {},
   "outputs": [],
   "source": [
    "my_str.istitle()"
   ]
  },
  {
   "cell_type": "markdown",
   "metadata": {},
   "source": [
    "### La palabra reservada  `in`\n",
    "\n",
    "La palabra reservada (este palabra no puede utilizarse como nombre de una variable) `in` nos permite conocer si un elemento en particular se encuentra dentro de un iterable (una colección de objetos)"
   ]
  },
  {
   "cell_type": "code",
   "execution_count": null,
   "metadata": {},
   "outputs": [],
   "source": [
    "lista = [1,2,3,4, 'gato']\n",
    "'gato' in lista"
   ]
  },
  {
   "cell_type": "code",
   "execution_count": null,
   "metadata": {},
   "outputs": [],
   "source": [
    "# Busqueda de los carácteres \"tipping\" dentro de la variable my_str\n",
    "print(\"Tipping\" in my_str)\n",
    "print(\"tipping\" in my_str)"
   ]
  },
  {
   "cell_type": "code",
   "execution_count": null,
   "metadata": {},
   "outputs": [],
   "source": [
    "# Búsqueda del elemento \"one\" dentro de la variable my_list\n",
    "print(\"one\" in [\"one\", \"two\", \"three\", \"four\"])\n",
    "print(\"one\" in [[\"one\"], \"two\", \"three\", \"four\"])"
   ]
  },
  {
   "cell_type": "markdown",
   "metadata": {},
   "source": [
    "Para un `dict` (diccionario), `in` determina si el diccionario tiene cierta **llave**"
   ]
  },
  {
   "cell_type": "code",
   "execution_count": null,
   "metadata": {},
   "outputs": [],
   "source": [
    "print(\"one\" in {\"one\": 1, \"two\": 2, \"three\": 3})\n",
    "print(\"One\" in {\"one\": 1, \"two\": 2, \"three\": 3})"
   ]
  },
  {
   "cell_type": "markdown",
   "metadata": {
    "slideshow": {
     "slide_type": "slide"
    }
   },
   "source": [
    "## Comparaciones Lógicas\n",
    "\n",
    "Adicional a los operadores aritméticos, los `int`s y `float`s en python cuentan con operadores que nos permiten comparar valores numéricos.\n",
    "\n",
    "`>`, `<`, `==`, `!=`"
   ]
  },
  {
   "cell_type": "code",
   "execution_count": null,
   "metadata": {
    "slideshow": {
     "slide_type": "fragment"
    }
   },
   "outputs": [],
   "source": [
    "3 > 5"
   ]
  },
  {
   "cell_type": "code",
   "execution_count": null,
   "metadata": {
    "slideshow": {
     "slide_type": "fragment"
    }
   },
   "outputs": [],
   "source": [
    "3 < 5"
   ]
  },
  {
   "cell_type": "code",
   "execution_count": null,
   "metadata": {
    "slideshow": {
     "slide_type": "fragment"
    }
   },
   "outputs": [],
   "source": [
    "#¿Qué valor booleano regresa el siguiente código?\n",
    "3 == 3.00000000000000009"
   ]
  },
  {
   "cell_type": "code",
   "execution_count": null,
   "metadata": {
    "slideshow": {
     "slide_type": "fragment"
    }
   },
   "outputs": [],
   "source": [
    "4 == 4.0"
   ]
  },
  {
   "cell_type": "code",
   "execution_count": null,
   "metadata": {
    "slideshow": {
     "slide_type": "fragment"
    }
   },
   "outputs": [],
   "source": [
    "4 != 1"
   ]
  },
  {
   "cell_type": "code",
   "execution_count": null,
   "metadata": {
    "slideshow": {
     "slide_type": "fragment"
    }
   },
   "outputs": [],
   "source": [
    "# Siguiendo la filosofía de python\n",
    "# el código debe de ser fácil de leer\n",
    "x = -4\n",
    "print(1 < x < 10)"
   ]
  },
  {
   "cell_type": "markdown",
   "metadata": {},
   "source": [
    "<h2 style=\"color:#d62728\">Ejercicios</h2>\n",
    "\n",
    "1. Analiza y explica el resultado de los siguientes comandos (sin utilizar python):\n",
    "    * `(True or False) and False`\n",
    "    * `not False != (False or True)`\n",
    "    * `not not False and not False`\n",
    "\n",
    "\n",
    "2.Escriba una expresión equivalente a: `3 < x < 10`.\n",
    "\n",
    "\n",
    "3. Considerando la lista `nombres`, cree un programa que pida la `edad` y el `nombre` de una persona y que valide si el nombre dado se encuentra dentro de la lista de `nombres` y si la edad es mayor a 23 años.\n",
    "\n",
    "    Por ejemplo, si el nombre es `\"Isaac\"` y la edad es `20`, se debería de imprimir `False`.\n",
    "    \n",
    "    Si el nombre es `'Isaac'` y la edad es `24`, se debería de imprimir `True`.\n",
    "    \n",
    "```python\n",
    "nombres = ['Javier', 'Tadeo', 'Simón', 'Mariano', 'Arcadio',\n",
    "           'Magdalena', 'Román', 'Liduvina', 'Isaac', 'Lorena']\n",
    "```\n",
    "\n",
    "\n",
    "4. Considera el diccionario `nombre_edad`. Sin evaluar las siguientes expresiones en python, piensa en los resultados de las siguientes expresiones:\n",
    "    * `\"Javier\" in nombre_edad`\n",
    "    * `\"Javier \" in nombre_edad`\n",
    "    * `28 in nombre_edad`\n",
    "    * `nombre_edad[\"Mariano\"] < 8`\n",
    "    * `\"Simón\" in nombre_edad and \"Isaac\" not in nombre_edad`\n",
    "```python\n",
    "nombre_edad = {'Javier': 25,\n",
    "                     'Tadeo': 28,\n",
    "                     'Simón': 28,\n",
    "                     'Mariano': 8}\n",
    "```"
   ]
  },
  {
   "cell_type": "code",
   "execution_count": null,
   "metadata": {},
   "outputs": [],
   "source": []
  },
  {
   "cell_type": "markdown",
   "metadata": {},
   "source": [
    "# Sentencias condicionales if elif else\n",
    "\n",
    "Para poder dirigir el flujo de un programa de acuerdo a si se cumplen ciertas condiciones o no, podemos utilizar las sentencias condicionales `if..elif..else`"
   ]
  },
  {
   "cell_type": "markdown",
   "metadata": {
    "slideshow": {
     "slide_type": "slide"
    }
   },
   "source": [
    "Sintaxís de un `if` en Python\n",
    "```python\n",
    "if <condicion>:  #Observe los dos puntos (:)\n",
    "    <expresiones_if>\n",
    "    \n",
    "elif <condicion2>:\n",
    "    \n",
    "    <expresiones_elif_1>\n",
    "    \n",
    "elif <condicion3>:\n",
    "    \n",
    "    <expresiones_elif_2>\n",
    "    \n",
    "else:\n",
    "    <expresiones_else>\n",
    "```\n",
    "\n",
    "* Los términos `<condicion>` hacen referencia a una expresión booleana, es decir, una expresión que regrese `True` o `False`.\n",
    "\n",
    "*Los términos `<expresiones>` hacen referencia a un conjunto de instrucciones. Estas se ejectutan sólo si el resultado de `<condicion>` resulta `True`.\n",
    "\n",
    "Las expresiones se evaluan de arriba a abajo y una vez localizada alguna expresión con `<condicion>` igual a `True`, se dejan de evaluar las condiciones que se encuentran debajo de esta.\n",
    "\n",
    "## Sangrías en python :-(\n",
    "\n",
    "Es importante notar que despues de una condición como `if, elif, else`, toda expresión que se desee correr si esta es verdadera **debe contener una sangría de 4 espacios (sugerido por PEP8)** en las líneas subsecuentes (bloques de código).\n",
    "\n",
    "Python no utiliza corchetes `{}` para agrupar bloques de código.\n",
    "\n",
    "https://www.python.org/dev/peps/pep-0008/"
   ]
  },
  {
   "cell_type": "code",
   "execution_count": null,
   "metadata": {},
   "outputs": [],
   "source": [
    "if 1 > 0:\n",
    "    #Observe que este bloque de código tiene una sangría\n",
    "    print('Si')\n",
    "    print('error')\n",
    "elif 1 > -2:\n",
    "    print('Este bloque no se evalua')\n",
    "    print('A pesar de que su condición es True')\n",
    "\n",
    "#Regresa al nivel de sangría antes del if\n",
    "print('Esto está fuera de algún bloque de código relacionado al if..elif')"
   ]
  },
  {
   "cell_type": "markdown",
   "metadata": {},
   "source": [
    "<h2 style=\"color:#d62728\">Ejercicios</h2>\n",
    "\n",
    "1. Escribe un programa que mencione cómo se encuentra el clima. El Usuario deberá ingresar la temperatura actual:\n",
    "    * Si `temperatura` es mayor a 35 o igual, el programa deberá imprimir `\"Hace mucho calor\"`.\n",
    "    * Si `temperatura` es menor a -15, el programa deberá imprimir `\"Hace mucho frío\"`\n",
    "    * Si `temperatura` es mayor a 25 y menor a 35, el programa deberá imprimir `\"Hace calor\"` \n",
    "    * Si `temperatura` es mayor o igual a -15 y menor a 12, el programa deberá imprimir `\"Hace frío\"`\n",
    "    * Si `temperatura` se encuentra entre 12 y 25 (inclusivo), el programa deberá imprimir `\"El clima es templado\"`\n",
    "    \n",
    "    \n",
    "2. Consierando el diccionario `user_pass`, crea un programa que pida un usuario y valide si este se encuentra dentro del diccionario. Si el usuario se encuentra dentro de `user_pass`, el programa deberá imprimir `\"usuario registrado\"`; de otra manera, el programa deberá imprimir `\"usuario no registrado\"`.\n",
    "```python\n",
    "user_pass = {'usr503': '2vu2bo',\n",
    " 'usr085': 'geeaa',\n",
    " 'usr406': 'xqzbiy',\n",
    " 'usr182': 'jbngo0',\n",
    " 'usr168': 'qih6e',\n",
    " 'usr900': '6ynym',\n",
    " 'usr542': '7p6mnd',\n",
    " 'usr847': 'ruqq6y',\n",
    " 'usr629': '9qs9g5',\n",
    " 'usr418': 'f15lg'}\n",
    "```\n",
    "Por ejemplo:\n",
    "```\n",
    "Ingresa tu usuario: usr085\n",
    "Usuario Registrado\n",
    "```\n",
    "\n",
    "\n",
    "3. Modifica el programa anterior: si el usuario **no** ha sido registrado, el programa deberá preguntarle al usuario si se desea registrar, si el usuario ingresa `\"s\"`, el programa deberá preguntarle al usuario una contraseña y agregarlo a `user_pass`; si el usuario ingresa `\"n\"` el programa deberá imprimir `\"El usuario no fue registrado\"`; si el usuario ingresa cualquier otra secuencia, el programa deberá imprimir `\"Opción no valida. Saliendo del programa\"`  \n",
    "Por ejemplo:\n",
    "```\n",
    "Ingresa tu usuario: usr1643\n",
    "Usuario no registrado. ¿Deseas inscribirte (s/n)? n\n",
    "Saliendo del programa...\n",
    "```\n",
    "```\n",
    "Ingresa tu usuario: usr1643\n",
    "Usuario no registrado. ¿Deseas inscribirte (s/n)? y\n",
    "Opción no valida. Saliendo del programa\n",
    "```\n",
    "```\n",
    "Ingresa tu usuario: usr1643\n",
    "Usuario no registrado. ¿Deseas inscribirte (s/n)? s\n",
    "Ingresa tu contraseña: grapple981\n",
    "```\n",
    "Y el diccionario se vería modificado de la siguiente manera\n",
    "```python\n",
    "{'usr503': '2vu2bo',\n",
    "     ...\n",
    " 'usr418': 'f15lg',\n",
    " 'usr1643': 'grapple981'}\n",
    "```"
   ]
  },
  {
   "cell_type": "code",
   "execution_count": null,
   "metadata": {},
   "outputs": [],
   "source": []
  },
  {
   "cell_type": "markdown",
   "metadata": {
    "slideshow": {
     "slide_type": "slide"
    }
   },
   "source": [
    "### in-line conditionals\n",
    "\n",
    "Los *in-line conditionals* sirven para abreviar bloques ```if-else```\n",
    "\n",
    "Su sintaxis es la siguiente\n",
    "\n",
    "```python\n",
    "<valor_si_cond_True> if <condicion> else <valor_si_cond_False>\n",
    "```"
   ]
  },
  {
   "cell_type": "code",
   "execution_count": null,
   "metadata": {
    "slideshow": {
     "slide_type": "fragment"
    }
   },
   "outputs": [],
   "source": [
    "edad = int(input(\"Dame tu edad \"))\n",
    "if edad >= 18:\n",
    "    puedes_votar = 'sí'\n",
    "else:\n",
    "    puedes_votar = 'no'\n",
    "    \n",
    "print(puedes_votar)"
   ]
  },
  {
   "cell_type": "code",
   "execution_count": null,
   "metadata": {},
   "outputs": [],
   "source": [
    "edad = int(input(\"Dame tu edad \"))\n",
    "puedes_votar = \"sí\" if edad >= 18 else \"no\"\n",
    "\n",
    "print(puedes_votar)"
   ]
  },
  {
   "cell_type": "markdown",
   "metadata": {},
   "source": [
    "<h2 style=\"color:#d62728\">Ejercicios</h2>\n",
    "\n",
    "1. Usando *in line conditionals* escribe un programa que le pida al usuario un número `num` e imprima `\"El número <num> es par\"`, si `num` es par o `\"El número <num> es impar\"` si el número es impar."
   ]
  },
  {
   "cell_type": "code",
   "execution_count": null,
   "metadata": {},
   "outputs": [],
   "source": []
  }
 ],
 "metadata": {
  "celltoolbar": "Slideshow",
  "kernelspec": {
   "display_name": "Python 3",
   "language": "python",
   "name": "python3"
  },
  "language_info": {
   "codemirror_mode": {
    "name": "ipython",
    "version": 3
   },
   "file_extension": ".py",
   "mimetype": "text/x-python",
   "name": "python",
   "nbconvert_exporter": "python",
   "pygments_lexer": "ipython3",
   "version": "3.7.6"
  }
 },
 "nbformat": 4,
 "nbformat_minor": 4
}
