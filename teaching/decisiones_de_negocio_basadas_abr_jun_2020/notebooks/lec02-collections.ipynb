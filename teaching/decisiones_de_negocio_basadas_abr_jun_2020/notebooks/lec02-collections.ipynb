{
 "cells": [
  {
   "cell_type": "markdown",
   "metadata": {},
   "source": [
    "<img src=\"https://upload.wikimedia.org/wikipedia/commons/thumb/c/c3/Python-logo-notext.svg/1200px-Python-logo-notext.svg.png\" width=300/>\n",
    "<h1 style=\"color:#872325\">Listas</h1>"
   ]
  },
  {
   "cell_type": "markdown",
   "metadata": {
    "slideshow": {
     "slide_type": "slide"
    }
   },
   "source": [
    "\n",
    "Una lista es un arreglo ordenado de elementos. Se define por valores separados por coma y encerrados por dos corchetes (`[]`)"
   ]
  },
  {
   "cell_type": "code",
   "execution_count": null,
   "metadata": {
    "slideshow": {
     "slide_type": "fragment"
    }
   },
   "outputs": [],
   "source": [
    "materias = [\"CALCULO\", \"FINANZAS\", \"OPTIMIZACION\", \"GEOMETRIA\", \"PROGRAMACION\", \"ESTADISTICA\"]\n",
    "print(type(materias))\n",
    "help(materias)"
   ]
  },
  {
   "cell_type": "markdown",
   "metadata": {
    "slideshow": {
     "slide_type": "slide"
    }
   },
   "source": [
    "### Subsetting:\n",
    "En una lista, al igual que con string (una sequencia ordenada de carácteres), accedemos a los valores de una lista usando la misma notación de corchetes."
   ]
  },
  {
   "cell_type": "markdown",
   "metadata": {},
   "source": [
    "<h2 style=\"color:#d62728\">Ejercicios</h2>\n",
    "Dada la lista de materias\n",
    "\n",
    "1. Accede al primer elemento de la lista\n",
    "2. Accede al tercer elmento de la lista\n",
    "3. Accede al último elmento dentro de la lista\n",
    "4. Accede del segundo al cuarto elemento de la lista\n",
    "5. Accede al último carácter del primer elemento"
   ]
  },
  {
   "cell_type": "code",
   "execution_count": null,
   "metadata": {},
   "outputs": [],
   "source": []
  },
  {
   "cell_type": "markdown",
   "metadata": {
    "slideshow": {
     "slide_type": "fragment"
    }
   },
   "source": [
    "**Número de elementos**  \n",
    "Por medio de la función `len` podemos conocer el número de elementos dentro de una lista."
   ]
  },
  {
   "cell_type": "code",
   "execution_count": null,
   "metadata": {},
   "outputs": [],
   "source": [
    "print(len(materias))"
   ]
  },
  {
   "cell_type": "markdown",
   "metadata": {
    "slideshow": {
     "slide_type": "fragment"
    }
   },
   "source": [
    "**Suma de elementos**  \n",
    "Otra de las funciones incluidas en Python es `sum`, sobre la cuál podemos sumar todos los elementos de la lista"
   ]
  },
  {
   "cell_type": "code",
   "execution_count": null,
   "metadata": {
    "slideshow": {
     "slide_type": "fragment"
    }
   },
   "outputs": [],
   "source": [
    "sum([1, 2, 3, 4])"
   ]
  },
  {
   "cell_type": "markdown",
   "metadata": {
    "slideshow": {
     "slide_type": "slide"
    }
   },
   "source": [
    "## Índices\n",
    "A diferencia de un `str`, un `list` nos permite obtener, asignar, reemplazar y eliminar valores dentro de una lista."
   ]
  },
  {
   "cell_type": "code",
   "execution_count": null,
   "metadata": {
    "slideshow": {
     "slide_type": "fragment"
    }
   },
   "outputs": [],
   "source": [
    "# Conseguir el primer elemento\n",
    "materias[0]"
   ]
  },
  {
   "cell_type": "code",
   "execution_count": null,
   "metadata": {
    "slideshow": {
     "slide_type": "fragment"
    }
   },
   "outputs": [],
   "source": [
    "#Asignar a un primer elemento\n",
    "materias[0] = \"ALGEBRA\" #Las listas son un tipo de objeto mutable\n",
    "materias[0]"
   ]
  },
  {
   "cell_type": "code",
   "execution_count": null,
   "metadata": {},
   "outputs": [],
   "source": [
    "mi_cadena = 'Esta es una cadena'\n",
    "mi_cadena[0] = 'L'\n",
    "mi_cadena.replace('E','L')"
   ]
  },
  {
   "cell_type": "code",
   "execution_count": null,
   "metadata": {
    "slideshow": {
     "slide_type": "fragment"
    }
   },
   "outputs": [],
   "source": [
    "# Eliminamos del segundo al tercer elemento\n",
    "print(materias)\n",
    "materias[1:3] = []\n",
    "print(materias)"
   ]
  },
  {
   "cell_type": "code",
   "execution_count": null,
   "metadata": {},
   "outputs": [],
   "source": [
    "# También es posible elimiar elementos de una lista utilizando el comando del\n",
    "materias = [\"ALGEBRA\", \"FINANZAS\", \"OPTIMIZACION\", \"GEOMETRIA\", \"PROGRAMACION\", \"ESTADISTICA\"]\n",
    "del materias[1:3]\n",
    "print(materias)"
   ]
  },
  {
   "cell_type": "markdown",
   "metadata": {
    "slideshow": {
     "slide_type": "slide"
    }
   },
   "source": [
    "### Estructura:\n",
    "Las listas pueden agrupar cualquier tipo de objeto"
   ]
  },
  {
   "cell_type": "code",
   "execution_count": null,
   "metadata": {
    "slideshow": {
     "slide_type": "fragment"
    }
   },
   "outputs": [],
   "source": [
    "e = 2.7182818285\n",
    "[\"pi\", e, [\"alpha\", \"beta\", \"gamma\"], True]"
   ]
  },
  {
   "cell_type": "markdown",
   "metadata": {
    "slideshow": {
     "slide_type": "slide"
    }
   },
   "source": [
    "### Concatenar dos listas"
   ]
  },
  {
   "cell_type": "code",
   "execution_count": null,
   "metadata": {
    "slideshow": {
     "slide_type": "fragment"
    }
   },
   "outputs": [],
   "source": [
    "matematicos = [\"Gauss\", \"Fermat\", \"Spivak \", \"Oksendal\"]\n",
    "fisicos = [\"Newton\", \"Einstein\", \"Maxwell\"]\n",
    "\n",
    "cientificos = matematicos + fisicos\n",
    "cientificos.extend([\"Pascal\", \"Laplace\"])\n",
    "cientificos"
   ]
  },
  {
   "cell_type": "markdown",
   "metadata": {
    "slideshow": {
     "slide_type": "slide"
    }
   },
   "source": [
    "### Copiar dos listas"
   ]
  },
  {
   "cell_type": "markdown",
   "metadata": {
    "slideshow": {
     "slide_type": "fragment"
    }
   },
   "source": [
    "Cada elemento en python lo identifica un único `id`."
   ]
  },
  {
   "cell_type": "code",
   "execution_count": null,
   "metadata": {
    "slideshow": {
     "slide_type": "fragment"
    }
   },
   "outputs": [],
   "source": [
    "id(cientificos)"
   ]
  },
  {
   "cell_type": "markdown",
   "metadata": {
    "slideshow": {
     "slide_type": "fragment"
    }
   },
   "source": [
    "Asignar una variable a una lista existente \"apunta\" al mismo `id`"
   ]
  },
  {
   "cell_type": "code",
   "execution_count": null,
   "metadata": {
    "scrolled": true,
    "slideshow": {
     "slide_type": "fragment"
    }
   },
   "outputs": [],
   "source": [
    "cientificos2 = cientificos\n",
    "print(id(cientificos2), id(cientificos) )"
   ]
  },
  {
   "cell_type": "markdown",
   "metadata": {
    "slideshow": {
     "slide_type": "fragment"
    }
   },
   "source": [
    "Cualquier modificación a `cientificos2` se verá afectado `cientificos`"
   ]
  },
  {
   "cell_type": "code",
   "execution_count": null,
   "metadata": {
    "scrolled": true,
    "slideshow": {
     "slide_type": "fragment"
    }
   },
   "outputs": [],
   "source": [
    "cientificos2[0] = \"**NONE**\"\n",
    "print(cientificos)"
   ]
  },
  {
   "cell_type": "markdown",
   "metadata": {
    "slideshow": {
     "slide_type": "slide"
    }
   },
   "source": [
    "para copiar una lista se indexa sobre todos los elementos de la lista "
   ]
  },
  {
   "cell_type": "code",
   "execution_count": null,
   "metadata": {
    "slideshow": {
     "slide_type": "fragment"
    }
   },
   "outputs": [],
   "source": [
    "cientificos3 = cientificos[:]\n",
    "print(id(cientificos))\n",
    "print(id(cientificos3))"
   ]
  },
  {
   "cell_type": "code",
   "execution_count": null,
   "metadata": {
    "scrolled": true,
    "slideshow": {
     "slide_type": "fragment"
    }
   },
   "outputs": [],
   "source": [
    "cientificos3[0] = \"Leibniz\"\n",
    "print(\"lista 'rates3':\", cientificos3, \"\", sep=\"\\n\")\n",
    "print(\"lista 'rates':\", cientificos, sep=\"\\n\")"
   ]
  },
  {
   "cell_type": "markdown",
   "metadata": {
    "slideshow": {
     "slide_type": "slide"
    }
   },
   "source": [
    "### Métodos de un `list`\n",
    "Al igual que los strings, las listas contienen métodos (funciones definidas para una sola clase)"
   ]
  },
  {
   "cell_type": "code",
   "execution_count": null,
   "metadata": {
    "slideshow": {
     "slide_type": "fragment"
    }
   },
   "outputs": [],
   "source": [
    "materias"
   ]
  },
  {
   "cell_type": "code",
   "execution_count": null,
   "metadata": {
    "slideshow": {
     "slide_type": "fragment"
    }
   },
   "outputs": [],
   "source": [
    "#CUIDADO CON LOS MÉTODOS IN-PLACE\n",
    "materias.reverse()\n",
    "materias"
   ]
  },
  {
   "cell_type": "code",
   "execution_count": null,
   "metadata": {
    "slideshow": {
     "slide_type": "fragment"
    }
   },
   "outputs": [],
   "source": [
    "materias.append(\"PROBABLIDAD\")\n",
    "materias"
   ]
  },
  {
   "cell_type": "code",
   "execution_count": null,
   "metadata": {
    "slideshow": {
     "slide_type": "slide"
    }
   },
   "outputs": [],
   "source": [
    "# Insertar 'álgebra superior' en la segunda posición\n",
    "materias.insert(1, \"ALGEBRA SUPERIOR\")\n",
    "materias"
   ]
  },
  {
   "cell_type": "code",
   "execution_count": null,
   "metadata": {
    "scrolled": true,
    "slideshow": {
     "slide_type": "fragment"
    }
   },
   "outputs": [],
   "source": [
    "materias.index(\"GEOMETRIA\")"
   ]
  },
  {
   "cell_type": "code",
   "execution_count": null,
   "metadata": {
    "slideshow": {
     "slide_type": "fragment"
    }
   },
   "outputs": [],
   "source": [
    "#Método IN-PLACE\n",
    "materias.sort()"
   ]
  },
  {
   "cell_type": "code",
   "execution_count": null,
   "metadata": {
    "slideshow": {
     "slide_type": "fragment"
    }
   },
   "outputs": [],
   "source": [
    "print(materias)"
   ]
  },
  {
   "cell_type": "code",
   "execution_count": null,
   "metadata": {},
   "outputs": [],
   "source": [
    "materias = materias[::-1]\n",
    "print('Original')\n",
    "print(materias)\n",
    "print('-' * 20)\n",
    "print('Aplica sorted')\n",
    "print(sorted(materias))\n",
    "print('-' * 20)\n",
    "print('Después de sorted')\n",
    "print(materias)"
   ]
  },
  {
   "cell_type": "code",
   "execution_count": null,
   "metadata": {
    "slideshow": {
     "slide_type": "fragment"
    }
   },
   "outputs": [],
   "source": [
    "# list.pop: Obten último elemento y elimínalo de la lista\n",
    "extraccion = materias.pop() #Comparar con el método remove\n",
    "print(materias)\n",
    "print(extraccion)"
   ]
  },
  {
   "cell_type": "markdown",
   "metadata": {},
   "source": [
    "### `str`s y `list`s\n",
    "Los strings contienen métodos cuyos resultados o argumentos contienen listas"
   ]
  },
  {
   "cell_type": "code",
   "execution_count": null,
   "metadata": {},
   "outputs": [],
   "source": [
    "# *Split*: de str a list\n",
    "\"Este,es,un,string\".split(',')"
   ]
  },
  {
   "cell_type": "code",
   "execution_count": null,
   "metadata": {},
   "outputs": [],
   "source": [
    "help(str.split)"
   ]
  },
  {
   "cell_type": "code",
   "execution_count": null,
   "metadata": {},
   "outputs": [],
   "source": [
    "# *join* de list a str\n",
    "lista = [\"Esta\", \"es\", \"una\", \"lista\"]\n",
    "print(\" \".join(lista))\n",
    "help(str.join)"
   ]
  },
  {
   "cell_type": "markdown",
   "metadata": {
    "slideshow": {
     "slide_type": "slide"
    }
   },
   "source": [
    "<h2 style=\"color:#B22222\"> Ejercicios </h2>\n",
    "\n",
    "1. Considera la lista `numeros0` y cálcula el valor promedio\n",
    "```python\n",
    "numeros0 = [1, 1, 2, 3, 5, 8, 13]\n",
    "```\n",
    "2. Considera la lista `numeros1` y cálcula la suma del primero, el último y el número en medio de la lista (**nota:** El número de elementos en la lista es impar)\n",
    "```python\n",
    "numeros1 = [0, 7, 20, 11, 1, 17, 4, 13, 9, 0, 12, 18, 5, 10, 8, 0, 10, 6, 19, 19, 10, 9, 4, 4, 18, 18, 0]\n",
    "```\n",
    "3. Considerando `list1`, reemplaza cada elemento `\"a\"` por `\"*\"\n",
    "```python\n",
    "list1 = [\"a\", \"b\", \"a\", \"d\", \"a\", \"a\", \"c\"]\n",
    "```\n",
    "\n",
    "**Sugerencia**\n",
    "\n",
    "```python\n",
    "help(list.index)\n",
    "```\n",
    "\n",
    "4. Piense en otra forma de solucionar el ejercicio 3.\n",
    "\n",
    "**Sugerencia**\n",
    "\n",
    "```python\n",
    "help(str.join)\n",
    "```\n"
   ]
  },
  {
   "cell_type": "code",
   "execution_count": null,
   "metadata": {},
   "outputs": [],
   "source": []
  },
  {
   "cell_type": "markdown",
   "metadata": {
    "slideshow": {
     "slide_type": "slide"
    }
   },
   "source": [
    "# (Tuples)\n",
    "Arreglo ordenado e **inmutable** de elementos"
   ]
  },
  {
   "cell_type": "code",
   "execution_count": null,
   "metadata": {
    "slideshow": {
     "slide_type": "slide"
    }
   },
   "outputs": [],
   "source": [
    "#Las tuplas se declaran con paréntesis ()\n",
    "materias = (\"CALCULO\", \"FINANZAS\", \"OPTIMIZACION\", \"GEOMETRIA\", \"PROGRAMACION\", \"ESTADISTICA\")\n",
    "type(materias)\n",
    "help(tuple)"
   ]
  },
  {
   "cell_type": "markdown",
   "metadata": {
    "slideshow": {
     "slide_type": "slide"
    }
   },
   "source": [
    "### Propiedades de un *tuple*:"
   ]
  },
  {
   "cell_type": "code",
   "execution_count": null,
   "metadata": {
    "slideshow": {
     "slide_type": "fragment"
    }
   },
   "outputs": [],
   "source": [
    "materias[0] #Misma forma de acceder a los elementos que una lista"
   ]
  },
  {
   "cell_type": "code",
   "execution_count": null,
   "metadata": {
    "slideshow": {
     "slide_type": "fragment"
    }
   },
   "outputs": [],
   "source": [
    "materias[0] = \"PROBABILIDAD\""
   ]
  },
  {
   "cell_type": "markdown",
   "metadata": {
    "slideshow": {
     "slide_type": "slide"
    }
   },
   "source": [
    "### Distintas formas de asignación"
   ]
  },
  {
   "cell_type": "code",
   "execution_count": null,
   "metadata": {
    "slideshow": {
     "slide_type": "fragment"
    }
   },
   "outputs": [],
   "source": [
    "strike1 = 10\n",
    "strike2 = 15\n",
    "strike3 = 29"
   ]
  },
  {
   "cell_type": "code",
   "execution_count": null,
   "metadata": {
    "slideshow": {
     "slide_type": "fragment"
    }
   },
   "outputs": [],
   "source": [
    "strike1, strike2, strike3 = (10, 15, 29)\n",
    "print(strike1)\n",
    "print(strike2)\n",
    "print(strike3)"
   ]
  },
  {
   "cell_type": "code",
   "execution_count": null,
   "metadata": {},
   "outputs": [],
   "source": [
    "#Otra forma de inicializar una tupla (tuple packing)\n",
    "mi_tupla = 1,2,3,4\n",
    "print(mi_tupla)"
   ]
  },
  {
   "cell_type": "code",
   "execution_count": null,
   "metadata": {},
   "outputs": [],
   "source": [
    "#Tuple unpacking\n",
    "primero, segundo, tercero, cuarto = mi_tupla\n",
    "print(primero)\n",
    "print(segundo)\n",
    "print(tercero)\n",
    "print(cuarto)"
   ]
  },
  {
   "cell_type": "markdown",
   "metadata": {},
   "source": [
    "<h2 style=\"color:#B22222\"> Ejercicio </h2>\n",
    "\n",
    "Sin utilizar una variable auxiliar intercambie los valores de *x* y *y*\n",
    "```python\n",
    "x = 10\n",
    "y = 5\n",
    "```"
   ]
  },
  {
   "cell_type": "code",
   "execution_count": null,
   "metadata": {},
   "outputs": [],
   "source": []
  },
  {
   "cell_type": "markdown",
   "metadata": {
    "slideshow": {
     "slide_type": "slide"
    }
   },
   "source": [
    "# Diccionarios {Key: Value}\n",
    "Hasta el momento hemos visto colecciones de elementos ordenados por un único índice número y numerado. Ahora veremos otra clase de objetos, los **diccionarios**, los cuáles son listas asociativas indexadas por llave; no por orden.\n",
    "\n",
    "La sintáxis de un diccionario:\n",
    "```python\n",
    "{llave1: valor1,\n",
    " llave2: valor2,\n",
    " ...\n",
    " llaven: valorn}\n",
    "```"
   ]
  },
  {
   "cell_type": "markdown",
   "metadata": {
    "slideshow": {
     "slide_type": "slide"
    }
   },
   "source": [
    "### ¿Por qué usaríamos un diccionario y no una lista?:\n",
    "Un diccionario de personas"
   ]
  },
  {
   "cell_type": "code",
   "execution_count": null,
   "metadata": {},
   "outputs": [],
   "source": [
    "alumnos = [\n",
    "    [\"José\", 11, \"rojo\", \"Administración\"],\n",
    "    [\"Charlie\", 33, \"Violeta\", \"Actuaría\"],\n",
    "    [\"Luis\", 23, \"Negro\", \"Matemáticas\"],\n",
    "    [\"Johanna\", 18, \"Gris\", \"Actuaría\"]\n",
    "]\n",
    "print(alumnos)"
   ]
  },
  {
   "cell_type": "markdown",
   "metadata": {},
   "source": [
    "¿Cómo encontraríamos la edad del tercer estudiante?"
   ]
  },
  {
   "cell_type": "markdown",
   "metadata": {},
   "source": [
    "Lo más probable es que nos preguntemos cuál es la edad de `\"Luis\"`.\n",
    "\n",
    "Utilizando una lista, necesitamos tener un registro de la posición de la lista que contiene a ```Luis```, además necesitamos también saber en que lugar se encuentra el dato que hace referencia a la edad.\n",
    "\n",
    "Usamos un diccionario cuando la relación de los elementos es de mayor importancia al orden de dónde provienen."
   ]
  },
  {
   "cell_type": "code",
   "execution_count": null,
   "metadata": {
    "slideshow": {
     "slide_type": "fragment"
    }
   },
   "outputs": [],
   "source": [
    "alumnos = {\n",
    "    \"José\":    [11, \"rojo\", \"Administración\"],\n",
    "    \"Charlie\": [33, \"Violeta\", \"Ingeniería\"],\n",
    "    \"Luis\": {'edad':23, 'color':'verder', 'carrera':'Actuaría'},\n",
    "    \"Johanna\": [18, \"Gris\", \"Finanzas\"]\n",
    "}\n",
    "print(alumnos)\n",
    "print(alumnos['Luis']['edad'])\n",
    "help(dict)"
   ]
  },
  {
   "cell_type": "code",
   "execution_count": null,
   "metadata": {
    "slideshow": {
     "slide_type": "fragment"
    }
   },
   "outputs": [],
   "source": [
    "#Podemos eliminar el contenido de una llave particular con del\n",
    "del alumnos[\"Luis\"]\n",
    "alumnos"
   ]
  },
  {
   "cell_type": "code",
   "execution_count": null,
   "metadata": {},
   "outputs": [],
   "source": [
    "alumnos[(1,2)] = 1\n",
    "print(alumnos)"
   ]
  },
  {
   "cell_type": "code",
   "execution_count": null,
   "metadata": {},
   "outputs": [],
   "source": [
    "alumnos[(1,2)]"
   ]
  },
  {
   "cell_type": "code",
   "execution_count": null,
   "metadata": {},
   "outputs": [],
   "source": [
    "#Las llaves de los diccionarios deben de ser objetos inmutables-\n",
    "alumnos[[1,5]] = 4"
   ]
  },
  {
   "cell_type": "markdown",
   "metadata": {},
   "source": [
    "Agregamos un elemento a un diccionario indexándolo sobre la llave de referencia y asignandole el valor deseado."
   ]
  },
  {
   "cell_type": "code",
   "execution_count": null,
   "metadata": {},
   "outputs": [],
   "source": [
    "alumnos[\"Gerardo\"] = [23, \"vino\", \"Actuaría\"]\n",
    "print(alumnos)"
   ]
  },
  {
   "cell_type": "markdown",
   "metadata": {},
   "source": [
    "### Métodos dentro de un diccionario"
   ]
  },
  {
   "cell_type": "code",
   "execution_count": null,
   "metadata": {},
   "outputs": [],
   "source": [
    "# Las llaves del diccionario\n",
    "print(alumnos.keys())\n",
    "print(type(alumnos.keys()))"
   ]
  },
  {
   "cell_type": "code",
   "execution_count": null,
   "metadata": {},
   "outputs": [],
   "source": [
    "# Lista de tuplas con dos elementos. La primera llave el nombre y la segunda los valoresb\n",
    "print(alumnos.items())"
   ]
  },
  {
   "cell_type": "code",
   "execution_count": null,
   "metadata": {},
   "outputs": [],
   "source": [
    "print(alumnos.get('David'))"
   ]
  },
  {
   "cell_type": "code",
   "execution_count": null,
   "metadata": {},
   "outputs": [],
   "source": [
    "help(dict.get)"
   ]
  },
  {
   "cell_type": "code",
   "execution_count": null,
   "metadata": {},
   "outputs": [],
   "source": [
    "print(alumnos.get('David', 'No hay'))"
   ]
  },
  {
   "cell_type": "markdown",
   "metadata": {},
   "source": [
    "## {Sets}\n",
    "\n",
    "Un `set` (conjunto) es una colección no ordenada de valores únicos. Para dos conjuntos `A`, `B` y valores `a` dentro de `A` y `b` dentro de `B`, se cumplen con las siguientes características\n",
    "* `A & B` (Intersección): Elementos en `A` y en `B`\n",
    "* `A | B` (Unión): Elementos en `A` o en `B`\n",
    "* `A - B` (Diferencia): Elementos en `A` no presentes en `B`\n",
    "* `A ^ B` (Diferencia Simétrica): Elementos en cualquiera de los conjuntos `A` o `B`, mas no en los dos.\n",
    "* `A <= B` (Subconjunto): Prueba si todos los elementos en `A` se encuentran dentro de `B`\n",
    "* `A >= B` (Superconjunto): Prueba si todos los elementos en `B` se encuentran dentro de `A`"
   ]
  },
  {
   "cell_type": "code",
   "execution_count": null,
   "metadata": {},
   "outputs": [],
   "source": [
    "vocales = {'a', 'a', 'e', 'i', 'o', 'u'}\n",
    "p1 = {'c', 'a', 'r', 'r', 'o'}\n",
    "print(vocales)"
   ]
  },
  {
   "cell_type": "code",
   "execution_count": null,
   "metadata": {},
   "outputs": [],
   "source": [
    "print(type(vocales))"
   ]
  },
  {
   "cell_type": "code",
   "execution_count": null,
   "metadata": {},
   "outputs": [],
   "source": [
    "p1 & vocales"
   ]
  },
  {
   "cell_type": "code",
   "execution_count": null,
   "metadata": {},
   "outputs": [],
   "source": [
    "p1 | vocales"
   ]
  },
  {
   "cell_type": "code",
   "execution_count": null,
   "metadata": {},
   "outputs": [],
   "source": [
    "p1 - vocales"
   ]
  },
  {
   "cell_type": "code",
   "execution_count": null,
   "metadata": {},
   "outputs": [],
   "source": [
    "p1 ^ vocales"
   ]
  },
  {
   "cell_type": "markdown",
   "metadata": {},
   "source": [
    "Es posible convertir una lista en un conjunto"
   ]
  },
  {
   "cell_type": "code",
   "execution_count": null,
   "metadata": {},
   "outputs": [],
   "source": [
    "lista = ['a','b', 'c', 'd', 'a', 'b']\n",
    "conjunto = set(lista)\n",
    "print(conjunto)\n",
    "len(conjunto)"
   ]
  },
  {
   "cell_type": "markdown",
   "metadata": {
    "slideshow": {
     "slide_type": "slide"
    }
   },
   "source": [
    "<h2 style=\"color:#B22222\"> Ejercicio </h2>\n",
    "\n",
    "1. Dado el diccionario `vocales`, accede al primer elemento dentro de la llave `\"minusculas\"`\n",
    "```python\n",
    "vocales = {\n",
    "    \"mayusculas\": ['A', 'E', 'I', 'O', 'U'],\n",
    "    \"minusculas\": ['a', 'e', 'i', 'o', 'u']\n",
    "}\n",
    "```\n",
    "2. Modifica el diccionario `alumnos` de tal manera que cada llave del diccionario sea el nombre del estudiante y el valor un diccionario adicional con las llaves `\"edad\"`, `\"color_favorito\"`, `\"carrera\"`, asignados a sus valores correspondientes.\n",
    "\n",
    "```python\n",
    "alumnos = {\n",
    "    \"José\":  [11, \"rojo\", \"Administración\"],\n",
    "    \"Charlie\": [33, \"Violeta\", \"Ingeniería\"]\n",
    "}\n",
    "```\n",
    "3. ¿Cuál es la longitud del set `{'q', 'u', 'e', 'u', 'e'}`? Explica.\n",
    "4. Considerando los conjuntos `investor1`, `investor2` e `investor3`\n",
    "    * Encuentra todas las acciones que `investor1`, `investor2`, `investor3` e `investor4` tienen en conjunto\n",
    "    * Encuentra las acciones que `investor1`, `investor3` e `investor4` tienen en común\n",
    "\n",
    "```python\n",
    "investor1 = {'HOTEL', 'CHDRAUI', 'ALPEK', 'VISTA', 'MFRISCO', 'AHMSA', 'LAB', 'SPORT', 'SAVIA', 'LASEG'}\n",
    "investor2 = {'CMOCTEZ', 'BEVIDES', 'OMA', 'GNP', 'AGRIEXP', 'SPORT', 'TRAXION', 'GENTERA', 'COLLADO', 'LAMOSA'}\n",
    "investor3 = {'FEMSA', 'ALSEA', 'BIMBO', 'ELEMENT', 'FINAMEX', 'GCC', 'VISTA', 'GEO', 'IENOVA', 'OMA', 'CADU', 'ANB', 'AUTLAN', 'GICSA', 'GFNORTE', 'IDEAL', 'MEXCHEM', 'ELEKTRA', 'SITES', 'CABLE'}\n",
    "investor4 = {'GENTERA', 'BOLSA', 'VISTA', 'TEAK', 'ACCELSA', 'CUERVO', 'TEKCHEM', 'QBINDUS', 'MEDICA', 'URBI', 'CIE', 'NEMAK', 'KIMBER', 'GPH', 'GMD', 'ACTINVR', 'GAP', 'JAVER', 'INGEAL', 'ARA'}\n",
    "```"
   ]
  },
  {
   "cell_type": "code",
   "execution_count": null,
   "metadata": {},
   "outputs": [],
   "source": [
    "investor1 = {'HOTEL', 'CHDRAUI', 'ALPEK', 'VISTA', 'MFRISCO', 'AHMSA', 'LAB', 'SPORT', 'SAVIA', 'LASEG'}\n",
    "investor2 = {'CMOCTEZ', 'BEVIDES', 'OMA', 'GNP', 'AGRIEXP', 'SPORT', 'TRAXION', 'GENTERA', 'COLLADO', 'LAMOSA'}\n",
    "investor3 = {'FEMSA', 'ALSEA', 'BIMBO', 'ELEMENT', 'FINAMEX', 'GCC', 'VISTA', 'GEO', 'IENOVA', 'OMA', 'CADU', 'ANB', 'AUTLAN', 'GICSA', 'GFNORTE', 'IDEAL', 'MEXCHEM', 'ELEKTRA', 'SITES', 'CABLE'}\n",
    "investor4 = {'GENTERA', 'BOLSA', 'VISTA', 'TEAK', 'ACCELSA', 'CUERVO', 'TEKCHEM', 'QBINDUS', 'MEDICA', 'URBI', 'CIE', 'NEMAK', 'KIMBER', 'GPH', 'GMD', 'ACTINVR', 'GAP', 'JAVER', 'INGEAL', 'ARA'}"
   ]
  },
  {
   "cell_type": "code",
   "execution_count": null,
   "metadata": {},
   "outputs": [],
   "source": []
  }
 ],
 "metadata": {
  "celltoolbar": "Slideshow",
  "kernelspec": {
   "display_name": "Python 3",
   "language": "python",
   "name": "python3"
  },
  "language_info": {
   "codemirror_mode": {
    "name": "ipython",
    "version": 3
   },
   "file_extension": ".py",
   "mimetype": "text/x-python",
   "name": "python",
   "nbconvert_exporter": "python",
   "pygments_lexer": "ipython3",
   "version": "3.7.6"
  }
 },
 "nbformat": 4,
 "nbformat_minor": 4
}
