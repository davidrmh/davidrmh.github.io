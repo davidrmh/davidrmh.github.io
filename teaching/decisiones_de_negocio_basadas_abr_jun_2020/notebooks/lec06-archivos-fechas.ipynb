{
 "cells": [
  {
   "cell_type": "markdown",
   "metadata": {
    "local_metadata": {},
    "remote_metadata": {
     "slideshow": {
      "slide_type": "slide"
     }
    }
   },
   "source": [
    "# Lectura y escritura de archivos.\n",
    "\n",
    "Antes de iniciar con la lectura/escritura de archivos, es necesario entender los tipos de rutas que podemos utilizar.\n",
    "\n",
    "## Rutas \n",
    "\n",
    "Una ruta (path en inglés) especifica la ubicación de un archivo o programa siguiendo una jerarquía de directorios (medios de almacenamiento o carpetas).\n",
    "\n",
    "### Rutas absolutas\n",
    "\n",
    "Una ruta absoluta apunta siempre a una misma localización dentro de un sistema de archivos. Este tipo de rutas deben de incluir el directorio raíz\n",
    "\n",
    "**Ejemplos**\n",
    "\n",
    "*Windows*\n",
    "\n",
    "```\n",
    "C:\\Documents\\Newsletters\\Summer2018.pdf\n",
    "```\n",
    "\n",
    "*Unix*\n",
    "\n",
    "```\n",
    "/home/david/Documents/Summer2018.pdf\n",
    "```\n",
    "\n",
    "Sin importar en que directorio estemos trabajando, una ruta absoluta siempre hace referencia al mismo lugar.\n",
    "\n",
    "### Rutas relativas\n",
    "\n",
    "Una ruta relativa evita la necesidad de especificar la localización exacta de un archivo. Esta tipo de rutas se basan en la ubicación del directorio sobre el cual se está trabajando.\n"
   ]
  },
  {
   "cell_type": "markdown",
   "metadata": {},
   "source": [
    "```\n",
    ".\n",
    "├── index.html\n",
    "├── index.Rmd\n",
    "├── soluciones\n",
    "│   ├── lec01_solucion.ipynb\n",
    "│   ├── lec02_solucion.ipynb\n",
    "│   ├── lec03_solucion.ipynb\n",
    "│   ├── lec04_solucion.ipynb\n",
    "│   ├── lec05_solucion.ipynb\n",
    "│   \n",
    "└── notebooks\n",
    "    ├── lec01.ipynb\n",
    "    ├── lec02.ipynb\n",
    "    ├── lec03.ipynb\n",
    "    ├── lec04.ipynb\n",
    "    ├── lec05.ipynb\n",
    "    ├── lec06.ipynb\n",
    "```\n",
    "\n",
    "\n",
    "**Ejemplo en UNIX**\n",
    "\n",
    "*Ruta relativa para el archivo lec01_solucion.ipynb*\n",
    "*estando en el directorio notebooks*\n",
    "\n",
    "```python\n",
    "ruta = '../soluciones/lec01_solucion.ipynb'\n",
    "```\n",
    "\n",
    "Los dos puntos seguidos, ```..```, sirven para indicar que se sube un directorio desde el directorio actual."
   ]
  },
  {
   "cell_type": "markdown",
   "metadata": {},
   "source": [
    "# Abriendo archivos con python\n",
    "\n",
    "La función `open` nos permite abrir un archivo encontrado desde nuestra computadora. Con un archivo abierto, podemos escribir, leer, o añadir. \n",
    "\n",
    " \n",
    " \n",
    "```python\n",
    "ruta_archivo = 'Ruta relativa o ruta absoluta'\n",
    "\n",
    "open(file, mode='r', buffering=-1, encoding=None, errors=None, newline=None, closefd=True, opener=None)\n",
    "```"
   ]
  },
  {
   "cell_type": "code",
   "execution_count": null,
   "metadata": {},
   "outputs": [],
   "source": [
    "help(open)"
   ]
  },
  {
   "cell_type": "code",
   "execution_count": null,
   "metadata": {},
   "outputs": [],
   "source": [
    "#Ruta (relativa) del archivo que se abrirá\n",
    "path = \"../datos/primer_archivo.txt\"\n",
    "\n",
    "#Se abre el archivo\n",
    "#por default se abre en modo lectura\n",
    "f = open(path)\n",
    "\n",
    "#el método readlines lee cada línea y las almacena en una lista\n",
    "texto = f.readlines() \n",
    "\n",
    "#Una vez consumido el contenido del archivo\n",
    "#es necesario cerrarlo\n",
    "f.close()\n",
    "\n",
    "for linea in texto:\n",
    "    print(linea)\n",
    "    \n",
    "type(texto)\n",
    "print(texto)"
   ]
  },
  {
   "cell_type": "markdown",
   "metadata": {},
   "source": [
    "# Abriendo archivos con ```with``` y ```open```\n",
    "\n",
    "Utilizando ```with``` Es posible abrir un archivo sin la necesidad de invocar al método ```close```.\n",
    "\n",
    "```python\n",
    "with open(path, mode=\"r\") as alias: #No olvide los dos puntos (:)\n",
    "    #Observe la sangría\n",
    "    #Con el método read se lee todo el contenido como string\n",
    "    texto = alias.read()\n",
    "    #Más código\n",
    "```\n",
    "\n",
    "Al salir del bloque de código que encierra ```with``` el archivo se cierra de manera automática."
   ]
  },
  {
   "cell_type": "code",
   "execution_count": null,
   "metadata": {},
   "outputs": [],
   "source": [
    "path = \"../datos/primer_archivo.txt\"\n",
    "\n",
    "with open(path, mode=\"r\") as f:\n",
    "    #lee todo como string    \n",
    "    texto = f.read() \n",
    "\n",
    "#Se sale del bloque with\n",
    "#y se cierra el archivo\n",
    "print(texto)\n",
    "print(type(texto))\n",
    "texto"
   ]
  },
  {
   "cell_type": "markdown",
   "metadata": {},
   "source": [
    "# Leyendo archivos pesados\n",
    "\n",
    "Suponga que tiene un archivo con una gran cantidad de información y desea sólo obtener una porción de esta.\n",
    "\n",
    "En este caso, resulta inconveniente invocar los métodos ```read```, ```readlines```, ya que estos cargarían todo el contenido del archivo en memoria.\n",
    "\n",
    "Afortunadamente, el objeto que regresa la función ```open``` es un objeto que puede utilizarse dentro de un cíclo ```for```."
   ]
  },
  {
   "cell_type": "code",
   "execution_count": null,
   "metadata": {},
   "outputs": [],
   "source": [
    "path = '../datos/archivo_pesado.txt'\n",
    "with open(path, mode = 'r') as f:\n",
    "    #Este for es equivalente a\n",
    "    #hacer varios f.readline()\n",
    "    for linea in f:\n",
    "        if 'SI' in linea:\n",
    "            variable = linea\n",
    "            break\n",
    "print(variable)"
   ]
  },
  {
   "cell_type": "markdown",
   "metadata": {},
   "source": [
    "# Escribiendo archivos\n",
    "\n",
    "Para escribir un archivo, tenemos que utilizar ```mode = 'w'``` en la función ```open```.\n",
    "\n",
    "\n",
    "<div style=\"background:rgba(255,0,0,0.2)\">\n",
    "    <b> Precaución: </b>\n",
    "    \n",
    "Al utilizar mode = 'w', si el archivo ya existe, el contenido que tenga previamente será borrado\n",
    "<div>\n"
   ]
  },
  {
   "cell_type": "code",
   "execution_count": null,
   "metadata": {},
   "outputs": [],
   "source": [
    "#Abrimos (creamos) el archivo deseado\n",
    "path = '../datos/prueba.txt'\n",
    "with open(path, 'w') as f:\n",
    "    texto = 'Este es un texto\\n'\n",
    "    f.write(texto)\n",
    "    \n",
    "    #Si se usa un iterable\n",
    "    #recuerde poner algún caracter para separar\n",
    "    #cada elemento, en este caso \\n (espacio en blanco)\n",
    "    lista_texto = ('Texto2\\n','Texto3\\n')\n",
    "    f.writelines(lista_texto)\n",
    "    \n",
    "    #Todo lo que se piensa escribir\n",
    "    #tiene que ser del tipo str\n",
    "    numero = 4\n",
    "    f.write(str(4))\n",
    "    \n",
    "with open(path, 'r') as f:\n",
    "    contenido = f.read()\n",
    "    print(contenido)"
   ]
  },
  {
   "cell_type": "code",
   "execution_count": null,
   "metadata": {},
   "outputs": [],
   "source": [
    "#Precaución con el mode 'w'\n",
    "with open(path, 'w') as f:\n",
    "    texto = 'Voy a borrar el contenido previo'\n",
    "    f.write(texto)\n",
    "    \n",
    "with open(path, 'r') as f:\n",
    "    contenido = f.read()\n",
    "    print(contenido)    "
   ]
  },
  {
   "cell_type": "markdown",
   "metadata": {},
   "source": [
    "# Agregando información a un archivo\n",
    "\n",
    "Si deseamos conservar la información que tiene un archivo y queremos escribir sobre el, debemos de utilizar ```mode = 'a'``` ('a' de append)."
   ]
  },
  {
   "cell_type": "code",
   "execution_count": null,
   "metadata": {},
   "outputs": [],
   "source": [
    "path = '../datos/primer_archivo.txt'\n",
    "\n",
    "with open(path, 'a') as f:\n",
    "    f.write('No doy ni $10 por el Atlas')\n",
    "\n",
    "with open(path, 'r') as f:\n",
    "    print(f.read())"
   ]
  },
  {
   "cell_type": "markdown",
   "metadata": {},
   "source": [
    "# Ejercicio\n",
    "\n",
    "A partir del archivo ```operaciones.csv``` programe una función que cree otro archivo en donde además del contenido de ```operaciones.csv```, este nuevo archivo debe de tener la columna `Resultado` en donde se debe de poner el resultado de la operación indicada.\n",
    "\n",
    "Por ejemplo\n",
    "\n",
    "*operaciones.csv*\n",
    "\n",
    "|Izquierdo|Derecho|Operador|\n",
    "|---------|-------|--------|\n",
    "|1|5|+|\n",
    "|4|2|/|\n",
    "\n",
    "\n",
    "*resultado.csv*\n",
    "\n",
    "|Izquierdo|Derecho|Operador|Resultado|\n",
    "|---------|-------|--------|---------|\n",
    "|1|5|+|1 + 5 es 6\n",
    "|4|2|/|4 / 2 es 2.0|\n",
    "\n",
    "\n",
    "**Sugerencia**\n",
    "\n",
    "```python\n",
    "eval('1 + 5')\n",
    "\n",
    "help(str.join)\n",
    "```"
   ]
  },
  {
   "cell_type": "code",
   "execution_count": null,
   "metadata": {},
   "outputs": [],
   "source": []
  },
  {
   "cell_type": "markdown",
   "metadata": {},
   "source": [
    "# Ejercicio\n",
    "\n",
    "Utilizando el archivo `n_lineas.txt` programe una función que imprima las primeras `n` líneas del archivo o las últimas `n` lineas."
   ]
  },
  {
   "cell_type": "code",
   "execution_count": null,
   "metadata": {},
   "outputs": [],
   "source": []
  },
  {
   "cell_type": "markdown",
   "metadata": {
    "slideshow": {
     "slide_type": "slide"
    }
   },
   "source": [
    "# Manejo de fechas\n",
    "\n",
    "Para manejar fechas, podemos utilizar la clase `datetime` del módulo `datetime`"
   ]
  },
  {
   "cell_type": "code",
   "execution_count": null,
   "metadata": {
    "slideshow": {
     "slide_type": "fragment"
    }
   },
   "outputs": [],
   "source": [
    "import datetime as dt"
   ]
  },
  {
   "cell_type": "code",
   "execution_count": null,
   "metadata": {},
   "outputs": [],
   "source": [
    "help(dt.datetime)"
   ]
  },
  {
   "cell_type": "code",
   "execution_count": null,
   "metadata": {
    "slideshow": {
     "slide_type": "slide"
    }
   },
   "outputs": [],
   "source": [
    "#19 de agosto de 1995\n",
    "start_date = dt.datetime(1995, 8, 19)\n",
    "print(start_date)\n",
    "print(type(start_date))"
   ]
  },
  {
   "cell_type": "markdown",
   "metadata": {},
   "source": [
    "## Algunos métodos y atributos de las fechas"
   ]
  },
  {
   "cell_type": "code",
   "execution_count": null,
   "metadata": {
    "slideshow": {
     "slide_type": "fragment"
    }
   },
   "outputs": [],
   "source": [
    "# (método) Día de la semana\n",
    "print(start_date.weekday())"
   ]
  },
  {
   "cell_type": "code",
   "execution_count": null,
   "metadata": {},
   "outputs": [],
   "source": [
    "help(dt.datetime.weekday)"
   ]
  },
  {
   "cell_type": "code",
   "execution_count": null,
   "metadata": {},
   "outputs": [],
   "source": [
    "#(atributo) Día del mes\n",
    "print(start_date.day)\n",
    "\n",
    "# (atributo) Mes\n",
    "print(start_date.month)\n",
    "\n",
    "# (atributo) Año\n",
    "print(start_date.year)"
   ]
  },
  {
   "cell_type": "markdown",
   "metadata": {},
   "source": [
    "## Presentando fechas en un formato determinado\n",
    "\n",
    "Para imprimir una fecha en un formato deseado se utiliza la función `strftime` (string format time).\n",
    "\n",
    "Documentación en:\n",
    "\n",
    "https://docs.python.org/3/library/datetime.html?highlight=datetime#strftime-and-strptime-behavior"
   ]
  },
  {
   "cell_type": "code",
   "execution_count": null,
   "metadata": {
    "slideshow": {
     "slide_type": "fragment"
    }
   },
   "outputs": [],
   "source": [
    "#strftime ... string format time\n",
    "#mes día año (sólo dos números) separados por un guión\n",
    "print(start_date.strftime(\"%m-%d-%y\"))\n",
    "\n",
    "print(start_date.strftime(\"%m/%d/%y\"))\n",
    "\n",
    "print(start_date.strftime(\"%m|%d|%y\"))\n",
    "\n",
    "print(start_date.strftime(\"%m\\%d\\%y\"))\n",
    "\n",
    "print(start_date.strftime(\"The date is %A, %B %d %Y\"))"
   ]
  },
  {
   "cell_type": "markdown",
   "metadata": {},
   "source": [
    "## Cambiando el idioma"
   ]
  },
  {
   "cell_type": "code",
   "execution_count": null,
   "metadata": {},
   "outputs": [],
   "source": [
    "#Cambiando el idioma\n",
    "import locale\n",
    "print(locale.getlocale())"
   ]
  },
  {
   "cell_type": "code",
   "execution_count": null,
   "metadata": {},
   "outputs": [],
   "source": [
    "locale.setlocale(locale.LC_ALL, ('es_MX', 'UTF-8'))\n",
    "print(locale.getlocale())\n",
    "print(start_date.strftime(\"%A %d de %B de %Y\"))"
   ]
  },
  {
   "cell_type": "markdown",
   "metadata": {},
   "source": [
    "## Convirtiendo un string a un objeto datetime\n",
    "\n",
    "Para convertir un string que representa una fecha en cierto formato, podemos utilizar la función ```strptime``` (string parse time)"
   ]
  },
  {
   "cell_type": "code",
   "execution_count": null,
   "metadata": {},
   "outputs": [],
   "source": [
    "fecha = dt.datetime.strptime(\"2012.12.25\", \"%Y.%m.%d\")\n",
    "print(fecha)\n",
    "\n",
    "fecha = dt.datetime.strptime(\"12/25/2010\", \"%m/%d/%Y\")\n",
    "print(fecha)\n",
    "\n",
    "fecha_hora = dt.datetime.strptime(\"12-25-2010 15:30:10\", \"%m-%d-%Y %H:%M:%S\")\n",
    "print(fecha_hora)"
   ]
  },
  {
   "cell_type": "markdown",
   "metadata": {},
   "source": [
    "## Aritmética con fechas\n",
    "\n",
    "Para realizar operaciones con objetos datetime.datetime podemos utilizar la clase ```timedelta``` del módulo `datetime`"
   ]
  },
  {
   "cell_type": "code",
   "execution_count": null,
   "metadata": {},
   "outputs": [],
   "source": [
    "help(dt.timedelta)"
   ]
  },
  {
   "cell_type": "code",
   "execution_count": null,
   "metadata": {},
   "outputs": [],
   "source": [
    "hoy_detallado = dt.datetime.now()\n",
    "print(hoy_detallado)\n",
    "#Crea una fecha que sólo utiliza año, mes y día.\n",
    "hoy_simple = dt.date(hoy_detallado.year, hoy_detallado.month, hoy_detallado.day)\n",
    "print(hoy_simple)"
   ]
  },
  {
   "cell_type": "code",
   "execution_count": null,
   "metadata": {
    "slideshow": {
     "slide_type": "fragment"
    }
   },
   "outputs": [],
   "source": [
    "#sumamos 365 días\n",
    "delta = dt.timedelta(days = 365)\n",
    "nueva_fecha = hoy_simple + delta\n",
    "print(nueva_fecha)"
   ]
  },
  {
   "cell_type": "code",
   "execution_count": null,
   "metadata": {},
   "outputs": [],
   "source": [
    "#sumamos 0.02 días\n",
    "#En este caso es necesario utilizar hoy_detallado\n",
    "delta = dt.timedelta(days = 0.02)\n",
    "nueva_fecha_det = hoy_detallado + delta\n",
    "nueva_fecha_sim = hoy_simple + delta\n",
    "print(delta)\n",
    "print(nueva_fecha_det)\n",
    "print(nueva_fecha_sim)"
   ]
  },
  {
   "cell_type": "code",
   "execution_count": null,
   "metadata": {},
   "outputs": [],
   "source": [
    "#Sumamos 10 semanas\n",
    "delta = dt.timedelta(weeks = 10)\n",
    "nueva_fecha_det = hoy_detallado + delta\n",
    "nueva_fecha_sim = hoy_simple + delta\n",
    "print(nueva_fecha_det)\n",
    "print(nueva_fecha_sim)"
   ]
  },
  {
   "cell_type": "markdown",
   "metadata": {},
   "source": [
    "# Ejercicios (day count conventions)\n",
    "\n",
    "Programe las siguiente funciones para ajustar los días de acuerdo a una convención dada.\n",
    "\n",
    "\n",
    "## Following business day rule\n",
    "\n",
    "Cuando la fecha de un pago cae en fin de semana o día festivo, esta fecha es ajustada para que sea el día hábil siguiente más cercano.\n",
    "\n",
    "Programe una función que haga dicho ajuste.\n",
    "\n",
    "```python\n",
    "def following_day_rule(fecha = '2019/11/01', festivos = ['2019/11/01']):\n",
    "```\n",
    "\n",
    "* Fecha de pago 2019/11/01\n",
    "* Día festivo 2019/11/01\n",
    "* Fecha ajustada 2019/11/04\n",
    "\n",
    "## Modified following business day rule\n",
    "\n",
    "Cuando la fecha de un pago es un fin de semana o día festivo, esta fecha es ajustada para que sea el día hábil siguiente más cercano. Sin embargo, si dicho día no está dentro del mismo mes, entonces la fecha se ajusta para que sea el día hábil anterior más cercano a la fecha de pago.\n",
    "\n",
    "Programe una función que haga dicho ajuste.\n",
    "\n",
    "```python\n",
    "def mod_foll_rule(fecha = '2019/11/29', festivos = ['2019/11/29']):\n",
    "```\n",
    "\n",
    "* Fecha de pago 2019/11/29\n",
    "* Día festivo 2019/11/29\n",
    "* Fecha ajustada 2019/11/28\n",
    "\n",
    "## Preceding business day rule\n",
    "\n",
    "Cuando la fecha de pago es un fin de semana o día festivo, esta fecha es ajustada para que sea el día hábil anterior más cercano.\n",
    "\n",
    "Programe una función que haga dicho ajuste.\n",
    "\n",
    "```python\n",
    "def pre_day_rule(fecha = '2019/11/01', festivos = ['2019/11/01']):\n",
    "```\n",
    "\n",
    "* Fecha de pago 2019/11/04\n",
    "* Festivos 2019/11/01 y 2019/11/04\n",
    "* Fecha ajustada 2019/10/31\n",
    "\n",
    "## Modified preceding business day rule\n",
    "\n",
    "Cuando la fecha de pago es un fin de semana o días festivo, la fecha se ajusta para que sea el día hábil anterior más cercano. Sin embargo, si este día no está dentro del mismo mes, esta fecha se ajusta para que sea el día hábil siguiente más cercano a la fecha de pago.\n",
    "\n",
    "```python\n",
    "def mod_pre_day_rule(fecha = '2019/11/01', festivos = ['2019/11/01']):\n",
    "```\n",
    "* Fecha de pago 2019/11/04\n",
    "* Festivos 2019/11/01 y 2019/11/04\n",
    "* Fecha ajustada 2019/11/05\n"
   ]
  },
  {
   "cell_type": "code",
   "execution_count": null,
   "metadata": {},
   "outputs": [],
   "source": []
  },
  {
   "cell_type": "markdown",
   "metadata": {
    "slideshow": {
     "slide_type": "slide"
    }
   },
   "source": [
    "\n"
   ]
  },
  {
   "cell_type": "markdown",
   "metadata": {
    "local_metadata": {},
    "remote_metadata": {
     "slideshow": {
      "slide_type": "slide"
     }
    }
   },
   "source": [
    "## Interactuando con el sistema operativo\n",
    "\n",
    "Para interactuar con el sistema operativo, se puede utilizar el módulo `os`"
   ]
  },
  {
   "cell_type": "code",
   "execution_count": null,
   "metadata": {
    "local_metadata": {},
    "remote_metadata": {
     "slideshow": {
      "slide_type": "fragment"
     }
    }
   },
   "outputs": [],
   "source": [
    "import os"
   ]
  },
  {
   "cell_type": "code",
   "execution_count": null,
   "metadata": {
    "slideshow": {
     "slide_type": "slide"
    }
   },
   "outputs": [],
   "source": [
    "#Lista los contenidos de una carpeta\n",
    "print(os.listdir(\"../datos/\"))\n",
    "print('-' * 50)\n",
    "print(os.listdir())"
   ]
  },
  {
   "cell_type": "code",
   "execution_count": null,
   "metadata": {
    "slideshow": {
     "slide_type": "fragment"
    }
   },
   "outputs": [],
   "source": [
    "#Crea una carpeta\n",
    "os.mkdir(\"../datos/nueva_carpeta\")\n",
    "print(os.listdir(\"../datos/\"))"
   ]
  },
  {
   "cell_type": "code",
   "execution_count": null,
   "metadata": {},
   "outputs": [],
   "source": [
    "#Elimina una carpeta\n",
    "os.removedirs(\"../datos/nueva_carpeta\")\n",
    "print(os.listdir(\"../datos/\"))"
   ]
  },
  {
   "cell_type": "code",
   "execution_count": null,
   "metadata": {},
   "outputs": [],
   "source": [
    "#Con el módulo glob es posible\n",
    "#listar archivos con cierta extensión\n",
    "import glob\n",
    "\n",
    "#lista los archivos con extensión txt\n",
    "print(glob.glob('../datos/*.txt'))"
   ]
  }
 ],
 "metadata": {
  "celltoolbar": "Slideshow",
  "kernelspec": {
   "display_name": "Python 3",
   "language": "python",
   "name": "python3"
  },
  "language_info": {
   "codemirror_mode": {
    "name": "ipython",
    "version": 3
   },
   "file_extension": ".py",
   "mimetype": "text/x-python",
   "name": "python",
   "nbconvert_exporter": "python",
   "pygments_lexer": "ipython3",
   "version": "3.7.6"
  },
  "nbdime-conflicts": {
   "local_diff": [
    {
     "key": "language_info",
     "op": "add",
     "value": {
      "codemirror_mode": {
       "name": "ipython",
       "version": 3
      },
      "file_extension": ".py",
      "mimetype": "text/x-python",
      "name": "python",
      "nbconvert_exporter": "python",
      "pygments_lexer": "ipython3",
      "version": "3.6.8"
     }
    }
   ],
   "remote_diff": [
    {
     "key": "language_info",
     "op": "add",
     "value": {
      "codemirror_mode": {
       "name": "ipython",
       "version": 3
      },
      "file_extension": ".py",
      "mimetype": "text/x-python",
      "name": "python",
      "nbconvert_exporter": "python",
      "pygments_lexer": "ipython3",
      "version": "3.7.3"
     }
    }
   ]
  }
 },
 "nbformat": 4,
 "nbformat_minor": 4
}
