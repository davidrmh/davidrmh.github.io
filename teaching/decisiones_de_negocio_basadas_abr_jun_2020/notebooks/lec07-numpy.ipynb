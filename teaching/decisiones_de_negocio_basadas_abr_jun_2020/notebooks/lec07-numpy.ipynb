{
 "cells": [
  {
   "cell_type": "markdown",
   "metadata": {
    "slideshow": {
     "slide_type": "slide"
    }
   },
   "source": [
    "# Librería Numpy\n",
    "\n",
    "https://numpy.org/devdocs/index.html"
   ]
  },
  {
   "cell_type": "code",
   "execution_count": null,
   "metadata": {
    "slideshow": {
     "slide_type": "slide"
    }
   },
   "outputs": [],
   "source": [
    "#Forma más común de import numpy, utilizando el alias np\n",
    "import numpy as np"
   ]
  },
  {
   "cell_type": "markdown",
   "metadata": {
    "slideshow": {
     "slide_type": "fragment"
    }
   },
   "source": [
    "* La librería ```numpy``` nos permite trabajar con arreglos matriciales de datos.\n",
    "\n",
    "* El objeto principal de esta librería son arreglos **homogéneos** multidimensionales (puede pensarlo como un arreglo que contiene una o más tablas).\n",
    "\n",
    "* La dimensiones de un arreglo se llaman **ejes** (axis).\n",
    "\n",
    "* El número de ejes se llama el **rango** (rank).\n",
    "\n",
    "Para crear un arreglo, se utiliza la función `array`\n",
    "\n",
    "```python\n",
    "import numpy as np\n",
    "arreglo = np.array([1,2,3])\n",
    "\n",
    "#INCORRECTO\n",
    "#Se tienen que poner los elementos\n",
    "#adentro de una lista (o tupla)\n",
    "arreglon = np.array(1,2,3)\n",
    "```"
   ]
  },
  {
   "cell_type": "code",
   "execution_count": null,
   "metadata": {},
   "outputs": [],
   "source": [
    "#Renglón de 3 elementos\n",
    "arreglo = np.array([1,2,3])\n",
    "print(arreglo)\n",
    "print(type(arreglo))"
   ]
  },
  {
   "cell_type": "code",
   "execution_count": null,
   "metadata": {
    "slideshow": {
     "slide_type": "fragment"
    }
   },
   "outputs": [],
   "source": [
    "#Matriz con 2 renglones y 3 columnas\n",
    "arr1 = np.array( [ [1, 2, 3], [4, 5, 1] ] )\n",
    "print(arr1)"
   ]
  },
  {
   "cell_type": "code",
   "execution_count": null,
   "metadata": {},
   "outputs": [],
   "source": [
    "#Los arreglos son homogéneos\n",
    "homogeneo1 = np.array([1,2, '3'])\n",
    "print(homogeneo1)\n",
    "#Unicode string de 21 caracteres\n",
    "print(homogeneo1.dtype)"
   ]
  },
  {
   "cell_type": "code",
   "execution_count": null,
   "metadata": {},
   "outputs": [],
   "source": [
    "homogeneo2 = np.array([1,2, {'c':3}])\n",
    "print(homogeneo2)\n",
    "print(homogeneo2.dtype)"
   ]
  },
  {
   "cell_type": "markdown",
   "metadata": {},
   "source": [
    "## Aplicando funciones sobre los ejes (renglones o columnas)\n",
    "\n",
    "Los `ndarrays` tienen métodos que pueden ser aplicados a cada uno de los ejes"
   ]
  },
  {
   "cell_type": "code",
   "execution_count": null,
   "metadata": {},
   "outputs": [],
   "source": [
    "#Suma los elementos en dirección de los renglones\n",
    "#Fija columna y suma sobre cada renglón\n",
    "print(arr1.sum(axis = 0))"
   ]
  },
  {
   "cell_type": "code",
   "execution_count": null,
   "metadata": {},
   "outputs": [],
   "source": [
    "#Suma los elementos en dirección de las columnas\n",
    "#Fija renglón y suma sobre cada columna\n",
    "print(arr1.sum(axis = 1))"
   ]
  },
  {
   "cell_type": "code",
   "execution_count": null,
   "metadata": {},
   "outputs": [],
   "source": [
    "print(arr1)\n",
    "print('--'*20)\n",
    "print(arr1.max(axis = 0))\n",
    "print('--'*20)\n",
    "print(arr1.max(axis = 1))"
   ]
  },
  {
   "cell_type": "code",
   "execution_count": null,
   "metadata": {},
   "outputs": [],
   "source": [
    "#Arreglo de tres dimensiones\n",
    "arr3d = np.array([ [ [1, 2, 3], [4, 5, 6] ],\\\n",
    "                  [ [6, 7, 8], [9, 10, 11] ]  ])\n",
    "\n",
    "#shape es un atributo que nos dice\n",
    "#las dimensiones de un arreglo\n",
    "#En este caso (2, 2, 3)\n",
    "#Dos matrices de 2 x 3 cada una\n",
    "print(arr3d.shape)\n",
    "print('--' * 20)\n",
    "#Primera matriz\n",
    "print(arr3d[0])\n",
    "#Segunda matriz\n",
    "print('--' * 20)\n",
    "print(arr3d[1])\n",
    "print('--' * 20)\n",
    "\n",
    "#El atributo ndim nos dice el número\n",
    "#de dimensiones (ejes) que contiene \n",
    "#un arreglo\n",
    "print('El arreglo tiene', arr3d.ndim, 'dimensiones')\n",
    "print('--' * 20)\n",
    "\n",
    "#El atributo size nos dice el número\n",
    "#de elementos de un arreglo\n",
    "#Esto es igual al producto\n",
    "#de los elementos de shape\n",
    "print('El arreglo tiene', arr3d.size, 'elementos')"
   ]
  },
  {
   "cell_type": "markdown",
   "metadata": {},
   "source": [
    "## Vectorización de operaciones\n",
    "\n",
    "Las operaciones en `numpy` se aplican elemento a elemento (vectorizan). Esto nos permite evitar el uso de *loops*."
   ]
  },
  {
   "cell_type": "code",
   "execution_count": null,
   "metadata": {
    "slideshow": {
     "slide_type": "slide"
    }
   },
   "outputs": [],
   "source": [
    "#Multiplicamos cada entrada por 2\n",
    "print('Arreglo')\n",
    "print(arr1)\n",
    "print('--' * 20)\n",
    "print(arr1 * 2)\n",
    "\n",
    "#Sumamos entrada por entrada un 3\n",
    "print('--' * 20)\n",
    "print(arr1 + 3)\n",
    "\n",
    "#Comparamos entrada por entrada\n",
    "#una condición lógica\n",
    "print('--' * 20)\n",
    "print(arr1 <= 3)"
   ]
  },
  {
   "cell_type": "markdown",
   "metadata": {},
   "source": [
    "Las operaciones entre arreglos también se aplican\n",
    "entrada por entrada"
   ]
  },
  {
   "cell_type": "code",
   "execution_count": null,
   "metadata": {},
   "outputs": [],
   "source": [
    "arr2 = np.array([[4,5,6], [7, 8, 9]])\n",
    "print('Arreglo 1')\n",
    "print(arr1)\n",
    "print('--' * 20)\n",
    "print('Arreglo 2')\n",
    "print(arr2)\n",
    "\n",
    "#Suma entrada con entrada\n",
    "print('--' * 20)\n",
    "print(arr1 + arr2)\n",
    "\n",
    "#Divide entrada con entrada\n",
    "print('--' * 20)\n",
    "print(arr1 / arr2)\n",
    "\n",
    "#Comparación lógica entrada\n",
    "#por entrada\n",
    "print('--' * 20)\n",
    "print(arr1 <= arr2)\n",
    "\n",
    "#Multiplicación entrada\n",
    "#por entrada\n",
    "#NO ES PRODUCTO DE MATRICES\n",
    "print('--' * 20)\n",
    "print(arr1 * arr2)"
   ]
  },
  {
   "cell_type": "markdown",
   "metadata": {},
   "source": [
    "## Funciones matemáticas\n",
    "\n",
    "```numpy``` tiene un conjunto de funciones matemáticas que pueden aplicarse a un a`ndarray` (entrada por entrada). \n",
    "\n",
    "Estas funciones son llamadas **funciones universales** (`ufunc`)"
   ]
  },
  {
   "cell_type": "code",
   "execution_count": null,
   "metadata": {},
   "outputs": [],
   "source": [
    "print(type(np.exp))\n",
    "#Aplicamos la función a un ndarray\n",
    "print(arr1)\n",
    "print('--' * 20)\n",
    "print(np.exp(arr1))"
   ]
  },
  {
   "cell_type": "markdown",
   "metadata": {},
   "source": [
    "**Algunas funciones universales**\n",
    "\n",
    "```python\n",
    "np.sin\n",
    "np.cos\n",
    "np.exp\n",
    "np.log #Logaritmo natural\n",
    "np.log10 #Logaritmo base 10\n",
    "np.log2 #Logaritmo base 2\n",
    "```\n",
    "\n",
    "**NOTA-1:**\n",
    "\n",
    "Las funciones de la librería ```math``` no funcionan ndarrays.\n",
    "\n",
    "**NOTA-2:** \n",
    "\n",
    "Las funciones universales no tienen el parámetro axis."
   ]
  },
  {
   "cell_type": "code",
   "execution_count": null,
   "metadata": {},
   "outputs": [],
   "source": [
    "import math\n",
    "math.sin(arr1)"
   ]
  },
  {
   "cell_type": "code",
   "execution_count": null,
   "metadata": {},
   "outputs": [],
   "source": [
    "#max si acepta el parámetro axis\n",
    "print(type(np.max))\n",
    "\n",
    "#exp no acepta axis\n",
    "print(type(np.exp))\n",
    "\n",
    "#ERROR\n",
    "np.exp(arr1, axis = 0)"
   ]
  },
  {
   "cell_type": "markdown",
   "metadata": {
    "slideshow": {
     "slide_type": "slide"
    }
   },
   "source": [
    "## np.arange, np.linspace\n",
    "Podemos crear rangos de números $[a, b)$ usando la funcion `arange` (similar a `range` en Python)"
   ]
  },
  {
   "cell_type": "code",
   "execution_count": null,
   "metadata": {
    "slideshow": {
     "slide_type": "fragment"
    }
   },
   "outputs": [],
   "source": [
    "#Similar a range(10)\n",
    "np.arange(10)"
   ]
  },
  {
   "cell_type": "code",
   "execution_count": null,
   "metadata": {
    "slideshow": {
     "slide_type": "fragment"
    }
   },
   "outputs": [],
   "source": [
    "#Similar a range(2, 11, 2)\n",
    "np.arange(2, 11, 2)"
   ]
  },
  {
   "cell_type": "code",
   "execution_count": null,
   "metadata": {
    "slideshow": {
     "slide_type": "fragment"
    }
   },
   "outputs": [],
   "source": [
    "#A diferencia de range np.arange\n",
    "#nos permite tomar pasos fraccionarios\n",
    "np.arange(1, 5, 0.5)"
   ]
  },
  {
   "cell_type": "markdown",
   "metadata": {
    "slideshow": {
     "slide_type": "subslide"
    }
   },
   "source": [
    "Usamos la función `linspace` cuando deseamos un arreglo de $n$ elementos entre $a$ y $b$ (inclusivo); $a < b$"
   ]
  },
  {
   "cell_type": "code",
   "execution_count": null,
   "metadata": {},
   "outputs": [],
   "source": [
    "help(np.linspace)"
   ]
  },
  {
   "cell_type": "code",
   "execution_count": null,
   "metadata": {
    "slideshow": {
     "slide_type": "fragment"
    }
   },
   "outputs": [],
   "source": [
    "a, b = 2, 10\n",
    "x = np.linspace(a, b, 20)\n",
    "print(x)"
   ]
  },
  {
   "cell_type": "markdown",
   "metadata": {},
   "source": [
    "## Ejercicio\n",
    "\n",
    "Crea un numpy array con 100 elementos $\\{x_i\\}_{i=0}^{99}$ donde\n",
    "$$\n",
    "    x_i = i (i + 100) \\, \\text{ para }  i \\in \\{0, \\ldots, 99\\}\n",
    "$$\n",
    "\n",
    "e.g., $x_{99} = 19701$; $x_{10} = 1100$ "
   ]
  },
  {
   "cell_type": "code",
   "execution_count": null,
   "metadata": {},
   "outputs": [],
   "source": []
  },
  {
   "cell_type": "markdown",
   "metadata": {
    "slideshow": {
     "slide_type": "slide"
    }
   },
   "source": [
    "## Reshape y Ravel\n",
    "\n",
    "Podemos cambiar la forma (`shape`) de un ndarray utilizando las funciones reshape y ravel.\n",
    "\n",
    "* Reshape crea un nuevo arreglo con la forma deseada.\n",
    "\n",
    "* Ravel convierte el arreglo en un arreglo de dimensión 1 (aplana el arreglo para crear un renglón)."
   ]
  },
  {
   "cell_type": "code",
   "execution_count": null,
   "metadata": {
    "slideshow": {
     "slide_type": "fragment"
    }
   },
   "outputs": [],
   "source": [
    "print(arr1)\n",
    "print(arr1.shape)\n",
    "print('--' * 20)\n",
    "\n",
    "#reshape NO es IN-PLACE, es\n",
    "#necesario guardar el resultado\n",
    "#en otra variable (o sobreescribirla)\n",
    "arr1_mod = arr1.reshape((3, 2))\n",
    "print(arr1_mod)\n",
    "print(arr1_mod.shape)\n",
    "\n",
    "#un renglón lo convertimos en una matriz\n",
    "renglon = np.arange(12)\n",
    "matriz = renglon.reshape((4, 3))\n",
    "print('--' * 20)\n",
    "print(renglon)\n",
    "print('--' * 20)\n",
    "print(matriz)"
   ]
  },
  {
   "cell_type": "code",
   "execution_count": null,
   "metadata": {},
   "outputs": [],
   "source": [
    "#Reshape también puede utilizarse de la siguiente manera\n",
    "arr = np.arange(12)\n",
    "print(arr)\n",
    "print('--'*20)\n",
    "arr = np.reshape(arr, (4, 3))\n",
    "print(arr)"
   ]
  },
  {
   "cell_type": "code",
   "execution_count": null,
   "metadata": {},
   "outputs": [],
   "source": [
    "#Es posible que una dimensión se determine\n",
    "#de manera automática, para esto se utiliza un -1\n",
    "arr = np.arange(12)\n",
    "print(arr.shape)\n",
    "print('--' * 20)\n",
    "arr_mod = arr.reshape((3, -1))\n",
    "print(arr_mod)"
   ]
  },
  {
   "cell_type": "markdown",
   "metadata": {},
   "source": [
    "Si `S = arreglo.size` y hacemos\n",
    "\n",
    "```python\n",
    "arreglo_mod = arreglo.reshape((m,n,k...))\n",
    "```\n",
    "\n",
    "es necesario que\n",
    "$$\n",
    "m \\times n \\times k \\times \\ldots = S\n",
    "$$"
   ]
  },
  {
   "cell_type": "code",
   "execution_count": null,
   "metadata": {},
   "outputs": [],
   "source": [
    "#ravel 'aplana' un arreglo\n",
    "print(arr3d)\n",
    "print('--' * 20)\n",
    "aplanado = arr3d.ravel()\n",
    "print(aplanado)\n",
    "print(aplanado.shape)"
   ]
  },
  {
   "cell_type": "markdown",
   "metadata": {},
   "source": [
    "## Slicing\n",
    "\n",
    "Existen distintas maneras de acceder a los elementos de cada dimensión de un array"
   ]
  },
  {
   "cell_type": "code",
   "execution_count": null,
   "metadata": {
    "slideshow": {
     "slide_type": "subslide"
    }
   },
   "outputs": [],
   "source": [
    "arr = np.arange(25).reshape(5, 5)\n",
    "print(arr)\n",
    "fila, columna = 1, 2\n",
    "arr[fila, columna]"
   ]
  },
  {
   "cell_type": "code",
   "execution_count": null,
   "metadata": {
    "slideshow": {
     "slide_type": "fragment"
    }
   },
   "outputs": [],
   "source": [
    "filas, columnas = [-2, -1], [0, 3]\n",
    "arr[filas, columnas]"
   ]
  },
  {
   "cell_type": "markdown",
   "metadata": {
    "slideshow": {
     "slide_type": "subslide"
    }
   },
   "source": [
    "Podemos seleccionar múltiples filas usando ```:```.\n",
    "\n",
    "Además es posible modificar las entradas a las que accedemos (los arrays son mutables)"
   ]
  },
  {
   "cell_type": "code",
   "execution_count": null,
   "metadata": {},
   "outputs": [],
   "source": [
    "print(arr)\n",
    "print('--' * 20)\n",
    "arr[[0, -1],:]"
   ]
  },
  {
   "cell_type": "code",
   "execution_count": null,
   "metadata": {},
   "outputs": [],
   "source": [
    "#Modificamos las entradas seleccionadas\n",
    "arr[[0, -1], :] = 0\n",
    "print(arr)"
   ]
  },
  {
   "cell_type": "code",
   "execution_count": null,
   "metadata": {},
   "outputs": [],
   "source": [
    "#No es necesario utilizar :\n",
    "#(Aunque al usarlos se facilita la lectura)\n",
    "arr[[0, -1]] # equivalente a arr[[0, -1], :]"
   ]
  },
  {
   "cell_type": "code",
   "execution_count": null,
   "metadata": {
    "slideshow": {
     "slide_type": "fragment"
    }
   },
   "outputs": [],
   "source": [
    "# podemos asignar varios valores de la misma\n",
    "# dimension a la que se le hizo la selección\n",
    "x = np.random.randint(-100, -1, size=(3, 5))\n",
    "print('Arreglo arr original')\n",
    "print(arr)\n",
    "print('-' * 20)\n",
    "print('Valores que se insertan')\n",
    "print(x)\n",
    "print('-' * 20)\n",
    "arr[[0, -1, 3], :] = x\n",
    "print('Arreglo arr modificado')\n",
    "print(arr)"
   ]
  },
  {
   "cell_type": "code",
   "execution_count": null,
   "metadata": {
    "slideshow": {
     "slide_type": "fragment"
    }
   },
   "outputs": [],
   "source": [
    "# Al igual que una lista en Python, podemos\n",
    "# revertir el orden de un numpy array con índices\n",
    "arr[1, ::-1]"
   ]
  },
  {
   "cell_type": "code",
   "execution_count": null,
   "metadata": {},
   "outputs": [],
   "source": [
    "# Podemos encontrar los índices dentro de un \n",
    "# numpy array usando np.where\n",
    "a4 = np.array([-1, 0,  1, -2, 1, 0, -4])\n",
    "print(a4 [np.where(a4 > 0)] )\n",
    "\n",
    "#Equivalente\n",
    "print(a4[ a4 > 0 ])"
   ]
  },
  {
   "cell_type": "code",
   "execution_count": null,
   "metadata": {},
   "outputs": [],
   "source": [
    "#Entendiendo np.where\n",
    "a5 = np.array([\n",
    "    [-1, 0,   1, -2,  1,  0, -4],\n",
    "    [1,  1,  -1,  2,  2, -3,  4],\n",
    "])\n",
    "print(a5)\n",
    "cumplen_condicion = np.where(a5 > 0)\n",
    "print('--' * 20)\n",
    "print(cumplen_condicion)\n",
    "#(array([0, 0, 1, 1, 1, 1, 1]), array([2, 4, 0, 1, 3, 4, 6]))\n",
    "       #INDICE DE LA LISTA      ÍNDICE ADENTRO DE LA LISTA\n",
    "#help(np.where)    "
   ]
  },
  {
   "cell_type": "code",
   "execution_count": null,
   "metadata": {},
   "outputs": [],
   "source": [
    "a5[cumplen_condicion]"
   ]
  },
  {
   "cell_type": "markdown",
   "metadata": {},
   "source": [
    "## Broadcasting\n",
    "\n",
    "https://numpy.org/doc/stable/user/basics.broadcasting.html\n",
    "\n",
    "**Broadcasting** (difusión) es la manera en que numpy manipula *arrays* con diferentes dimensiones durante operaciones aritméticas.\n",
    "Para dos arreglos $A$ y $B$, es posible hacer broadcasting cuando \n",
    "\n",
    "1. Tienen la misma dimensión o\n",
    "2. Una dimensión es igual a 1 y coinciden en las demás."
   ]
  },
  {
   "cell_type": "code",
   "execution_count": null,
   "metadata": {},
   "outputs": [],
   "source": [
    "A = np.arange(25).reshape(5, 5)\n",
    "B = np.arange(5).reshape(1, 5)\n",
    "\n",
    "print(A)\n",
    "print('--' * 20)\n",
    "print(B)"
   ]
  },
  {
   "cell_type": "code",
   "execution_count": null,
   "metadata": {},
   "outputs": [],
   "source": [
    "#Multiplica cada renglón de A\n",
    "#elemento por elemento con el rengón B\n",
    "A * B"
   ]
  },
  {
   "cell_type": "code",
   "execution_count": null,
   "metadata": {},
   "outputs": [],
   "source": [
    "#Suma cada renglón de A\n",
    "#elemento por elemento con el renglón B\n",
    "A + B"
   ]
  },
  {
   "cell_type": "markdown",
   "metadata": {},
   "source": [
    "## Iterando un arreglo en un loop for\n",
    "\n",
    "Cuando iteramos sobre un `ndarray` utilizando un loop *for* se itera sobre los elementos que corresponden a `axis = 0`.\n",
    "\n",
    "Así, en el caso de matrices, se estaría iterando sobre los renglones de esta."
   ]
  },
  {
   "cell_type": "code",
   "execution_count": null,
   "metadata": {},
   "outputs": [],
   "source": [
    "matriz = np.array([[1,2,3], [4,5,6]])\n",
    "print(matriz)\n",
    "print('--' * 20)\n",
    "for renglon in matriz:\n",
    "    #Equivalente a\n",
    "    #matriz[i,:]\n",
    "    print(renglon)\n",
    "    print('--' * 20)\n",
    "\n",
    "print(arr3d)    \n",
    "print('--' * 20)\n",
    "for matriz in arr3d:\n",
    "    #Equivalente a \n",
    "    #arr3d[i, :, :]\n",
    "    print(matriz)\n",
    "    print('--' * 20)"
   ]
  },
  {
   "cell_type": "markdown",
   "metadata": {
    "slideshow": {
     "slide_type": "slide"
    }
   },
   "source": [
    "## Un poco de álgebra lineal\n",
    "\n",
    "https://numpy.org/doc/stable/reference/routines.linalg.html"
   ]
  },
  {
   "cell_type": "code",
   "execution_count": null,
   "metadata": {},
   "outputs": [],
   "source": [
    "#Si un arreglo representa una matriz\n",
    "#es posible transponerla utilizando\n",
    "#el método transpose\n",
    "matriz_A = np.array([ [2, 1, 0], [1, 3, 5] ])\n",
    "A_transp = matriz_A.transpose()\n",
    "print(matriz_A)\n",
    "print('--' * 20)\n",
    "print(A_transp)"
   ]
  },
  {
   "cell_type": "code",
   "execution_count": null,
   "metadata": {},
   "outputs": [],
   "source": [
    "#Para obtener la diagonal de una matriz\n",
    "#se utiliza la función diagonal\n",
    "\n",
    "#matriz de 3 x 3\n",
    "matriz = np.array([[1,2,3], [4,5,6], [7,8,9]])\n",
    "\n",
    "#se extrae la diagonal\n",
    "diag = matriz.diagonal()\n",
    "\n",
    "print(matriz)\n",
    "print('--' * 20)\n",
    "print(diag)\n",
    "print('--' * 20)\n",
    "\n",
    "#La matriz no tiene que ser cuadrada\n",
    "matriz = np.array([[1,2,3], [4,5,6]])\n",
    "diag = matriz.diagonal()\n",
    "\n",
    "\n",
    "print(matriz)\n",
    "print('--' * 20)\n",
    "print(diag)"
   ]
  },
  {
   "cell_type": "code",
   "execution_count": null,
   "metadata": {
    "slideshow": {
     "slide_type": "fragment"
    }
   },
   "outputs": [],
   "source": [
    "#Matriz de ceros\n",
    "mat_ceros = np.zeros(shape=(3,3))\n",
    "print(mat_ceros)\n",
    "print('--' * 20)\n",
    "\n",
    "#Matriz de False\n",
    "mat_ceros_false = np.zeros(shape = (3,3), dtype = bool)\n",
    "print(mat_ceros_false)"
   ]
  },
  {
   "cell_type": "code",
   "execution_count": null,
   "metadata": {},
   "outputs": [],
   "source": [
    "#matriz indentidad\n",
    "identidad = np.identity(5)\n",
    "print(identidad)\n",
    "print('--' * 20)\n",
    "\n",
    "#similiar pero no exactamente igual a identity\n",
    "eye_cuadrada = np.eye(5)\n",
    "print(eye_cuadrada)\n",
    "print('--' * 20)\n",
    "eye_rectangular = np.eye(5,6)\n",
    "print(eye_rectangular)"
   ]
  },
  {
   "cell_type": "code",
   "execution_count": null,
   "metadata": {},
   "outputs": [],
   "source": [
    "#Para realizar el producto punto de vectores\n",
    "#utilizamos la función dot\n",
    "vector1 = np.array([1,2,3,4])\n",
    "vector2 = np.array([1,1,1,1])\n",
    "prod_punto = np.dot(vector1, vector2)\n",
    "print(prod_punto)"
   ]
  },
  {
   "cell_type": "code",
   "execution_count": null,
   "metadata": {},
   "outputs": [],
   "source": [
    "#Para multiplicar matrices podemos utilizar:\n",
    "#>> función dot (no recomendado)\n",
    "#>> función matmul\n",
    "#>> operador @\n",
    "\n",
    "matriz_A = np.array([ [1,2,3], [4,5,6], [7,8,9] ])\n",
    "matriz_B = np.array([[1,2,3,4], [5,6,7,8],\\\n",
    "                     [9, 10, 11, 12] ] )\n",
    "\n",
    "prod_dot = np.dot(matriz_A, matriz_B)\n",
    "prod_matmul = np.matmul(matriz_A, matriz_B)\n",
    "prod_arrob = matriz_A @ matriz_B\n",
    "\n",
    "print(prod_dot)\n",
    "print('--' * 20)\n",
    "print(prod_matmul)\n",
    "print('--' * 20)\n",
    "print(prod_arrob)"
   ]
  },
  {
   "cell_type": "code",
   "execution_count": null,
   "metadata": {},
   "outputs": [],
   "source": [
    "#Podemos resolver sistemas de ecuaciones lineales\n",
    "#utilizando la función solve del módulo linalg\n",
    "help(np.linalg.solve)"
   ]
  },
  {
   "cell_type": "code",
   "execution_count": null,
   "metadata": {},
   "outputs": [],
   "source": [
    "#Para encontrar la matriz inversa se utiliza la función\n",
    "#inv del módulo linalg\n",
    "\n",
    "A = np.array([ [975, 875], [740, 875] ])\n",
    "A_inv = np.linalg.inv(A)\n",
    "\n",
    "#Validamos\n",
    "identidad = np.identity(A.shape[0])\n",
    "print(A @ A_inv)\n",
    "print('--' * 20)\n",
    "print(A_inv @ A)\n",
    "print('--' * 20)\n",
    "print(np.allclose(A @ A_inv, identidad))\n",
    "print(np.allclose(A_inv @ A, identidad))"
   ]
  },
  {
   "cell_type": "markdown",
   "metadata": {},
   "source": [
    "# Ejercicio\n",
    "Crea un numpy array en $\\mathbb{R}^{10\\times 10}$ tal que\n",
    "\n",
    "$$\n",
    "x_{i,j} = \n",
    "\\begin{cases}\n",
    "    2(i + 1) & \\forall \\ i = j \\\\\n",
    "    0 & \\forall \\ i \\neq j\n",
    "\\end{cases}\n",
    "$$\n",
    "\n",
    "Considera $i, j \\in \\{0, \\ldots, 9\\}$\n",
    "\n",
    "```python\n",
    "help(np.nonzero)\n",
    "```"
   ]
  },
  {
   "cell_type": "code",
   "execution_count": null,
   "metadata": {
    "slideshow": {
     "slide_type": "fragment"
    }
   },
   "outputs": [],
   "source": []
  },
  {
   "cell_type": "markdown",
   "metadata": {},
   "source": [
    "# Ejercicio\n",
    "\n",
    "Resuelva el siguiente sistema de ecuaciones lineales\n",
    "\n",
    "$$\n",
    "\\begin{matrix}\n",
    " 3x & + & y & = & 9 \\\\\n",
    "x & + & 2y & = & 8\n",
    "\\end{matrix}\n",
    "$$"
   ]
  },
  {
   "cell_type": "code",
   "execution_count": null,
   "metadata": {},
   "outputs": [],
   "source": []
  },
  {
   "cell_type": "markdown",
   "metadata": {},
   "source": [
    "# Ejercicio\n",
    "\n",
    "Implemente el producto de matrices sin utilizar numpy.\n",
    "Pruebe su código con los siguientes datos\n",
    "\n",
    "```python\n",
    "A = [ [1,2,3], [4,5,6], [7,8,9] ]\n",
    "B = [ [1,2], [4,5], [7,8] ]\n",
    "```"
   ]
  },
  {
   "cell_type": "code",
   "execution_count": null,
   "metadata": {},
   "outputs": [],
   "source": []
  },
  {
   "cell_type": "markdown",
   "metadata": {},
   "source": [
    "## Ejercicio\n",
    "\n",
    "Programe una función que calcule la distancia euclidiana entre dos vectores\n",
    "\n",
    "$$\n",
    "d(\\mathbf{x}, \\mathbf{y}) = \\sqrt{ \\sum_{i=1}^{n} \\left(x_i - y_i \\right)^2 }\n",
    "$$\n",
    "\n",
    "Pruebe su función con los vectores\n",
    "\n",
    "$\\mathbf{x} = (1,2,3)$ y $\\mathbf{y} = (3, 2, 1)$"
   ]
  },
  {
   "cell_type": "code",
   "execution_count": null,
   "metadata": {},
   "outputs": [],
   "source": []
  },
  {
   "cell_type": "markdown",
   "metadata": {},
   "source": [
    "## Aplicando una función sobre un eje determinado\n",
    "\n",
    "Numpy nos permite aplicar una función a un eje en particular usando la función `np.apply_along_axis(func1d, axis, arr, *args, **kwargs)`; donde `func1d` es una función. $f:\\mathbb{R}^n \\to \\mathbb{R}^m$, `axis` es el eje sobre el que se trabajará y `arr` el arreglo con los datos, `*args* y *kwargs*` son argumentos adicionales de `func1d`."
   ]
  },
  {
   "cell_type": "code",
   "execution_count": null,
   "metadata": {},
   "outputs": [],
   "source": [
    "from numpy.random import randint, seed\n",
    "seed(1643)\n",
    "a3 = randint(-10, 10, size=(5,4))\n",
    "print(a3)"
   ]
  },
  {
   "cell_type": "code",
   "execution_count": null,
   "metadata": {},
   "outputs": [],
   "source": [
    "def mi_funcion(x):\n",
    "    print(type(x))\n",
    "    print(x)"
   ]
  },
  {
   "cell_type": "code",
   "execution_count": null,
   "metadata": {},
   "outputs": [],
   "source": [
    "resultado = np.apply_along_axis(mi_funcion, axis=0, arr=a3)"
   ]
  },
  {
   "cell_type": "code",
   "execution_count": null,
   "metadata": {},
   "outputs": [],
   "source": [
    "def suma_numero(a, *args):\n",
    "    numero = args[0]\n",
    "    print('a el ndarray', a, ' se le sumará', numero)\n",
    "    return a + numero\n",
    "\n",
    "resultado = np.apply_along_axis(suma_numero, 0, a3, 5)\n",
    "print('--' * 20)\n",
    "print(resultado)"
   ]
  },
  {
   "cell_type": "code",
   "execution_count": null,
   "metadata": {},
   "outputs": [],
   "source": [
    "def mi_funcion2(x):\n",
    "    return np.sin(x) + np.cos(x)\n",
    "\n",
    "resultado = np.apply_along_axis(mi_funcion2, axis=1, arr=a3)\n",
    "print(resultado)"
   ]
  },
  {
   "cell_type": "code",
   "execution_count": null,
   "metadata": {
    "slideshow": {
     "slide_type": "fragment"
    }
   },
   "outputs": [],
   "source": [
    "# Ordenando cada renglón de una fila\n",
    "print(np.apply_along_axis(sorted, 1, a3))"
   ]
  },
  {
   "cell_type": "markdown",
   "metadata": {},
   "source": [
    "**Nota**\n",
    "\n",
    "Al usar la función `np.apply_along_axis`, numpy aplica implicitamente un for loop en python sobre el eje que decidamos. Usar `np.apply_along_axis` **no** es la manera más eficiente de realizar este tipo de operaciones. Siempre que exista una operación equivalente de python en numpy, es recomendable usar la función dentro de numpy.\n",
    "\n",
    "Por ejemplo, el equivalente de `sorted` en python es `np.sort` en numpy"
   ]
  },
  {
   "cell_type": "code",
   "execution_count": null,
   "metadata": {},
   "outputs": [],
   "source": [
    "#sort es IN-PLACE\n",
    "print(a3)\n",
    "print('--' * 10)\n",
    "a3.sort(axis = 0)\n",
    "print(a3)\n",
    "print('--' * 10)\n",
    "a3.sort(axis = 1)\n",
    "print(a3)"
   ]
  }
 ],
 "metadata": {
  "celltoolbar": "Slideshow",
  "kernelspec": {
   "display_name": "Python 3",
   "language": "python",
   "name": "python3"
  },
  "language_info": {
   "codemirror_mode": {
    "name": "ipython",
    "version": 3
   },
   "file_extension": ".py",
   "mimetype": "text/x-python",
   "name": "python",
   "nbconvert_exporter": "python",
   "pygments_lexer": "ipython3",
   "version": "3.7.6"
  }
 },
 "nbformat": 4,
 "nbformat_minor": 4
}
