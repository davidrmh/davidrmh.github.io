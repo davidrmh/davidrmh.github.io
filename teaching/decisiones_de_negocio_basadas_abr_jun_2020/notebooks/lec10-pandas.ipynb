{
 "cells": [
  {
   "cell_type": "markdown",
   "metadata": {},
   "source": [
    "<img src=\"https://pandas.pydata.org/docs/_static/pandas.svg\" width=\"50%\">\n",
    "\n",
    "\n",
    "* Tutorial https://pandas.pydata.org/docs/getting_started/10min.html"
   ]
  },
  {
   "cell_type": "code",
   "execution_count": null,
   "metadata": {},
   "outputs": [],
   "source": [
    "#Forma usual de importar pandas\n",
    "#es utilizando el alias pd\n",
    "import pandas as pd\n",
    "import numpy as np\n",
    "import matplotlib.pyplot as plt"
   ]
  },
  {
   "cell_type": "code",
   "execution_count": null,
   "metadata": {},
   "outputs": [],
   "source": [
    "#Lectura de archivos CSV\n",
    "#Algunos parámetros de interés:\n",
    "#sep o delimiter\n",
    "#names\n",
    "#index_col\n",
    "#prefix\n",
    "#na_values\n",
    "#na_filter\n",
    "#nrows\n",
    "#skiprows\n",
    "help(pd.read_csv)\n",
    "\n",
    "#EXISTE UNA FAMILIA DE FUNCIONES read_*\n",
    "#POR EJEMPLO\n",
    "#help(pd.read_excel)\n",
    "#help(pd.read_sas)"
   ]
  },
  {
   "cell_type": "code",
   "execution_count": null,
   "metadata": {},
   "outputs": [],
   "source": [
    "#Abre archivo csv\n",
    "usd = pd.read_csv('../datos/USD_MXN.csv')\n",
    "print(type(usd))\n",
    "print('-' * 50)\n",
    "#El método head nos permite\n",
    "#ver los primeros n renglones\n",
    "print(usd.head(10))"
   ]
  },
  {
   "cell_type": "code",
   "execution_count": null,
   "metadata": {},
   "outputs": [],
   "source": [
    "#La estructura básica\n",
    "#de un dataframe\n",
    "#es un objeto del tipo\n",
    "#Series\n",
    "fechas = usd['Date']\n",
    "print(type(fechas))\n",
    "print('-' * 50)\n",
    "#Es un string\n",
    "print(type(fechas[0]))"
   ]
  },
  {
   "cell_type": "code",
   "execution_count": null,
   "metadata": {},
   "outputs": [],
   "source": [
    "#Es posible convertir una columna\n",
    "#de fechas a objetos Timestamp\n",
    "usd['Date'] = pd.to_datetime(usd['Date'], format = '%Y-%m-%d')\n",
    "print(type(usd['Date'][0]))\n",
    "print('-' * 50)\n",
    "\n",
    "#Objetos Timedelta\n",
    "delta = usd['Date'][1] - usd['Date'][0]\n",
    "print(type(delta))\n",
    "print('-' * 50)\n",
    "print(delta.days)"
   ]
  },
  {
   "cell_type": "code",
   "execution_count": null,
   "metadata": {},
   "outputs": [],
   "source": [
    "#Es posible ordenar\n",
    "#un dataframe de acuerdo\n",
    "#a los valores de una o más variables\n",
    "#inplace = True si es un dataframe muy grande (ahorra memoria)\n",
    "#Por defaul ascending es True\n",
    "usd_ord = usd.sort_values(by = 'Date', ascending = False, inplace = False)\n",
    "\n",
    "#Observe la primera columna (Index)\n",
    "#No pertenece a el dataframe\n",
    "print(usd_ord.head(5))\n",
    "print('-' * 50)\n",
    "#El método tail nos permite\n",
    "#ver los últimos n renglones\n",
    "print(usd_ord.tail(5))"
   ]
  },
  {
   "cell_type": "code",
   "execution_count": null,
   "metadata": {},
   "outputs": [],
   "source": [
    "#Sería natural acceder a los elementos\n",
    "#de la siguiente manera\n",
    "#PERO EL RESULTADO NO ES LO ESPERADO\n",
    "#ESTO TIENE QUE VER CON EL ELEMENTO\n",
    "#LLAMADO INDEX\n",
    "print(usd_ord['Date'][0])"
   ]
  },
  {
   "cell_type": "code",
   "execution_count": null,
   "metadata": {},
   "outputs": [],
   "source": [
    "print(usd_ord.index)\n",
    "print('-' * 50)\n",
    "#Traeme el elemento que corresponde\n",
    "#al index 0 (en este caso, la última observación)\n",
    "print(usd_ord['Date'][0])\n",
    "print('-' * 50)\n",
    "#Traeme el elemento que corresponde\n",
    "#al index 1305 (en este caso, la primera observación)\n",
    "print(usd_ord['Date'][1305])"
   ]
  },
  {
   "cell_type": "code",
   "execution_count": null,
   "metadata": {},
   "outputs": [],
   "source": [
    "#MI SUGERENCIA (TAL VEZ NO ES LA MEJOR SOLUCIÓN):\n",
    "#Cuando se crea un dataframe\n",
    "#a partir de otro y se modifica el\n",
    "#orden de los renglones o se crea un subconjunto, se puede\n",
    "#utilizar el método reset_index(drop = True)\n",
    "#para evitar problemas con el index de un dataframe\n",
    "usd_ord = usd.sort_values(by = 'Date', ascending = False)\n",
    "print(usd_ord.head(5))\n",
    "print('-' * 50)\n",
    "usd_ord = usd_ord.reset_index(drop = True) \n",
    "print(usd_ord.head(5))\n",
    "print('-' * 50)\n",
    "print(usd_ord['Date'][0])"
   ]
  },
  {
   "cell_type": "markdown",
   "metadata": {},
   "source": [
    "# Manipulando Series"
   ]
  },
  {
   "cell_type": "code",
   "execution_count": null,
   "metadata": {},
   "outputs": [],
   "source": [
    "#Serie\n",
    "adj_close = usd['Adj Close']\n",
    "print(type(adj_close))\n",
    "print('-' * 50)\n",
    "print(adj_close.head(10))"
   ]
  },
  {
   "cell_type": "code",
   "execution_count": null,
   "metadata": {},
   "outputs": [],
   "source": [
    "#Al igual que los arreglos de numpy\n",
    "#las operaciones (comúnes) sobre objetos Series\n",
    "#vectorizan (entrada por entrada)\n",
    "print(adj_close.head(10) + 1)"
   ]
  },
  {
   "cell_type": "code",
   "execution_count": null,
   "metadata": {},
   "outputs": [],
   "source": [
    "#Es posible acceder a los elementos de\n",
    "#un objeto Series como si fueran\n",
    "#np.arrays\n",
    "print(adj_close[0:10])\n",
    "print('-' * 50)\n",
    "print(adj_close[[0, 1, 4]])\n",
    "print('-' * 50)\n",
    "sub_conjunto = adj_close[adj_close > 20]\n",
    "#Observe lo molesto que puede llegar a ser el Index\n",
    "print(sub_conjunto.head(10))\n",
    "sub_conjunto = adj_close[adj_close > 20].reset_index(drop = True)\n",
    "print('-' * 50)\n",
    "print(sub_conjunto.head(10))"
   ]
  },
  {
   "cell_type": "code",
   "execution_count": null,
   "metadata": {},
   "outputs": [],
   "source": [
    "#Podemos filtrar utilizando\n",
    "#varias condiciones lógicas\n",
    "cond_1 = adj_close > 18\n",
    "cond_2 = adj_close < 20\n",
    "\n",
    "#El operador & compara bit a bit (bitwise)\n",
    "#en este caso entrada por entrada\n",
    "#de cond_1 y cond_2\n",
    "\n",
    "print(adj_close[cond_1 & cond_2])\n",
    "print('-' * 50)\n",
    "#el operador ~ niega una condición bit a bit\n",
    "#~True es False y ~False es True\n",
    "print(adj_close[ ~(cond_1 & cond_2)])\n",
    "#https://wiki.python.org/moin/BitwiseOperators"
   ]
  },
  {
   "cell_type": "markdown",
   "metadata": {},
   "source": [
    "# Ejercicio\n",
    "\n",
    "Obtenga la fecha en que se observó el precio de cierre ajustado más grande\n",
    "\n",
    "**Sugerencia**\n",
    "```python\n",
    "adj_close = usd['Adj Close']\n",
    "fechas = usd['Date']\n",
    "help(adj_close.argmax())\n",
    "```"
   ]
  },
  {
   "cell_type": "code",
   "execution_count": null,
   "metadata": {},
   "outputs": [],
   "source": [
    "adj_close = usd['Adj Close']\n",
    "fechas = usd['Date']\n",
    "indice_max = adj_close.argmax()\n",
    "fecha_max = fechas[indice_max]\n",
    "print(f'La fecha del máximo fue {fecha_max}')\n",
    "print(f'El valor del máximo fue {adj_close[indice_max]}')"
   ]
  },
  {
   "cell_type": "markdown",
   "metadata": {},
   "source": [
    "# Ejercicio\n",
    "Utilizando la serie `adj_close` calcule los rendimientos (aritméticos) de los precios.\n",
    "\n",
    "$$\n",
    "r_{t} = \\dfrac{P_{t}}{P_{t - 1}} - 1\n",
    "$$\n",
    "\n",
    "\n",
    "Localice la fecha que tuvo el rendimiento absoluto más grande.\n",
    "\n",
    "**No puede utilizar cíclos for**\n",
    "\n",
    "**Sugerencia**\n",
    "\n",
    "Los objetos del tipo Serie tienen el método `abs` para calcular el valor absoluto de cada uno de los elementos."
   ]
  },
  {
   "cell_type": "code",
   "execution_count": null,
   "metadata": {},
   "outputs": [],
   "source": [
    "#Número de observaciones\n",
    "fechas = usd['Date']\n",
    "adj_close = usd['Adj Close']\n",
    "n = len(adj_close)\n",
    "\n",
    "#LO SIGUIENTE NO FUNCIONA POR EL INDEX\n",
    "#YA QUE SE EMPAREJAN LOS INDEX DE CADA SUB SERIE\n",
    "#r = adj_close[1:] / adj_close[0:(n - 1)] - 1\n",
    "\n",
    "#Esto sí funciona\n",
    "pt = adj_close[1:].reset_index(drop = True)\n",
    "pt_1 = adj_close[0:(n - 1)].reset_index(drop = True)\n",
    "r = pt / pt_1 - 1\n",
    "\n",
    "indice_max = r.abs().argmax()\n",
    "#Desde 1 ya que las fechas están ordenadas\n",
    "#de más antigua a más reciente\n",
    "#La primera fecha no tiene rendimiento\n",
    "fecha_max = fechas[1:].reset_index(drop = True)[indice_max]\n",
    "print(f'La fecha con el rendimiento absoluto máximo es {fecha_max}')"
   ]
  },
  {
   "cell_type": "code",
   "execution_count": null,
   "metadata": {},
   "outputs": [],
   "source": [
    "#Los objetos Series tiene un método plot para graficar los datos\n",
    "adj_close.plot(title = 'USDMXN Adj Close', color = 'g')"
   ]
  },
  {
   "cell_type": "code",
   "execution_count": null,
   "metadata": {},
   "outputs": [],
   "source": [
    "#SUGERENCIA: Es mejor utilizar matplotlib ya que brinda más control y opciones\n",
    "plt.plot(fechas, adj_close, 'g')\n",
    "plt.title('USDMXN Adj Close')\n",
    "plt.xlabel('Fecha')\n",
    "plt.ylabel('Tipo de cambio')\n",
    "plt.grid()\n",
    "plt.show()"
   ]
  },
  {
   "cell_type": "markdown",
   "metadata": {},
   "source": [
    "# Manipulando DataFrames"
   ]
  },
  {
   "cell_type": "code",
   "execution_count": null,
   "metadata": {},
   "outputs": [],
   "source": [
    "print(usd.head(10))"
   ]
  },
  {
   "cell_type": "code",
   "execution_count": null,
   "metadata": {},
   "outputs": [],
   "source": [
    "#Como hemos visto, es posible acceder\n",
    "#a los elementos utilizando el nombre\n",
    "#de las columnas\n",
    "#RECUERDE que open es una palabra reservada\n",
    "#es por eso que utilizo p_open\n",
    "p_open = usd['Open']\n",
    "print(p_open.head())"
   ]
  },
  {
   "cell_type": "code",
   "execution_count": null,
   "metadata": {},
   "outputs": [],
   "source": [
    "#Podemos acceder a los elementos utilizando\n",
    "#la notación punto\n",
    "#SIEMPRE Y CUANDO EL NOMBRE NO LLEVE\n",
    "#UN ESPACIO\n",
    "p_open = usd.Open\n",
    "print(p_open.head())"
   ]
  },
  {
   "cell_type": "code",
   "execution_count": null,
   "metadata": {},
   "outputs": [],
   "source": [
    "#Podemos acceder a un subconjunto de columas\n",
    "open_low = usd[ ['Open', 'Low'] ]\n",
    "print(open_low.head(10))\n",
    "print('-' * 50)\n",
    "print(type(open_low))"
   ]
  },
  {
   "cell_type": "code",
   "execution_count": null,
   "metadata": {},
   "outputs": [],
   "source": [
    "#Podemos borrar columnas\n",
    "del usd['Volume']\n",
    "print(usd.head())"
   ]
  },
  {
   "cell_type": "markdown",
   "metadata": {},
   "source": [
    "# Utilizando un Index\n",
    "Puede considerar un Index como el nombre de los renglones"
   ]
  },
  {
   "cell_type": "code",
   "execution_count": null,
   "metadata": {},
   "outputs": [],
   "source": [
    "#La columna Date ahora es el Index\n",
    "#parse_dates = True para convertir los strings a datetime\n",
    "usd_index = pd.read_csv('../datos/USD_MXN.csv', index_col = 'Date', parse_dates = True)\n",
    "print(usd_index.head())\n",
    "print('-' * 50)\n",
    "#La columna Date ya no pertenece\n",
    "#a las columas!!!\n",
    "print(usd_index.columns)\n",
    "print('-' * 50)\n",
    "print(usd_index.index)"
   ]
  },
  {
   "cell_type": "code",
   "execution_count": null,
   "metadata": {},
   "outputs": [],
   "source": [
    "#Ya que Date no es una columna\n",
    "#esto arroja un error\n",
    "usd_index['Date']"
   ]
  },
  {
   "cell_type": "code",
   "execution_count": null,
   "metadata": {},
   "outputs": [],
   "source": [
    "#Una manera más fácil\n",
    "#de entender el código\n",
    "close = usd_index['Close'] \n",
    "print(close['2015-06-12'])"
   ]
  },
  {
   "cell_type": "code",
   "execution_count": null,
   "metadata": {},
   "outputs": [],
   "source": [
    "#Podemos hacer un slicing utilizando\n",
    "#un rango de fechas\n",
    "#SE INCLUYE EL EXTREMO DERECHO\n",
    "print(close['2015-06-12':'2020-06-12'])"
   ]
  },
  {
   "cell_type": "code",
   "execution_count": null,
   "metadata": {},
   "outputs": [],
   "source": [
    "#No importa si las fechas\n",
    "#no se encuentran dentro del index\n",
    "print(close['1990-06-12':'2100-06-12'])"
   ]
  },
  {
   "cell_type": "code",
   "execution_count": null,
   "metadata": {},
   "outputs": [],
   "source": [
    "#Si el Index es del tipo datetime\n",
    "#plot lo toma como el eje X\n",
    "close.plot(grid = True, title = 'USDMXN', color = 'g')"
   ]
  },
  {
   "cell_type": "markdown",
   "metadata": {},
   "source": [
    "# `iloc` y `loc`\n",
    "\n",
    "https://pandas.pydata.org/pandas-docs/stable/user_guide/indexing.html"
   ]
  },
  {
   "cell_type": "code",
   "execution_count": null,
   "metadata": {},
   "outputs": [],
   "source": [
    "#Es posible acceder a los elementos\n",
    "#utilizando localizaciones basadas en enteros\n",
    "#iloc = integer location\n",
    "print(usd.head(10))\n",
    "print('-' * 50)\n",
    "#No utilizamos reset_index(drop = True)\n",
    "usd_ord = usd.sort_values(by = 'Date', ascending=False)\n",
    "print(usd_ord.head(10))\n",
    "print('-' * 50)\n",
    "\n",
    "#OBSERVE LOS []\n",
    "#Renglón 1 columna 0\n",
    "print(usd.iloc[0, 0])\n",
    "print('-' * 50)\n",
    "#Renglón 1 columna 0\n",
    "print(usd_ord.iloc[1, 0])\n",
    "print('-' * 50)\n",
    "#INDEX 1\n",
    "print(usd_ord['Date'][1])"
   ]
  },
  {
   "cell_type": "code",
   "execution_count": null,
   "metadata": {},
   "outputs": [],
   "source": [
    "#ERROR\n",
    "#Es necesario utilizar iloc\n",
    "usd[0,1]"
   ]
  },
  {
   "cell_type": "code",
   "execution_count": null,
   "metadata": {},
   "outputs": [],
   "source": [
    "#Con loc podemos hacer slicing\n",
    "#utilizando etiquetas (nombres de columnas y valores de algún Index)\n",
    "\n",
    "#Columna Close\n",
    "print(usd_index.loc[:, 'Close'])\n",
    "print('-' * 50)\n",
    "#Columnas Open y Close en un rango de fechas\n",
    "print(usd_index.loc['2019-01-01':'2019-12-31',  ['Close','Open'] ]) "
   ]
  },
  {
   "cell_type": "markdown",
   "metadata": {},
   "source": [
    "# Modificando Series y DataFrames"
   ]
  },
  {
   "cell_type": "code",
   "execution_count": null,
   "metadata": {},
   "outputs": [],
   "source": [
    "#Agregando nuevas columnas\n",
    "#a un dataframe\n",
    "usd_index['Mi Columna'] = 1\n",
    "print(usd_index)\n",
    "print('-' * 50)\n",
    "usd_index['Var Dia'] = usd_index['Adj Close'] / usd_index['Open'] - 1\n",
    "print(usd_index)"
   ]
  },
  {
   "cell_type": "code",
   "execution_count": null,
   "metadata": {},
   "outputs": [],
   "source": [
    "#Al igual que las listas\n",
    "#las columnas que extraen de un dataframe\n",
    "#Se pasan como referencia\n",
    "#Esto se hace por cuestiones de optimizar la memoria\n",
    "adj_close = usd['Adj Close']\n",
    "print(id(adj_close) == id(usd['Adj Close']))"
   ]
  },
  {
   "cell_type": "code",
   "execution_count": null,
   "metadata": {},
   "outputs": [],
   "source": [
    "#Modificamos adj_close\n",
    "adj_close[0] = 1\n",
    "print(adj_close)\n",
    "print('-' * 50)\n",
    "print(usd['Adj Close'])"
   ]
  },
  {
   "cell_type": "markdown",
   "metadata": {},
   "source": [
    "# Combinando dataframes\n",
    "https://www.datacamp.com/community/tutorials/joining-dataframes-pandas"
   ]
  },
  {
   "cell_type": "code",
   "execution_count": null,
   "metadata": {},
   "outputs": [],
   "source": [
    "usd = pd.read_csv('../datos/USD_MXN.csv', index_col='Date', parse_dates=True)\n",
    "eur = pd.read_csv('../datos/EUR_MXN.csv', index_col='Date', parse_dates=True)\n",
    "gbp = pd.read_csv('../datos/GBP_MXN.csv', index_col='Date', parse_dates=True)\n",
    "\n",
    "#La columa volumen no es necesaria\n",
    "del usd['Volume']\n",
    "del eur['Volume']\n",
    "del gbp['Volume']"
   ]
  },
  {
   "cell_type": "code",
   "execution_count": null,
   "metadata": {},
   "outputs": [],
   "source": [
    "union_usd_eur = pd.merge(left = usd, right = eur, on = 'Date',\n",
    "                         suffixes=('_usd', '_gbp'))\n",
    "print(union_usd_eur)"
   ]
  },
  {
   "cell_type": "code",
   "execution_count": null,
   "metadata": {},
   "outputs": [],
   "source": [
    "#Si solo queremos ciertas columnas\n",
    "union_sub= pd.merge(usd['Close'], eur[['Close', 'Open']],\n",
    "                    on = 'Date', suffixes=('_usd', '_eur'))\n",
    "\n",
    "#Observe que los sufijos\n",
    "#sólo se usan para identificar columnas\n",
    "#con nombres repetidos\n",
    "print(union_sub)"
   ]
  },
  {
   "cell_type": "code",
   "execution_count": null,
   "metadata": {},
   "outputs": [],
   "source": []
  }
 ],
 "metadata": {
  "kernelspec": {
   "display_name": "Python 3",
   "language": "python",
   "name": "python3"
  },
  "language_info": {
   "codemirror_mode": {
    "name": "ipython",
    "version": 3
   },
   "file_extension": ".py",
   "mimetype": "text/x-python",
   "name": "python",
   "nbconvert_exporter": "python",
   "pygments_lexer": "ipython3",
   "version": "3.7.6"
  }
 },
 "nbformat": 4,
 "nbformat_minor": 4
}
