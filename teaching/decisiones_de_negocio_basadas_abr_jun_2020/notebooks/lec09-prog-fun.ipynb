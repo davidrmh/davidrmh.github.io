{
 "cells": [
  {
   "cell_type": "markdown",
   "metadata": {},
   "source": [
    "<h1 style=\"color:#872325\">Programación funcional</h1>"
   ]
  },
  {
   "cell_type": "markdown",
   "metadata": {},
   "source": [
    "En la ciencia de la computación, la **programación funcional** (o *functional programming*), es un paradigma de computación que considera que los elementos sean tratados como funciones matemáticas \n",
    "\n",
    "$$\n",
    "    f: \\Omega_1 \\rightarrow \\Omega_2\n",
    "$$\n",
    "\n",
    "\n",
    "Bajo este paradigma cada elemento definido es único e **inmutable**."
   ]
  },
  {
   "cell_type": "markdown",
   "metadata": {},
   "source": [
    "### Un primer ejemplo: OOP v.s. FP\n",
    "* Bajo el paradigma de programación orientada a objetos (OOP) operamos objetos mutables (hay cambios en el estado de las variables).\n",
    "\n",
    "* Bajo el paradigma de programación funcional (FP) operamos respecto a funciones y asignamos inputs (no hay cambios en el estado de las variables)."
   ]
  },
  {
   "cell_type": "code",
   "execution_count": null,
   "metadata": {},
   "outputs": [],
   "source": [
    "#Una lista como un objeto (paradigma oop)\n",
    "list_1 = [1, 2, 3]\n",
    "\n",
    "#el método append modifica la lista original y no regresa ningún resultado\n",
    "list_1.append(4)"
   ]
  },
  {
   "cell_type": "code",
   "execution_count": null,
   "metadata": {},
   "outputs": [],
   "source": [
    "# Una lista como un input (paradigma fp)\n",
    "def add_element(elements, new_element):\n",
    "    return elements + [new_element]\n",
    "\n",
    "\n",
    "list_2 = [1, 2, 3]\n",
    "# 'add_element' produce una salida y no modifica la entrada\n",
    "print(add_element(list_2, 4))\n",
    "print(list_2)"
   ]
  },
  {
   "cell_type": "code",
   "execution_count": null,
   "metadata": {},
   "outputs": [],
   "source": [
    "#RECORDATORIO: PRECAUCIÓN AL TRABAJAR CON LISTAS\n",
    "#EN PROGRAMACIÓN FUNCIONAL ESTO NO OCURRE\n",
    "import numpy as np\n",
    "x = [1,2,3]\n",
    "\n",
    "def agrega_elemento(lista):\n",
    "    lista.append(4)\n",
    "    \n",
    "print(x)\n",
    "agrega_elemento(x)\n",
    "print(x)"
   ]
  },
  {
   "cell_type": "markdown",
   "metadata": {},
   "source": [
    "# Funciones recursivas\n",
    "\n",
    "Decimos que una función es recursiva si se llama a sí misma.\n",
    "\n",
    "Un función recursiva tiene el siguiente patrón:\n",
    "\n",
    "```python\n",
    "def fun_recursiva(params1):\n",
    "    #Caso base\n",
    "    if condicion_base:\n",
    "        return valor_base\n",
    "    #Recursividad\n",
    "    return fun_recursiva(params2)\n",
    "```\n",
    "\n",
    "Las funciones recursivas son un bloque fundamental en la programación funcional.\n",
    "\n",
    "La idea de utilizar recursividad es evitar el uso de cíclos *for* (cíclos que cambian el estado de la variable sobre la que se itera)"
   ]
  },
  {
   "cell_type": "code",
   "execution_count": null,
   "metadata": {},
   "outputs": [],
   "source": [
    "#EJEMPLO: Suma de los números en una lista\n",
    "def suma_numeros(lista):\n",
    "    #Caso base\n",
    "    if len(lista) == 0: return 0\n",
    "    \n",
    "    #Recursión\n",
    "    return lista[0] + suma_numeros(lista[1:])"
   ]
  },
  {
   "cell_type": "code",
   "execution_count": null,
   "metadata": {},
   "outputs": [],
   "source": [
    "lista = [1,2,3,4]\n",
    "print(suma_numeros(lista))"
   ]
  },
  {
   "cell_type": "markdown",
   "metadata": {},
   "source": [
    "# Ejercicio\n",
    "\n",
    "Programe una función recursiva que calcule el factorial de un número dado"
   ]
  },
  {
   "cell_type": "code",
   "execution_count": null,
   "metadata": {},
   "outputs": [],
   "source": []
  },
  {
   "cell_type": "markdown",
   "metadata": {},
   "source": [
    "# Ejercicio\n",
    "\n",
    "Recuerde que el producto punto de dos vectores $A = (a_1, a_2, \\ldots, a_n)$ y $B = (b_1, b_2, \\ldots, b_n)$ está dado por:\n",
    "\n",
    "$$\n",
    "<A, B> = \\sum_{i=1}^{n} a_{i} b_{i}\n",
    "$$\n",
    "\n",
    "Programe un función recursiva que implemente este producto.\n",
    "\n",
    "Pruebe con los vectores `A=[1,2,3,4], B = [4,3,2,1]`"
   ]
  },
  {
   "cell_type": "code",
   "execution_count": null,
   "metadata": {},
   "outputs": [],
   "source": []
  },
  {
   "cell_type": "markdown",
   "metadata": {},
   "source": [
    "# Ejercicio\n",
    "\n",
    "Un palíndromo es una secuencia de caracteres que se lee de la misma forma sin importar si se inicia de izquierda a derecha o de derecha a izquierda, por ejemplo\n",
    "\n",
    "`Ana lleva al oso la avellana`\n",
    "\n",
    "* La cadena vacía `''` y la cadena con un caracter son palíndromos.\n",
    "\n",
    "* Cualquier cadena de longitud mayor que 1 es un palíndromo si su primer y último caracter son el mismo y la subcadena formada por los caracteres que se encuentran en medio también es un palíndromo.\n",
    "\n",
    "Programe una función recursiva que determine si una cadena es un palíndromo."
   ]
  },
  {
   "cell_type": "code",
   "execution_count": null,
   "metadata": {},
   "outputs": [],
   "source": []
  },
  {
   "cell_type": "markdown",
   "metadata": {},
   "source": [
    "## Problemas con recursividad\n",
    "\n",
    "Programar de forma recursiva requiere mayor cuidado.\n",
    "\n",
    "Considere la sucesión de Fibonacci\n",
    "\n",
    "* $f_0 = 0$.\n",
    "\n",
    "* $f_1 = 1$.\n",
    "\n",
    "* $f_n = f_{n-2} + f_{n-1}$\n",
    "\n",
    "y así $f_2 = 1$, $f_3 = 2$, $f_4 = 3$, $f_5 = 5$, $f_6 = 8$.\n",
    "\n",
    "Una función recursiva (ingenua) podría estar dada por el siguiente código:"
   ]
  },
  {
   "cell_type": "code",
   "execution_count": null,
   "metadata": {},
   "outputs": [],
   "source": [
    "def fib_ingenuo(n):\n",
    "    '''\n",
    "    Función para calcular el término n en la sucesión\n",
    "    de Fibonacci\n",
    "    n>=0\n",
    "    '''\n",
    "    \n",
    "    #Caso base 1\n",
    "    if n == 0: return 0\n",
    "    \n",
    "    #Caso base 2\n",
    "    elif n == 1: return 1\n",
    "    \n",
    "    #Recursividad\n",
    "    #print('Para n = {n} se calcula f({n2}) + f({n1})'.format(n = n, n2 = n - 2, n1 = n - 1))\n",
    "    return fib_ingenuo(n - 2) + fib_ingenuo(n - 1)"
   ]
  },
  {
   "cell_type": "code",
   "execution_count": null,
   "metadata": {},
   "outputs": [],
   "source": [
    "print(fib_ingenuo(6))\n",
    "#print(fib_ingenuo(10))"
   ]
  },
  {
   "cell_type": "code",
   "execution_count": null,
   "metadata": {},
   "outputs": [],
   "source": [
    "def fib_memoria(n, memoria):\n",
    "    '''\n",
    "    Función para calcular el término n en la sucesión\n",
    "    de Fibonacci\n",
    "    n>=0\n",
    "    Esta versión utiliza una memoria\n",
    "    '''\n",
    "    \n",
    "    #Caso base 1\n",
    "    if n == 0: return 0\n",
    "    \n",
    "    #Caso base 2\n",
    "    elif n == 1: return 1\n",
    "    \n",
    "    #Recursividad\n",
    "    if n - 1 in memoria:\n",
    "        \n",
    "        return memoria[n - 2] + memoria[n - 1]\n",
    "    \n",
    "    else:\n",
    "        print('Para n = {n} se calcula f({n2}) + f({n1})'.format(n = n, n2 = n - 2, n1 = n - 1))\n",
    "        memoria[n - 2] = fib_memoria(n - 2, memoria)\n",
    "        memoria[n - 1] = fib_memoria(n - 1, memoria)\n",
    "        return memoria[n - 2] + memoria[n - 1]"
   ]
  },
  {
   "cell_type": "code",
   "execution_count": null,
   "metadata": {},
   "outputs": [],
   "source": [
    "memoria = {0:0, 1:1}\n",
    "print(fib_memoria(6, memoria))\n",
    "#print(fib_memoria(10, memoria))"
   ]
  },
  {
   "cell_type": "markdown",
   "metadata": {},
   "source": [
    "# Funciones o expresiones `lambda`\n",
    "Una función `lambda` es una función **anónima** que puede ser definida en una simple línea.\n",
    "\n",
    "Este tipo de funciones se utiliza principalmente como argumentos para otras funciones, por ejemplo ```map, filter```.\n",
    "\n",
    "Se recomienda utilizar este tipo de funciones cuando sólo se usarán una vez dentro del programa.\n",
    "\n",
    "Una función ```lambda``` sigue la siguiente sintaxis:\n",
    "```python\n",
    "lambda p1, p2, ..., pn: f(p1, p2, ..., pn)\n",
    "```\n",
    "\n",
    "en donde `p1, p2, ..., pn` son los parámetros y `f(p1, p2, ..., pn)` es una expresión que involucra los parámetros. \n",
    "\n",
    "Observe que una función lambda no utiliza ```return```, además no es posible realizar asignaciones (```=```) de valor dentro de `f(p1, p2, ..., pn)`."
   ]
  },
  {
   "cell_type": "code",
   "execution_count": null,
   "metadata": {},
   "outputs": [],
   "source": [
    "#Las funciones lambda son \"anónimas\" \n",
    "#en el sentido de no tener un nombre asignado (un def)\n",
    "#Pero sí se pueden asignar a variables\n",
    "times1 = lambda x, y: x * y\n",
    "print(type(times1))"
   ]
  },
  {
   "cell_type": "code",
   "execution_count": null,
   "metadata": {},
   "outputs": [],
   "source": [
    "times1(2,4)"
   ]
  },
  {
   "cell_type": "markdown",
   "metadata": {},
   "source": [
    "Las funciones `lambda` pueden ser tratadas como cualquier otro elemento. No es necesario asignarlas a una variable para poder llamarlas."
   ]
  },
  {
   "cell_type": "code",
   "execution_count": null,
   "metadata": {},
   "outputs": [],
   "source": [
    "#Observe los paréntesis que encierran a\n",
    "#la función lambda\n",
    "(lambda x, y: 2 * x + y)(5, 1)"
   ]
  },
  {
   "cell_type": "code",
   "execution_count": null,
   "metadata": {},
   "outputs": [],
   "source": [
    "#Un posible uso de las funciones lambda\n",
    "#sería implementar la composición (matemática)\n",
    "#de funciones\n",
    "#f°g(x) == f(g(x))\n",
    "def f(g,x):\n",
    "    return 2 * g(x)  \n",
    "\n",
    "f(lambda x: x + 2, 3)"
   ]
  },
  {
   "cell_type": "markdown",
   "metadata": {},
   "source": [
    "# Ejercicio\n",
    "Untilizando únicamente expresiones `lambda`, obtenga una expresión que realiza la composición de dos funciones arbitrarias `f(g(x))`."
   ]
  },
  {
   "cell_type": "code",
   "execution_count": null,
   "metadata": {},
   "outputs": [],
   "source": []
  },
  {
   "cell_type": "markdown",
   "metadata": {},
   "source": [
    "# `map` &  `filter`"
   ]
  },
  {
   "cell_type": "markdown",
   "metadata": {},
   "source": [
    "## `map`\n",
    "La función `map` aplica una función `f` a un iterable `X` de $n$ elementos entrada a entrada.\n",
    "```python\n",
    "map(f, X) = [f(x1), f(x2), ..., f(xn)]\n",
    "```\n",
    "\n",
    "map siempre regresa un iterable, por lo que es necesario, para ver su valor, pasarlo a una lista"
   ]
  },
  {
   "cell_type": "code",
   "execution_count": null,
   "metadata": {},
   "outputs": [],
   "source": [
    "help(map)"
   ]
  },
  {
   "cell_type": "code",
   "execution_count": null,
   "metadata": {},
   "outputs": [],
   "source": [
    "import time\n",
    "import sys\n",
    "# versión oop\n",
    "elementos = []\n",
    "inicio = time.perf_counter()\n",
    "for x in range(1, 1_000_000):\n",
    "    elementos.append(x ** 2)\n",
    "fin = time.perf_counter()\n",
    "print(fin - inicio)\n",
    "print('-' * 20)\n",
    "print('El tamaño en bytes de elementos es', sys.getsizeof(elementos))"
   ]
  },
  {
   "cell_type": "code",
   "execution_count": null,
   "metadata": {},
   "outputs": [],
   "source": [
    "# versión fp\n",
    "inicio = time.perf_counter()\n",
    "elementos = map(lambda x: x ** 2, range(1, 1_000_000))\n",
    "fin = time.perf_counter()\n",
    "print(fin - inicio)\n",
    "print('*'*20)\n",
    "print(type(elementos))\n",
    "print('-' * 20)\n",
    "#Todavía no se calcula nada (lazy evaluation)\n",
    "print('El tamaño en bytes de elementos es', sys.getsizeof(elementos))"
   ]
  },
  {
   "cell_type": "code",
   "execution_count": null,
   "metadata": {
    "scrolled": true
   },
   "outputs": [],
   "source": [
    "#Utilizando más de un iterable en map\n",
    "#Para ver el resultado de map\n",
    "#es necesario hacer un casting a list\n",
    "list( map(lambda x, y: y + x ** 2, range(1, 11), range(10, 21)) )"
   ]
  },
  {
   "cell_type": "code",
   "execution_count": null,
   "metadata": {},
   "outputs": [],
   "source": [
    "#¿Que calcula el siguiente código?\n",
    "funcs = [lambda x: x + x, lambda x: x - x,\n",
    "         lambda x: x * x, lambda x: x / x]\n",
    "resultado = map(lambda f: f(2), funcs)\n",
    "\n",
    "print(list(resultado))"
   ]
  },
  {
   "cell_type": "markdown",
   "metadata": {},
   "source": [
    "## NOTA IMPORTANTE\n",
    "\n",
    "El resultado de `map` y `filter` es iterable utilizando un cíclo `for`.\n",
    "\n",
    "Pero una vez \"consumido\" el contenido, no es posible volver a acceder a este, al menos que se vuelva a ejecutar `map` o `filter`.\n",
    "\n",
    "Lo anterior tiene que ver con el concepto de **evaluación perezosa (lazy evaluation)** concepto fundamental en programación funcional."
   ]
  },
  {
   "cell_type": "code",
   "execution_count": null,
   "metadata": {},
   "outputs": [],
   "source": [
    "resultado = map(lambda x, y: y + x ** 2, range(1, 11), range(10, 21)) \n",
    "\n",
    "print('Primer for')\n",
    "for e in resultado:\n",
    "    #Se \"consume\" el contenido\n",
    "    #de resultado\n",
    "    print(e)\n",
    "    \n",
    "print('Segundo for')    \n",
    "for e in resultado:\n",
    "    print(e)\n",
    "\n",
    "#Ocurre algo similar cuando se hace conversión a list"
   ]
  },
  {
   "cell_type": "markdown",
   "metadata": {},
   "source": [
    "## `filter`\n",
    "La función `filter` filtra los elementos de un iterable`X` considerando el valor de una **función booleana** `f`.\n",
    "\n",
    "`filter` regresa un iterable de los elementos de `X` que son verdaderos bajo `f`"
   ]
  },
  {
   "cell_type": "code",
   "execution_count": null,
   "metadata": {},
   "outputs": [],
   "source": [
    "help(filter)"
   ]
  },
  {
   "cell_type": "code",
   "execution_count": null,
   "metadata": {},
   "outputs": [],
   "source": [
    "#Filtrando elementos impares versión OOP\n",
    "elementos = [1, 5, 2, 0, 4, 3, 8, 11]\n",
    "nuevos_elementos = []\n",
    "for x in elementos:\n",
    "    if x % 2 != 0:\n",
    "        nuevos_elementos.append(x)\n",
    "nuevos_elementos"
   ]
  },
  {
   "cell_type": "code",
   "execution_count": null,
   "metadata": {},
   "outputs": [],
   "source": [
    "#Filtrando elementos impares con filter y una expresión lambda\n",
    "list(filter(lambda x: x % 2 != 0, elementos))"
   ]
  },
  {
   "cell_type": "markdown",
   "metadata": {},
   "source": [
    "# Ejercicios\n",
    "\n",
    "1. Considerando la lista `materias` y usando `map`, convierte cada elemento de materias a un string en minúscula.\n",
    "\n",
    "```python\n",
    "materias = [\"CALCULO\", \"FINANZAS\", \"OPTIMIZACION\",\n",
    "            \"GEOMETRIA\", \"PROGRAMACION\", \"ESTADISTICA\"]\n",
    "```\n",
    "2. Considerando la lista `materias` y usando `filter`, consigue todos los elementos de la lista que contengan más de 10 caracteres.\n",
    "\n",
    "3. Usando `map` y `filter`, escribe una expresión que obtenga todos los números del 1 al 11 cuyo cuadrado que sea un número impar."
   ]
  },
  {
   "cell_type": "code",
   "execution_count": null,
   "metadata": {},
   "outputs": [],
   "source": []
  },
  {
   "cell_type": "markdown",
   "metadata": {},
   "source": [
    "# List Comprehensions\n",
    "## Una alternativa a `map` & `filter`\n",
    "Una alternativa a usar `map` o `filter` son los **list comprehensions**.\n",
    "\n",
    "La idea es describir un nuevo elemento como si fuera un conjunto:\n",
    "\n",
    "$$\n",
    "    A = \\{f(c) \\ | \\ c \\in C\\}\n",
    "$$\n",
    "\n",
    "\n",
    "<div align=\"center\">\n",
    "    \n",
    "```python\n",
    "A = [f(c) for c in C]\n",
    "\n",
    "```\n",
    "\n",
    "</div>\n",
    "\n",
    "Usar un **list comprehension**:\n",
    "1. Nos ahorra la necesidad de hacer la conversión a lista, e.g. `list(map(..))`.\n",
    "\n",
    "2. Hace de ciertos códigos más legibles en menos líneas"
   ]
  },
  {
   "cell_type": "markdown",
   "metadata": {},
   "source": [
    "### List Comprehension como `map`"
   ]
  },
  {
   "cell_type": "code",
   "execution_count": null,
   "metadata": {},
   "outputs": [],
   "source": [
    "# lista de todos los elementos de 1 al 11 al cuadrado\n",
    "# list(map(lambda x: x ** 2, range(1, 11))) \n",
    "lista = [x ** 2 for x in range(1, 11)]\n",
    "print(lista)\n",
    "print(type(lista))"
   ]
  },
  {
   "cell_type": "markdown",
   "metadata": {},
   "source": [
    "### List Comprehension como `filter`\n"
   ]
  },
  {
   "cell_type": "code",
   "execution_count": null,
   "metadata": {},
   "outputs": [],
   "source": [
    "# lista de todos los elementos de 1 al 11 que sean impares\n",
    "[x for x in range(1, 11) if x % 2 == 1]"
   ]
  },
  {
   "cell_type": "code",
   "execution_count": null,
   "metadata": {},
   "outputs": [],
   "source": [
    "#Anidando listas y for's\n",
    "#Se inicia con el for más exterior\n",
    "[[x + i for x in range(5)] for i in range(10)]"
   ]
  },
  {
   "cell_type": "code",
   "execution_count": null,
   "metadata": {},
   "outputs": [],
   "source": [
    "#Anidando for's\n",
    "#Equivalente a \n",
    "#for x in range(5):\n",
    "    #for i in range(10)\n",
    "#NO RECOMENDADO YA QUE ES MÁS DIFÍCIL DE ENTENDER\n",
    "[str(x) + '_' +  str(i) for x in range(5) for i in range(10)]"
   ]
  },
  {
   "cell_type": "markdown",
   "metadata": {},
   "source": [
    "## Set, Dict comprehension\n",
    "Al igual que con una lista, podemos crear diccionarios y conjuntos\n",
    "\n",
    "**dict comprehension**\n",
    "```python\n",
    "{k: f(k) for k in C}\n",
    "```\n",
    "\n",
    "**set comprehension**\n",
    "```python\n",
    "{f(k) for k in C}\n",
    "```"
   ]
  },
  {
   "cell_type": "code",
   "execution_count": null,
   "metadata": {},
   "outputs": [],
   "source": [
    "{x:str(x) for x in range(10)}"
   ]
  },
  {
   "cell_type": "markdown",
   "metadata": {},
   "source": [
    "# Ejercicio\n",
    "\n",
    "Considerando las listas `companies`, `ticks`\n",
    "1. crea un *dict comphrension* cuya llave sea el nombre de la compañía y su valor la longitud de su nombre\n",
    "2. Crea un *set comprehension* que contenga la longitudes de los elementos en `ticks`\n",
    "3. Crea un dict comprehension cuya llave sea al tick de la compañía y su valor el nombre de la compañía"
   ]
  },
  {
   "cell_type": "code",
   "execution_count": null,
   "metadata": {},
   "outputs": [],
   "source": [
    "companies = ['Nokia', 'Caterpillar', 'Citigroup', 'Union Pacific',\n",
    "             'Jp Morgan Chase', 'Morgan Stanley', 'Praxair',\n",
    "             'Lloyds Tsb', 'Wells Fargo', 'Ford Motor', 'Pfizer',\n",
    "             'Companhia Vale Do Rio Doce', 'Gen Electric', 'Barrick Gold',\n",
    "             'Bhp Billiton Sp', 'Philips Electronics']\n",
    "ticks = ['NOK', 'CAT', 'C', 'UNP', 'JPM', 'MS', 'PX', 'LYG', 'WFC', 'F', 'PFE', 'VALE', 'GE', 'ABX', 'BBL', 'PHG']"
   ]
  },
  {
   "cell_type": "code",
   "execution_count": null,
   "metadata": {},
   "outputs": [],
   "source": []
  },
  {
   "cell_type": "markdown",
   "metadata": {},
   "source": [
    "# Cuantificadores `all` `any`\n",
    "\n",
    "Al trabajar con arreglos de elementos, en ocasiones es deseable saber si **alguno** o **todos** los elementos cumplen con cierta característica.\n",
    "\n",
    "## `any`\n",
    "\n",
    "Para saber si al menos un elemento deentro de iterable es `True` ocupamos la función  `any`\n",
    "\n",
    "Si `X` contiene valores booleanos, entonces \n",
    "\n",
    "```python\n",
    "any(X) == x[0] or x[1] or ... or x[n-1]\n",
    "```\n",
    "\n",
    "En la práctica, `X` no es necesariamente un arreglo de booleanos, en este caso, podemos considerar una función booleana `f` que, para cada elemento en `X`, nos dice si cumple cierta condición o conjunto de condiciones.\n",
    "\n",
    "\n",
    "    \n",
    "```python\n",
    "any([f(x) for x in X]) == (f(x[0]) or f(x[1]) or ... or f(x[n]))\n",
    "```\n",
    "\n",
    "\n",
    "Lo cual es equivalente al cálculo de predicados como:\n",
    "\n",
    "$$\n",
    "    \\exists x \\in X. f(x) = f(x_0) \\vee f(x_1) \\vee \\ldots \\vee f(x_n)\n",
    "$$\n",
    "\n",
    "## `all`\n",
    "\n",
    "\n",
    "Para saber si todos los elementos de un iterable son `True` ocupamos la función  `all`\n",
    "\n",
    "```python\n",
    "all(X) == x[0] and x[1] and ... and x[n-1]\n",
    "```\n",
    "\n",
    "Nuevamente, utilizando una función booleana tenemos:\n",
    "\n",
    "    \n",
    "```python\n",
    "all([f(x) for x in X]) == (f(x[0]) and f(x[1]) and ... and f(x[n]))\n",
    "```\n",
    "\n",
    "\n",
    "Lo cual es equivalente al cálculo de predicados como:\n",
    "$$\n",
    "    \\forall x \\in X. f(x) = f(x_0) \\wedge f(x_1) \\wedge \\ldots \\wedge f(x_n)\n",
    "$$\n"
   ]
  },
  {
   "cell_type": "code",
   "execution_count": null,
   "metadata": {},
   "outputs": [],
   "source": [
    "any([False, True, True])"
   ]
  },
  {
   "cell_type": "code",
   "execution_count": null,
   "metadata": {},
   "outputs": [],
   "source": [
    "all([False, True, True])"
   ]
  },
  {
   "cell_type": "code",
   "execution_count": null,
   "metadata": {},
   "outputs": [],
   "source": [
    "#¿Cómo se interpreta lo siguiente?\n",
    "U = [1, 3, 3, 10]\n",
    "all([True if x % 2 == 1 else False for x in U])"
   ]
  },
  {
   "cell_type": "code",
   "execution_count": null,
   "metadata": {},
   "outputs": [],
   "source": [
    "#¿Qué nos dice el siguiente código?\n",
    "any([(lambda x: x%2 == 0)(x) for x in range(431, 567, 7)])"
   ]
  }
 ],
 "metadata": {
  "kernelspec": {
   "display_name": "Python 3",
   "language": "python",
   "name": "python3"
  },
  "language_info": {
   "codemirror_mode": {
    "name": "ipython",
    "version": 3
   },
   "file_extension": ".py",
   "mimetype": "text/x-python",
   "name": "python",
   "nbconvert_exporter": "python",
   "pygments_lexer": "ipython3",
   "version": "3.7.6"
  }
 },
 "nbformat": 4,
 "nbformat_minor": 4
}
