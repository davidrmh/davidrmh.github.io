{
 "cells": [
  {
   "cell_type": "markdown",
   "metadata": {},
   "source": [
    "# Valuación de un bono\n",
    "\n",
    "**Referencia** Fixed-Income Securities Valuation Risk Management and Portfolio Strategies - Capítulo 5\n",
    "\n",
    "\n",
    "**OBSERVACIÓN:** Todas las tasas a las que se hará referencia, serán tasas efectivas anuales.\n",
    "\n",
    "Programe una función que calcule el precio de un bono cuyas características están dadas en el archivo ```datos_bono.csv```\n",
    "\n",
    "El precio de un bono está dado por:\n",
    "\n",
    "$$\n",
    "Precio(t_0) = \\sum_{i=1}^{N} \\dfrac{C_i}{(1 + r_i)^{\\tau_i}} + \\dfrac{Nom}{(1 + r_N)^{\\tau_N}}\n",
    "$$\n",
    "\n",
    "En donde \n",
    "* $t_0$ es la fecha de valuación.\n",
    "* $C_i$ es el cupón en la fecha $i$.\n",
    "* $r_i$ es la tasa **efectiva anual** utilizada para descontar el cupón en la fecha $i$.\n",
    "* ${\\tau_i}$ es la diferencia (en años) entre la fecha $i$ y $t_0$.\n",
    "* $Nom$ es el valor nominal del bono.\n",
    "\n",
    "Utilice ```t_0 = \"2020/04/09\"``` y ```nom=1000```. Suponga además que el año tiene 360 días."
   ]
  },
  {
   "cell_type": "code",
   "execution_count": null,
   "metadata": {},
   "outputs": [],
   "source": [
    "from datetime import datetime\n",
    "from scipy.optimize import root_scalar\n",
    "from scipy.misc import derivative"
   ]
  },
  {
   "cell_type": "code",
   "execution_count": null,
   "metadata": {},
   "outputs": [],
   "source": []
  },
  {
   "cell_type": "markdown",
   "metadata": {},
   "source": [
    "# Yield de un bono\n",
    "\n",
    "De acuerdo a la expresión para calcular el precio de un bono, este depende de $N$ tasas $r_i$, cada una representando un factor de riesgo. Conforme el número de factores de riesgo va aumentando, el manejo de estos se vuelve demasiado problemático (o tal vez imposible) es por esto que resulta conveniente reducir, en la mayor medida posible, el número de variables a analizar.\n",
    "\n",
    "En lugar de lidiar individualmente con cada factor $r_i$, es posible \"resumir\" la información de la curva spot utilizando un sólo número.\n",
    "\n",
    "El **yield to maturity (YTM)** es la tasa **constante**, $y$, que hace que el valor presente de los flujos de dinero sea igual al precio del bono.\n",
    "\n",
    "$$\n",
    "Precio(t_0) = \\sum_{i=1}^{N} \\dfrac{C_i}{(1 + y)^{\\tau_i}} + \\dfrac{Nom}{(1 + y)^{\\tau_N}}\n",
    "$$\n",
    "\n",
    "Para encontrar el **YTM**, es necesario recurrir a métodos numéricos diseñados para obtener los ceros de una función tales como el método de *bisección* o el método de *Newton-Raphson*, es decir, se busca un valor $y$, tal que $f(y) = 0$, en donde:\n",
    "\n",
    "$$\n",
    "f(y) = \\sum_{i=1}^{N} \\dfrac{C_i}{(1 + y)^{\\tau_i}} + \\dfrac{Nom}{(1 + y)^{\\tau_N}} - Precio(t_0) \n",
    "$$\n",
    "\n",
    "Utilizando `scipy.optimize.root_scalar` programe una función que calcule el yield del bono anterior."
   ]
  },
  {
   "cell_type": "code",
   "execution_count": null,
   "metadata": {},
   "outputs": [],
   "source": []
  },
  {
   "cell_type": "markdown",
   "metadata": {},
   "source": [
    "# \\\\$Duración, duración modificada y basis point value\n",
    "\n",
    "La derivada del precio de un bono respecto a la tasa yield es llamada la \\\\$Duración o \\\\$Dur.\n",
    "\n",
    "$$\n",
    "\\dfrac{d P(y)}{dy} = \\$Dur(P(y))\n",
    "$$\n",
    "\n",
    "\n",
    "La **duración modificada** está dada por\n",
    "\n",
    "$$\n",
    "MD(P(y)) =  - \\dfrac{P^{'}(y)}{P(y)}\n",
    "$$\n",
    "\n",
    "\n",
    "Utilizando estas cantidades y la expansión de Taylor de **primer orden** es posible obtener la pérdida y ganancia del bono provocada por un pequeño cambio en la tasa yield.\n",
    "\n",
    "$$\n",
    "dP(y) = P(y + dy) - P(y) = P^{'}(y) + o(y) \\approx \\$Dur(P(y)) dy\n",
    "$$\n",
    "\n",
    "$$\n",
    "\\dfrac{dP(y)}{P(y)} = \\dfrac{P^{'}(y)}{P(y)}dy + o(y) \\approx - MD(P(y))dy\n",
    "$$\n",
    "\n",
    "Cambiando el diferencial $dy$ por una cantidad \"pequeña\" $\\Delta y$ (por ejemplo 10 puntos base) tenemos lo siguiente.\n",
    "\n",
    "$$\n",
    "P\\&L \\text{ Absoluto } \\approx \\$Dur \\times \\Delta y\n",
    "$$\n",
    "\n",
    "$$\n",
    "P\\&L \\text{ Relativo } \\approx -MD(P(y)) \\Delta y\n",
    "$$\n",
    "\n",
    "Finalmente, la medida llamada **basis point value** nos indica el cambio en el precio del bono cuando el yield cambia un punto base.\n",
    "\n",
    "$$\n",
    "BPV = \\dfrac{MD \\times P}{10,000} = \\dfrac{-\\$Dur}{10,000}\n",
    "$$\n",
    "\n",
    "Utilizando los datos del bono anterior, calcule lo siguiente:\n",
    "\n",
    "* P&L Absoluto cuando la tasa yield cambia 50 puntos básicos.\n",
    "\n",
    "* P&L Relativo cuando la tasa yield cambia 50 puntos básicos.\n",
    "\n",
    "* Basis Point Value.\n",
    "\n",
    "* Responda en que unidades se expresa cada una de las cantidades anteriores.\n",
    "\n",
    "Para calcular la derivada puede utilizar la función `derivative` del módulo `scipy.misc` o puede derivar la expresión del precio y programar el resultado."
   ]
  },
  {
   "cell_type": "code",
   "execution_count": null,
   "metadata": {},
   "outputs": [],
   "source": []
  }
 ],
 "metadata": {
  "kernelspec": {
   "display_name": "Python 3",
   "language": "python",
   "name": "python3"
  },
  "language_info": {
   "codemirror_mode": {
    "name": "ipython",
    "version": 3
   },
   "file_extension": ".py",
   "mimetype": "text/x-python",
   "name": "python",
   "nbconvert_exporter": "python",
   "pygments_lexer": "ipython3",
   "version": "3.7.6"
  }
 },
 "nbformat": 4,
 "nbformat_minor": 4
}
