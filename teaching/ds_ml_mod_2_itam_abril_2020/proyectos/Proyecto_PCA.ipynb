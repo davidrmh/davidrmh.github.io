{
 "cells": [
  {
   "cell_type": "markdown",
   "metadata": {},
   "source": [
    "# Creación de un índicador financiero utilizando PCA\n",
    "\n",
    "En este notebook utilizaremos el análisis de componentes principales con el fin de resumir el comportamiento de 5 índices accionarios en un sólo índice. Este nuevo índice corresponderá al primer componente principal de nuestra matriz de datos.\n",
    "\n",
    "Utilizando el archivo ```indices.csv``` realice lo siguiente:\n",
    "\n",
    "* Utilizando el primer componente principal obtenga un indicador financiero.\n",
    "\n",
    "* Obtenga además la contribución de cada componente a la variabilidad total de los datos, así como la variabilidad acumulada.\n",
    "\n",
    "* Programe una función para cambiar los precios de los índices accionarios y el indicador financiero a una base 100 (HABRÁ PENALIZACIÓN SI UTILIZA LOOPS)\n",
    "\n",
    "* Utilizando una gráfica, compare el comportamiento del índice obtenido con PCA y los 5 índices accionarios (estas series deben de compararse en base 100)\n",
    "\n",
    "## Base 100\n",
    "\n",
    "Suponga que se tiene una serie de tiempo $\\{X\\}_t$ y se desea reexpresar los niveles de esta serie utilizando una nueva serie $\\{Y\\}_t$ tal que $Y_0 = 100$.\n",
    "\n",
    "Para crear $\\{Y\\}_t$, lo único que necesitamos es asegurarnos de que se cumplan las siguientes condiciones\n",
    "\n",
    "$$\n",
    "\\Delta Y_{t} = \\dfrac{Y_{t}} {Y_{t-1}} - 1 = \\Delta X_{t} = \\dfrac{X_{t}} {X_{t-1}} - 1\n",
    "$$\n",
    "\n",
    "Es decir, ambas series deben de tener los mismos cambios porcentuales."
   ]
  },
  {
   "cell_type": "code",
   "execution_count": 1,
   "metadata": {},
   "outputs": [],
   "source": [
    "#Escriba aquí su código\n",
    "import numpy as np\n",
    "import matplotlib.pyplot as plt\n"
   ]
  }
 ],
 "metadata": {
  "kernelspec": {
   "display_name": "Python 3",
   "language": "python",
   "name": "python3"
  },
  "language_info": {
   "codemirror_mode": {
    "name": "ipython",
    "version": 3
   },
   "file_extension": ".py",
   "mimetype": "text/x-python",
   "name": "python",
   "nbconvert_exporter": "python",
   "pygments_lexer": "ipython3",
   "version": "3.7.6"
  }
 },
 "nbformat": 4,
 "nbformat_minor": 4
}
