{
 "cells": [
  {
   "cell_type": "markdown",
   "metadata": {},
   "source": [
    "$$\n",
    "\\mathbf{A}=\n",
    "\\begin{pmatrix}\n",
    "0 & 1 \\\\\n",
    "-2 & -3\n",
    "\\end{pmatrix}\n",
    "$$"
   ]
  },
  {
   "cell_type": "code",
   "execution_count": 11,
   "metadata": {},
   "outputs": [],
   "source": [
    "import numpy as np\n",
    "A = np.array([[0, 1], [-2, -3]])"
   ]
  },
  {
   "cell_type": "markdown",
   "metadata": {},
   "source": [
    "El polinomio característico está dado por\n",
    "\n",
    "$$\n",
    "|\\lambda \\mathbf{I} - \\mathbf{A}| = \\lambda^{2} + 3 \\lambda + 2\n",
    "$$"
   ]
  },
  {
   "cell_type": "code",
   "execution_count": 14,
   "metadata": {},
   "outputs": [
    {
     "name": "stdout",
     "output_type": "stream",
     "text": [
      "[-2. -1.]\n"
     ]
    }
   ],
   "source": [
    "raices = np.roots([1,3, 2])\n",
    "print(raices)"
   ]
  },
  {
   "cell_type": "markdown",
   "metadata": {},
   "source": [
    "De\n",
    "\n",
    "$$\n",
    "\\mathbf{A} \\mathbf{x} = \\lambda \\mathbf{x}\n",
    "$$\n",
    "\n",
    "con $\\mathbf{x} = (x_1, x_2)$\n",
    "\n",
    "se obtiene\n",
    "\n",
    "$ x_2 = \\lambda x_1 $ \n",
    "\n",
    "y \n",
    "\n",
    "$(\\lambda^2 + 3 \\lambda + 2) x_1 = 0$\n",
    "\n",
    "Por lo tanto\n",
    "\n",
    "\n",
    "$$\n",
    "\\mathbf{x} = \n",
    "\\begin{pmatrix}\n",
    "x_1 \\\\\n",
    "\\lambda x_1\n",
    "\\end{pmatrix}\n",
    "$$\n",
    "\n",
    "o\n",
    "$$\n",
    "\\mathbf{x} = \n",
    "x_1\n",
    "\\begin{pmatrix}\n",
    "1 \\\\\n",
    "\\lambda\n",
    "\\end{pmatrix}\n",
    "$$\n",
    "\n",
    "Una infinidad de vectores característicos asociados a una $\\lambda$.\n",
    "\n",
    "La función ```numpy.linalg.eig``` busca vectores de norma 1 y por lo tanto podemos ignorar $x_1$ ¿por qué?"
   ]
  },
  {
   "cell_type": "code",
   "execution_count": 15,
   "metadata": {},
   "outputs": [
    {
     "name": "stdout",
     "output_type": "stream",
     "text": [
      "[-1. -2.]\n",
      "[[ 0.70710678 -0.4472136 ]\n",
      " [-0.70710678  0.89442719]]\n"
     ]
    }
   ],
   "source": [
    "#La función eig, busca vectores con norma 1\n",
    "#\n",
    "eig_val, eig_vect = np.linalg.eig(A)\n",
    "print(eig_val)\n",
    "print(eig_vect)"
   ]
  },
  {
   "cell_type": "code",
   "execution_count": 16,
   "metadata": {},
   "outputs": [
    {
     "name": "stdout",
     "output_type": "stream",
     "text": [
      "0.9999999999999999\n"
     ]
    }
   ],
   "source": [
    "print(np.linalg.norm(eig_vect[:,0], ord = 2))"
   ]
  },
  {
   "cell_type": "code",
   "execution_count": null,
   "metadata": {},
   "outputs": [],
   "source": []
  }
 ],
 "metadata": {
  "kernelspec": {
   "display_name": "Python 3",
   "language": "python",
   "name": "python3"
  },
  "language_info": {
   "codemirror_mode": {
    "name": "ipython",
    "version": 3
   },
   "file_extension": ".py",
   "mimetype": "text/x-python",
   "name": "python",
   "nbconvert_exporter": "python",
   "pygments_lexer": "ipython3",
   "version": "3.7.6"
  }
 },
 "nbformat": 4,
 "nbformat_minor": 4
}
