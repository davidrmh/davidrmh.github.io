{
 "cells": [
  {
   "cell_type": "code",
   "execution_count": null,
   "metadata": {},
   "outputs": [],
   "source": [
    "import numpy as np"
   ]
  },
  {
   "cell_type": "code",
   "execution_count": null,
   "metadata": {},
   "outputs": [],
   "source": [
    "def obten_columna(matriz, col):\n",
    "    '''\n",
    "    Función para obtener la columna de una matriz\n",
    "    \n",
    "    ENTRADA\n",
    "    matriz: lista anidada que representa una matriz\n",
    "    \n",
    "    col: Entero positivo que representa el índice\n",
    "    de la columna deseada\n",
    "    \n",
    "    SALIDA\n",
    "    lista que representa una columna\n",
    "    '''\n",
    "    \n",
    "    #para almacenar la columna\n",
    "    columna = []\n",
    "    \n",
    "    for renglon in matriz:\n",
    "        dato = renglon[col]\n",
    "        columna.append(dato)\n",
    "    return columna   "
   ]
  },
  {
   "cell_type": "code",
   "execution_count": null,
   "metadata": {},
   "outputs": [],
   "source": [
    "def producto_punto(vec1, vec2):\n",
    "    '''\n",
    "    Calcula el producto punto de vectores\n",
    "    \n",
    "    ENTRADA\n",
    "    vec1,vec2: Listas\n",
    "    \n",
    "    SALIDA\n",
    "    float\n",
    "    '''\n",
    "    \n",
    "    suma = 0\n",
    "    for i in range(len(vec1)):\n",
    "        suma = suma + vec1[i] * vec2[i]\n",
    "    return suma    "
   ]
  },
  {
   "cell_type": "code",
   "execution_count": null,
   "metadata": {},
   "outputs": [],
   "source": [
    "def producto_matrices(matA, matB):\n",
    "    '''\n",
    "    Realiza el producto de matrices\n",
    "    \n",
    "    ENTRADA\n",
    "    matA, matB: listas anidadas que representan matrices\n",
    "    \n",
    "    SALIDA\n",
    "    lista anidada con el resultado de la multiplicación\n",
    "    '''\n",
    "    \n",
    "    #para guardar el resultado\n",
    "    res = []\n",
    "    \n",
    "    for reng_A in matA:\n",
    "        #para crear el renglón resultado\n",
    "        reng_res = []\n",
    "        \n",
    "        #itera sobre las columnas de matB\n",
    "        for i in range(len(matB[0])):\n",
    "            \n",
    "            #Obtiene la i-ésima columna de matB\n",
    "            col_B = obten_columna(matB, i)\n",
    "            \n",
    "            #realiza el producto punto\n",
    "            dot_prod =producto_punto(reng_A, col_B)\n",
    "            \n",
    "            #agrega al renglón que se está creando\n",
    "            reng_res.append(dot_prod)\n",
    "            \n",
    "        #agrega el renglón a la matriz\n",
    "        res.append(reng_res)\n",
    "    return res    "
   ]
  },
  {
   "cell_type": "code",
   "execution_count": null,
   "metadata": {},
   "outputs": [],
   "source": [
    "A = [[1,2,3], [4,5,6], [7,8,9] ]\n",
    "B = [ [1,2], [4,5], [7,8] ]\n",
    "resultado = producto_matrices(A,B)"
   ]
  },
  {
   "cell_type": "code",
   "execution_count": null,
   "metadata": {},
   "outputs": [],
   "source": [
    "#Validación\n",
    "print(resultado)\n",
    "print('-'*30)\n",
    "print(np.matmul(A,B))"
   ]
  },
  {
   "cell_type": "code",
   "execution_count": null,
   "metadata": {},
   "outputs": [],
   "source": []
  }
 ],
 "metadata": {
  "kernelspec": {
   "display_name": "Python 3",
   "language": "python",
   "name": "python3"
  },
  "language_info": {
   "codemirror_mode": {
    "name": "ipython",
    "version": 3
   },
   "file_extension": ".py",
   "mimetype": "text/x-python",
   "name": "python",
   "nbconvert_exporter": "python",
   "pygments_lexer": "ipython3",
   "version": "3.7.6"
  }
 },
 "nbformat": 4,
 "nbformat_minor": 4
}
