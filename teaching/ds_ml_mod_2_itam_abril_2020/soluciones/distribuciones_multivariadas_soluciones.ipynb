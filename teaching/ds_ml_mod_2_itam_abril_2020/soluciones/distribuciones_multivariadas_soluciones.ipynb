{
 "cells": [
  {
   "cell_type": "code",
   "execution_count": null,
   "metadata": {},
   "outputs": [],
   "source": [
    "import numpy as np\n",
    "import matplotlib.pyplot as plt"
   ]
  },
  {
   "cell_type": "markdown",
   "metadata": {},
   "source": [
    "# Ejercicio \n",
    "\n",
    "Suponga que se tiran dos dados de $3$ caras. Sea $X$ la cara que muestra el primer dado y sea $Y$ la suma de los dos dados. Utilizando simulación encuentre $f_{XY}$ y a partir de esta densidad, encuentre las densidades marginales  $f_{X}$ y $f_{Y}$."
   ]
  },
  {
   "cell_type": "code",
   "execution_count": null,
   "metadata": {},
   "outputs": [],
   "source": [
    "#Número de simulaciones\n",
    "n_sim = 100_000\n",
    "\n",
    "#Posibles caras de un dado\n",
    "caras = [1,2,3]\n",
    "\n",
    "#posibles sumas de dos dados\n",
    "sumas = [2, 3, 4, 5, 6]\n",
    "\n",
    "#Tira los dados\n",
    "dado1 = np.random.choice(caras, size = n_sim)\n",
    "dado2 = np.random.choice(caras, size = n_sim)\n",
    "\n",
    "#crea las variables X y Y\n",
    "#cada renglón de la matriz\n",
    "#representa el resultado de un experimento\n",
    "mat_sim = np.array([dado1, dado1 + dado2]).transpose()"
   ]
  },
  {
   "cell_type": "code",
   "execution_count": null,
   "metadata": {},
   "outputs": [],
   "source": [
    "def obten_conjunta(mat_sim, caras, sumas):\n",
    "    '''\n",
    "    Función para estimar la distribución \n",
    "    conjunta\n",
    "    \n",
    "    ENTRADA\n",
    "    mat_sim: ndarray que reprensenta las simulaciones\n",
    "    \n",
    "    caras: lista con las posibles caras del dado\n",
    "    \n",
    "    sumas: lista con las posibles sumas de dos dados\n",
    "    \n",
    "    SALIDA\n",
    "    un diccionario que contiene las probabilidades\n",
    "    dic[x][y] = Prob(X = x, Y = y) \n",
    "    '''\n",
    "    \n",
    "    #obtiene el número de simulaciones\n",
    "    n_sim = mat_sim.shape[0]\n",
    "    \n",
    "    #para almacenar la tabla de probabilidades\n",
    "    tabla_prob = {}\n",
    "    \n",
    "    for cara in caras:\n",
    "        tabla_prob[cara] = {}\n",
    "        \n",
    "        for suma in sumas:\n",
    "            #Cuenta casos de éxito\n",
    "            #(X == cara, Y == suma)\n",
    "            #logical_and regresa un array de True y False\n",
    "            conteo = np.logical_and(mat_sim[:,0] == cara, \\\n",
    "                                   mat_sim[:,1] == suma).sum()\n",
    "            \n",
    "            #Estima probabilidad\n",
    "            tabla_prob[cara][suma] = conteo / n_sim\n",
    "    return tabla_prob"
   ]
  },
  {
   "cell_type": "code",
   "execution_count": null,
   "metadata": {},
   "outputs": [],
   "source": [
    "f_conjunta = obten_conjunta(mat_sim, caras, sumas)\n",
    "print(f_conjunta)"
   ]
  },
  {
   "cell_type": "code",
   "execution_count": null,
   "metadata": {},
   "outputs": [],
   "source": [
    "def obten_marginal_x(f_conjunta):\n",
    "    '''\n",
    "    Obtiene la densidad marginal de x\n",
    "    \n",
    "    ENTRADA\n",
    "    f_conjunta: diccionario creado con la función\n",
    "    obten_conjunta\n",
    "    \n",
    "    SALIDA\n",
    "    diccionario tal que dic[x] = Prob(X = x)\n",
    "    '''\n",
    "    \n",
    "    #para almacenar las probabilidades\n",
    "    #marginales\n",
    "    f_x = {}\n",
    "    \n",
    "    #recuerde que en un diccionario\n",
    "    #el for itera sobre las llaves\n",
    "    for val in f_conjunta:\n",
    "        \n",
    "        #Suma sobre las Y's\n",
    "        #Observe el casting a list\n",
    "        f_x[val] = np.sum(list(f_conjunta[val].values()))\n",
    "        \n",
    "    return f_x    "
   ]
  },
  {
   "cell_type": "code",
   "execution_count": null,
   "metadata": {},
   "outputs": [],
   "source": [
    "marginal_x = obten_marginal_x(f_conjunta)\n",
    "print(marginal_x)"
   ]
  },
  {
   "cell_type": "code",
   "execution_count": null,
   "metadata": {},
   "outputs": [],
   "source": [
    "def obten_marginal_y(f_conjunta, sumas):\n",
    "    '''\n",
    "    Función para obtener la densidad marginal de Y\n",
    "    \n",
    "    ENTRADA\n",
    "    f_conjunta: diccionario creado con la función\n",
    "    obten_conjunta\n",
    "    \n",
    "    sumas: lista con los posibles valores de Y\n",
    "    \n",
    "    SALIDA\n",
    "    diccionario tal que dic[y] = Prob(Y = y)\n",
    "    '''\n",
    "    \n",
    "    #para almacenar las probabilidades\n",
    "    f_y = {}\n",
    "    \n",
    "    #fija valor de Y\n",
    "    for suma in sumas:\n",
    "        \n",
    "        prob_acum = 0\n",
    "        #Acumula las probabilidades\n",
    "        #sobre los valores X\n",
    "        for key in f_conjunta:\n",
    "            prob_acum = prob_acum + f_conjunta[key][suma]\n",
    "        \n",
    "        f_y[suma] = prob_acum\n",
    "            \n",
    "    return f_y    "
   ]
  },
  {
   "cell_type": "code",
   "execution_count": null,
   "metadata": {},
   "outputs": [],
   "source": [
    "marginal_y = obten_marginal_y(f_conjunta, sumas)\n",
    "print(marginal_y)"
   ]
  },
  {
   "cell_type": "markdown",
   "metadata": {},
   "source": [
    "# Ejercicio\n",
    "\n",
    "Si $f(x,y) = 6(1 - y)$ para $0 < x < y < 1$, utilizando simulación compruebe que\n",
    "\n",
    "* $E\\left[X | Y = 1 /2 \\right] = 0.25$\n",
    "\n",
    "* $Var\\left[X | Y = 1 /2 \\right] = 0.021$\n",
    "\n"
   ]
  },
  {
   "cell_type": "code",
   "execution_count": null,
   "metadata": {},
   "outputs": [],
   "source": [
    "def distribucion_inversa(u, y = 0.5):\n",
    "    '''\n",
    "    Función inversa de la función F_{x|y} \n",
    "    \n",
    "    ENTRADA\n",
    "    u: Float en (0, 1) o np.array con números en (0, 1)\n",
    "    \n",
    "    y: Float en (0, 1)\n",
    "    \n",
    "    SALIDA\n",
    "    float o np.array de floats\n",
    "    '''\n",
    "    return y * u\n",
    "\n",
    "def simula_aleatorio(y = 0.5, n_sim = int(1e4)):\n",
    "    '''\n",
    "    Función para simular un números aleatorios de la densidad \n",
    "    f_{x|y}\n",
    "    \n",
    "    ENTRADA\n",
    "    n_sim: Entero positivo, número de simulaciones\n",
    "    \n",
    "    y: Float en (0, 1)\n",
    "    \n",
    "    SALIDA\n",
    "    float o np.array de floats\n",
    "    '''\n",
    "    \n",
    "    #Genera uniforme (0,1)\n",
    "    u = np.random.uniform(low = 0, high = 1, size = n_sim)\n",
    "    \n",
    "    return distribucion_inversa(u,y)\n",
    "    "
   ]
  },
  {
   "cell_type": "code",
   "execution_count": null,
   "metadata": {},
   "outputs": [],
   "source": [
    "aleatorios = simula_aleatorio(y = 0.5, n_sim = int(1e5))\n",
    "media = np.mean(aleatorios)\n",
    "segundo_momento = np.mean(aleatorios**2)\n",
    "varianza = segundo_momento - media**2\n",
    "print(\"La media es\", round(media, 3))\n",
    "print(\"La varianza es\", round(varianza, 3))"
   ]
  },
  {
   "cell_type": "markdown",
   "metadata": {},
   "source": [
    "# Covarianzas y correlaciones"
   ]
  },
  {
   "cell_type": "code",
   "execution_count": null,
   "metadata": {},
   "outputs": [],
   "source": [
    "#help(np.cov)\n",
    "#help(np.corrcoef)\n",
    "n_muestras = int(1e5)\n",
    "\n",
    "np.random.seed(1234)\n",
    "#Variables normales media cero desviación estándar 1\n",
    "x_1 = np.random.normal(size = n_muestras)\n",
    "\n",
    "#coeficiente de correlación\n",
    "rho = 0.7\n",
    "\n",
    "#x_2 tiene correlación rho con x_1 \n",
    "#y tiene distribución normal media 0 desviación estándar 2\n",
    "sig_2 = 2\n",
    "z = np.random.normal(size = n_muestras)\n",
    "x_2 = sig_2 * (rho * x_1 + np.sqrt(1 - rho**2) * z)\n",
    "\n",
    "#matriz de datos\n",
    "#en este caso cada cada renglón es una variable\n",
    "#y cada columna es una observación\n",
    "#Estructura default del parámetro rowvar\n",
    "mat_datos = np.array([x_1, x_2])\n",
    "print(mat_datos.shape)\n",
    "\n",
    "#matriz de covarianzas\n",
    "mat_cov = np.cov(mat_datos)\n",
    "\n",
    "\n",
    "#matriz de correlaciones\n",
    "mat_cor = np.corrcoef(mat_datos)\n",
    "\n",
    "print('La matriz de covarianzas es')\n",
    "print(mat_cov)\n",
    "print('-' * 50)\n",
    "print('La matriz de correlaciones es')\n",
    "print(mat_cor)\n",
    "\n",
    "plt.plot(x_1, x_2, '.')\n",
    "plt.xlabel('$X_1$')\n",
    "plt.ylabel('$X_2$')\n",
    "plt.show()"
   ]
  }
 ],
 "metadata": {
  "kernelspec": {
   "display_name": "Python 3",
   "language": "python",
   "name": "python3"
  },
  "language_info": {
   "codemirror_mode": {
    "name": "ipython",
    "version": 3
   },
   "file_extension": ".py",
   "mimetype": "text/x-python",
   "name": "python",
   "nbconvert_exporter": "python",
   "pygments_lexer": "ipython3",
   "version": "3.7.6"
  }
 },
 "nbformat": 4,
 "nbformat_minor": 4
}
