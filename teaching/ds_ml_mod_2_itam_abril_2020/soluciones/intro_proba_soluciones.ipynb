{
 "cells": [
  {
   "cell_type": "markdown",
   "metadata": {},
   "source": [
    "# **Ejercicio**\n",
    "\n",
    "Considera una caja con 4 cartas enumeradas del 1 al 4, suponga que extrae al azar dos cartas\n",
    "\n",
    "a) ¿Cuál es el espacio muestral $S_1$ si las extracciones se realizan con reemplazo?\n",
    "\n",
    "b) ¿Cuál es el espacio muestral $S_2$ si las extracciones se realizan sin reemplazo?\n",
    "\n",
    "c) Utilizando simulación, calcule en ambos casos la probabilidad de que la primera carta sea un 3. Utilice $100,00$ simulaciones."
   ]
  },
  {
   "cell_type": "code",
   "execution_count": 1,
   "metadata": {},
   "outputs": [],
   "source": [
    "import numpy as np\n",
    "import matplotlib.pyplot as plt"
   ]
  },
  {
   "cell_type": "code",
   "execution_count": 2,
   "metadata": {},
   "outputs": [],
   "source": [
    "n_sim = 100_000\n",
    "caja = np.array([1,2,3,4])"
   ]
  },
  {
   "cell_type": "code",
   "execution_count": 3,
   "metadata": {},
   "outputs": [
    {
     "name": "stdout",
     "output_type": "stream",
     "text": [
      "Con reemplazo la probabilidad es 0.2487\n"
     ]
    }
   ],
   "source": [
    "#Caso 1 extracciones con reemplazo\n",
    "#simulacion es una matriz en donde cada renglón es un\n",
    "#posible resultado y cada columna representa la i-ésima extración\n",
    "simulacion = np.random.choice(caja, size = (n_sim, 2), replace = True)\n",
    "\n",
    "#cuenta éxitos\n",
    "exitos = np.sum(simulacion[:,0] == 3)\n",
    "\n",
    "#aproxima probabilidad\n",
    "prob = exitos / n_sim\n",
    "\n",
    "print('Con reemplazo la probabilidad es', round(prob, 4))"
   ]
  },
  {
   "cell_type": "code",
   "execution_count": 4,
   "metadata": {},
   "outputs": [
    {
     "name": "stdout",
     "output_type": "stream",
     "text": [
      "Con reemplazo la probabilidad es 0.2504\n"
     ]
    }
   ],
   "source": [
    "#Caso 2 extracciones sin reemplazo\n",
    "#Ya no es posible utilizar np.random.choice\n",
    "#ValueError: Cannot take a larger sample than population when 'replace=False'\n",
    "\n",
    "#Extrae una primera muestra\n",
    "simulacion = np.random.choice(caja, size = 2, replace = False)\n",
    "\n",
    "#extrae las muestras restantes\n",
    "#y las agrega a simulación\n",
    "for i in range(1, n_sim):\n",
    "    nueva_muestra = np.random.choice(caja, size = 2, replace = False)\n",
    "    simulacion = np.vstack( (simulacion, nueva_muestra) )\n",
    "    \n",
    "#cuenta éxitos\n",
    "exitos = np.sum(simulacion[:,0] == 3)\n",
    "\n",
    "#aproxima probabilidad\n",
    "prob = exitos / n_sim\n",
    "\n",
    "print('Con reemplazo la probabilidad es', round(prob, 4))"
   ]
  },
  {
   "cell_type": "markdown",
   "metadata": {},
   "source": [
    "# Ejercicio\n",
    "\n",
    "Suponga que tira dos dados (justos) al alzar. Calcule y grafique las probabilidades que la suma de sus caras sea $2, 3, \\ldots, 12$.\n",
    "\n",
    "Utilice $100,000$ simulaciones"
   ]
  },
  {
   "cell_type": "code",
   "execution_count": 5,
   "metadata": {},
   "outputs": [
    {
     "data": {
      "image/png": "[encoded data removed]",
      "text/plain": [
       "<Figure size 432x288 with 1 Axes>"
      ]
     },
     "metadata": {
      "needs_background": "light"
     },
     "output_type": "display_data"
    }
   ],
   "source": [
    "n_sim = 100_000\n",
    "caras = np.arange(1, 7)\n",
    "\n",
    "#matriz de n_sim x 2\n",
    "simulaciones = np.random.choice(caras, size = (n_sim, 2))\n",
    "\n",
    "#para guardar las probabilidades\n",
    "probs = []\n",
    "\n",
    "#posibles sumas\n",
    "pos_sum = range(2, 13)\n",
    "\n",
    "for s in pos_sum:\n",
    "    #cuenta éxitos\n",
    "    exitos = np.sum(simulaciones[:, 0] + simulaciones[:, 1] == s)\n",
    "    \n",
    "    #agrega probabilidad\n",
    "    probs.append(exitos / n_sim)\n",
    "\n",
    "#Crea la gráfica\n",
    "plt.bar(pos_sum, probs)\n",
    "plt.xticks(pos_sum, pos_sum)\n",
    "plt.ylabel('Probabilidad')\n",
    "plt.xlabel('Suma')\n",
    "plt.title('Suma de las caras de dos dados')\n",
    "plt.show()"
   ]
  },
  {
   "cell_type": "markdown",
   "metadata": {},
   "source": [
    "# Ejercicio\n",
    "\n",
    "Se tira una moneda $6$ veces, calcule lo siguiente:\n",
    "\n",
    "* El número de águilas y soles sea el mismo.\n",
    "\n",
    "* Exactamente aparecen dos águilas.\n",
    "\n",
    "* Al menos dos águilas han aparecido.\n",
    "\n",
    "Utilice $100,000$ simulaciones."
   ]
  },
  {
   "cell_type": "code",
   "execution_count": 6,
   "metadata": {},
   "outputs": [
    {
     "name": "stdout",
     "output_type": "stream",
     "text": [
      "Prob de águilas y soles iguales 0.3123\n",
      "Prob de exactamente 2 águilas 0.2354\n",
      "Prob de al menos 2 águilas 0.9059\n"
     ]
    }
   ],
   "source": [
    "n_sim = 100_000\n",
    "n_tiros = 6\n",
    "moneda = ['A', 'S']\n",
    "simulaciones = np.random.choice(moneda, size = (n_sim, n_tiros))\n",
    "\n",
    "#contadores de éxito para cada pregunta\n",
    "cont_ex_1 = 0\n",
    "cont_ex_2 = 0\n",
    "cont_ex_3 = 0\n",
    "\n",
    "for reng in simulaciones:\n",
    "    unicos, conteo = np.unique(reng, return_counts = True)\n",
    "    \n",
    "    #este if es para considerar el caso\n",
    "    #en que sólo se tiene la misma cara\n",
    "    #en los 6 tiros\n",
    "    if len(conteo) > 1:\n",
    "        #caso éxito pregunta 1\n",
    "        if conteo[0] == conteo[1]:\n",
    "            cont_ex_1 = cont_ex_1 + 1\n",
    "\n",
    "    #caso éxito pregunta 2    \n",
    "    if conteo[0] == 2:\n",
    "        cont_ex_2 = cont_ex_2 + 1\n",
    "    \n",
    "    #caso éxito pregunta 3\n",
    "    if conteo[0] >= 2:\n",
    "        cont_ex_3 = cont_ex_3 + 1\n",
    "        \n",
    "\n",
    "#estima probabilidades\n",
    "prob_1 = cont_ex_1 / n_sim        \n",
    "prob_2 = cont_ex_2 / n_sim        \n",
    "prob_3 = cont_ex_3 / n_sim        \n",
    "print('Prob de águilas y soles iguales', round(prob_1, 4))    \n",
    "print('Prob de exactamente 2 águilas', round(prob_2, 4))\n",
    "print('Prob de al menos 2 águilas', round(prob_3, 4))"
   ]
  },
  {
   "cell_type": "markdown",
   "metadata": {},
   "source": [
    "# Ejercicio\n",
    "\n",
    "Supongamos que la población de una ciudad está compuesta por $40\\%$ hombres y $60\\%$ mujeres. Supongamos también que $50\\%$ de los hombres y $30\\%$ de las mujeres fuman. Encuentre la probabilidad de que un fumador sea hombre."
   ]
  },
  {
   "cell_type": "markdown",
   "metadata": {},
   "source": [
    "# Solución\n",
    "\n",
    "Ya que \n",
    "$$\n",
    "\\mathbb{P}(H | F) = \\dfrac{ \\mathbb{P}(H \\cap F) }{ \\mathbb{P}(F) } \\approx \\dfrac{ N_{n}(H \\cap F)} { N_{n}(F) }\n",
    "$$\n",
    "\n",
    "basta realizar el siguiente procedimiento.\n",
    "\n",
    "* Seleccionar una persona\n",
    "  * Si es hombre, determinar si fuma o no\n",
    "    * Si fuma, incrementar $N_{n}(F)$ y $N_{n}(H \\cap F)$\n",
    "  * Si es mujer y fuma, incrementar $N_{n}(F)$  "
   ]
  },
  {
   "cell_type": "code",
   "execution_count": 10,
   "metadata": {},
   "outputs": [
    {
     "name": "stdout",
     "output_type": "stream",
     "text": [
      "La probabilidad estimada es 0.528\n",
      "La probabilidad verdadera es 0.526\n"
     ]
    }
   ],
   "source": [
    "n_sim = 100_000\n",
    "genero = ['H', 'M']\n",
    "fuma = ['si', 'no']\n",
    "prob_gen = [0.4, 0.6]\n",
    "#[si, no]\n",
    "prob_fuma_m = [0.30, 0.70]\n",
    "prob_fuma_h = [0.5, 0.5]\n",
    "\n",
    "cont_f = 0\n",
    "cont_h_f = 0\n",
    "\n",
    "for _ in range(n_sim):\n",
    "    #selecciona persona\n",
    "    persona = np.random.choice(genero, p = prob_gen)\n",
    "    \n",
    "    #si es hombre determina si fuma o no\n",
    "    if persona == 'H':\n",
    "        f = np.random.choice(fuma, p = prob_fuma_h)\n",
    "        if f == 'si':\n",
    "            #incrementa contadores\n",
    "            cont_f = cont_f + 1\n",
    "            cont_h_f = cont_h_f + 1\n",
    "            \n",
    "    #Si es mujer, determina si fuma o no\n",
    "    else:\n",
    "        f = np.random.choice(fuma, p = prob_fuma_m)\n",
    "        if f == 'si':\n",
    "            cont_f = cont_f + 1\n",
    "            \n",
    "#Determina la probabilidad condicional\n",
    "prob = cont_h_f / cont_f\n",
    "\n",
    "#probabilidad verdadera\n",
    "prob_true = (0.5 * 0.4) / (0.5 * 0.4 + 0.3 * 0.6)\n",
    "print('La probabilidad estimada es', round(prob, 3))\n",
    "print('La probabilidad verdadera es', round(prob_true, 3))\n",
    "    "
   ]
  },
  {
   "cell_type": "code",
   "execution_count": null,
   "metadata": {},
   "outputs": [],
   "source": []
  }
 ],
 "metadata": {
  "kernelspec": {
   "display_name": "Python 3",
   "language": "python",
   "name": "python3"
  },
  "language_info": {
   "codemirror_mode": {
    "name": "ipython",
    "version": 3
   },
   "file_extension": ".py",
   "mimetype": "text/x-python",
   "name": "python",
   "nbconvert_exporter": "python",
   "pygments_lexer": "ipython3",
   "version": "3.7.6"
  }
 },
 "nbformat": 4,
 "nbformat_minor": 4
}
