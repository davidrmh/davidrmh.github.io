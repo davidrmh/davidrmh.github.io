{
 "cells": [
  {
   "cell_type": "markdown",
   "metadata": {},
   "source": [
    "# Cheat Sheet\n",
    "\n",
    "https://web.cs.elte.hu/~mesti/valszam/kepletek"
   ]
  },
  {
   "cell_type": "markdown",
   "metadata": {},
   "source": [
    "# Ejercicio\n",
    "\n",
    "Si $X_1,\\ldots,X_n$ son variables independientes con distribución $N(\\mu, \\sigma^2)$, es posible demostrar que los estimadores máximos verosímiles para $\\mu$ y $\\sigma^2$ son\n",
    "\n",
    "$$\n",
    "\\widehat{\\mu(\\mathbf{X})} = \\bar{X}\n",
    "$$\n",
    "$$\n",
    "\\widehat{ \\sigma^2 (\\mathbf{X}) } = \\dfrac{1}{n} \\sum_{i=1}^{n} (X_i - \\bar{X})^2\n",
    "$$\n",
    "\n",
    "Compruebe lo anterior utilizando `scipy.optimize` junto con una muestra de 100 variables $N(\\mu = 1, \\sigma = 1.5)$\n",
    "\n",
    "Utilice el método de optimización 'L-BFGS-B'.\n"
   ]
  },
  {
   "cell_type": "code",
   "execution_count": null,
   "metadata": {},
   "outputs": [],
   "source": [
    "import numpy as np\n",
    "from scipy.optimize import minimize\n",
    "from scipy.optimize import Bounds\n",
    "from scipy.stats import norm\n",
    "from scipy.stats import poisson"
   ]
  },
  {
   "cell_type": "code",
   "execution_count": null,
   "metadata": {},
   "outputs": [],
   "source": [
    "def log_like_normal(params, *args):\n",
    "    '''\n",
    "    Función para calcular el logaritmo (natural) de una función\n",
    "    de densidad normal\n",
    "    \n",
    "    ENTRADA\n",
    "    params: Numpy array con dimensión 1 y shape(n,) en donde n es el número\n",
    "    de variables que se quieren optimizar\n",
    "    \n",
    "    *args: Tupla de parámetros fijos necesarios para definir completamente\n",
    "    la función\n",
    "    \n",
    "    SALIDA\n",
    "    Valor de logaritmo (natural) de una función de densidad normal\n",
    "    '''\n",
    "    #Valores de cada variable en X_i\n",
    "    datos = args[0] \n",
    "    mu = params[0]\n",
    "    sig = params[1]\n",
    "    \n",
    "    return -np.sum( norm.logpdf(x = datos, loc = mu, scale = sig) )"
   ]
  },
  {
   "cell_type": "code",
   "execution_count": null,
   "metadata": {},
   "outputs": [],
   "source": [
    "#Genera la una muestra\n",
    "np.random.seed(54321)\n",
    "x = norm.rvs(loc = 1, scale = 1.5, size = 100)\n",
    "\n",
    "#Solución inicial\n",
    "x0 = np.array([0,1])\n",
    "\n",
    "#Cotas\n",
    "#mu puede tomar cualquier valor en [-np.inf, np.inf]\n",
    "#sigma cualquier valor en [0, np.inf]\n",
    "cotas = Bounds(lb = [-np.inf, 0], ub = [np.inf, np.inf])\n",
    "\n",
    "#Obtiene la solución\n",
    "solucion = minimize(log_like_normal,x0 = x0, bounds=cotas, method='L-BFGS-B',args=(x))\n",
    "print(solucion)\n",
    "print(type(solucion))"
   ]
  },
  {
   "cell_type": "code",
   "execution_count": null,
   "metadata": {},
   "outputs": [],
   "source": [
    "print(\"La solución analítica para mu es \", np.round(x.mean(), 6))\n",
    "print(\"La solución aproximada para mu es \", np.round(solucion.x[0], 6))\n",
    "print(\"La solución analítica para sigma^2 es \", np.round(x.var(ddof = 0), 6))\n",
    "print(\"La solución aproximada para sigma^2 es \", np.round(solucion.x[1]**2, 6))\n",
    "#Aplicamos el teorema de invarianza de los MLE para encontrar un estimado\n",
    "#de la desviación estándar\n",
    "print(\"La solución analítica para sigma es \", np.round(x.std(ddof = 0), 6))\n",
    "print(\"La solución aproximada para sigma es \", np.round(solucion.x[1], 6))"
   ]
  },
  {
   "cell_type": "markdown",
   "metadata": {},
   "source": [
    "# Ejercicio\n",
    "\n",
    "Compruebe que el estimador máximo verosímil de una distribución ```Poisson``` con $\\lambda = 2.5$, es el promedio de las observaciones.\n",
    "\n",
    "Utilice una muestra de tamaño $100$.\n",
    "\n",
    "Utilice el método de optimización 'L-BFGS-B'."
   ]
  },
  {
   "cell_type": "code",
   "execution_count": null,
   "metadata": {},
   "outputs": [],
   "source": [
    "def log_lik_poisson(params, *args):\n",
    "    datos = args[0]\n",
    "    lam = params[0]\n",
    "    \n",
    "    return -np.sum(poisson.logpmf(k = datos, mu = lam))"
   ]
  },
  {
   "cell_type": "code",
   "execution_count": null,
   "metadata": {},
   "outputs": [],
   "source": [
    "np.random.seed(54321)\n",
    "simulados = poisson.rvs(size = 100, mu = 2.5)\n",
    "\n",
    "#Punto inicial\n",
    "x0 = np.array([5])\n",
    "cotas = Bounds(lb = [0], ub = [np.inf])\n",
    "\n",
    "solucion = minimize(log_lik_poisson, x0 = x0, args = (simulados),\n",
    "                   method = 'L-BFGS-B', bounds = cotas)\n",
    "\n",
    "print(solucion)\n",
    "print(simulados.mean())"
   ]
  },
  {
   "cell_type": "code",
   "execution_count": null,
   "metadata": {},
   "outputs": [],
   "source": []
  }
 ],
 "metadata": {
  "kernelspec": {
   "display_name": "Python 3",
   "language": "python",
   "name": "python3"
  },
  "language_info": {
   "codemirror_mode": {
    "name": "ipython",
    "version": 3
   },
   "file_extension": ".py",
   "mimetype": "text/x-python",
   "name": "python",
   "nbconvert_exporter": "python",
   "pygments_lexer": "ipython3",
   "version": "3.7.6"
  }
 },
 "nbformat": 4,
 "nbformat_minor": 4
}
