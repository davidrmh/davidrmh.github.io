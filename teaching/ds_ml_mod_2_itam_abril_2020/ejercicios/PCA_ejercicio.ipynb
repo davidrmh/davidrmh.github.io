{
 "cells": [
  {
   "cell_type": "markdown",
   "metadata": {},
   "source": [
    "# Análisis de componentes principales\n",
    "\n",
    "En este notebook se busca implementar la metodología PCA con el fin de reducir la dimensión en nuestros\n",
    "datos utilizando la aproximación (ver presentación)\n",
    "\n",
    "$$\n",
    "\\mathbf{P}_{m \\times k} \\mathbf{W}_{k \\times n}^{T} \\approx \\mathbf{X}_{m \\times n}\n",
    "$$\n",
    "\n",
    "Aquí, la matriz $\\mathbf{X}$ representará una imagen (en escala de grises).\n",
    "\n",
    "Su programa deberá ir obteniendo el valor de $k$ correspondiente a los umbrales\n",
    "\n",
    "```python\n",
    "umbrales = np.arange(0.1, 0.99, 0.05)\n",
    "```\n",
    "y debe de ir graficando cada aproximación.\n",
    "\n",
    "**Sugerencias**\n",
    "\n",
    "```python\n",
    "help(np.mean)\n",
    "help(np.std)\n",
    "help(np.cov) #utilice el parámetro rowvar = False\n",
    "help(np.argsort)\n",
    "help(np.linalg.eig)\n",
    "help(np.real)\n",
    "help(np.cumsum)\n",
    "help(np.where)\n",
    "```"
   ]
  },
  {
   "cell_type": "code",
   "execution_count": null,
   "metadata": {},
   "outputs": [],
   "source": [
    "from scipy import misc\n",
    "from PIL import Image\n",
    "import matplotlib.pyplot as plt\n",
    "import numpy as np"
   ]
  },
  {
   "cell_type": "code",
   "execution_count": null,
   "metadata": {},
   "outputs": [],
   "source": [
    "#Imagen prueba en escala de grises\n",
    "img_A = misc.face(gray = True)\n",
    "\n",
    "'''\n",
    "#Para leer una imagen local\n",
    "#se puede utilizar la función open del módulo\n",
    "#Image de la librería PIL\n",
    "img_A = Image.open('homero.jpg')\n",
    "plt.imshow(img_A)\n",
    "plt.show()\n",
    "\n",
    "#Convertimos a blanco y negro\n",
    "img_A = img_A.convert('L')\n",
    "plt.imshow(img_A,  cmap='gray')\n",
    "plt.show()\n",
    "\n",
    "#Convertimos a numpy array\n",
    "img_A = np.array(img_A)\n",
    "'''"
   ]
  },
  {
   "cell_type": "code",
   "execution_count": null,
   "metadata": {},
   "outputs": [],
   "source": [
    "type(img_A)"
   ]
  },
  {
   "cell_type": "code",
   "execution_count": null,
   "metadata": {},
   "outputs": [],
   "source": [
    "img_A.shape"
   ]
  }
 ],
 "metadata": {
  "kernelspec": {
   "display_name": "Python 3",
   "language": "python",
   "name": "python3"
  },
  "language_info": {
   "codemirror_mode": {
    "name": "ipython",
    "version": 3
   },
   "file_extension": ".py",
   "mimetype": "text/x-python",
   "name": "python",
   "nbconvert_exporter": "python",
   "pygments_lexer": "ipython3",
   "version": "3.7.6"
  }
 },
 "nbformat": 4,
 "nbformat_minor": 4
}
