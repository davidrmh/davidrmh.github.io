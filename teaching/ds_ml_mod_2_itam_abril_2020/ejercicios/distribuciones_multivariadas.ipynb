{
 "cells": [
  {
   "cell_type": "code",
   "execution_count": null,
   "metadata": {},
   "outputs": [],
   "source": [
    "import numpy as np"
   ]
  },
  {
   "cell_type": "markdown",
   "metadata": {},
   "source": [
    "# Ejercicio \n",
    "\n",
    "Suponga que se tiran dos dados de $3$ caras. Sea $X$ la cara que muestra el primer dado y sea $Y$ la suma de los dos dados. Utilizando simulación encuentre $f_{XY}$ y a partir de esta densidad, encuentre las densidades marginales  $f_{X}$ y $f_{Y}$."
   ]
  },
  {
   "cell_type": "code",
   "execution_count": null,
   "metadata": {},
   "outputs": [],
   "source": []
  },
  {
   "cell_type": "markdown",
   "metadata": {},
   "source": [
    "# Ejercicio\n",
    "\n",
    "Si $f(x,y) = 6(1 - y)$ para $0 < x < y < 1$, utilizando simulación compruebe que\n",
    "\n",
    "* $E\\left[X | Y = 1 /2 \\right] = 0.25$\n",
    "\n",
    "* $Var\\left[X | Y = 1 /2 \\right] = 0.021$\n",
    "\n"
   ]
  },
  {
   "cell_type": "code",
   "execution_count": null,
   "metadata": {},
   "outputs": [],
   "source": []
  }
 ],
 "metadata": {
  "kernelspec": {
   "display_name": "Python 3",
   "language": "python",
   "name": "python3"
  },
  "language_info": {
   "codemirror_mode": {
    "name": "ipython",
    "version": 3
   },
   "file_extension": ".py",
   "mimetype": "text/x-python",
   "name": "python",
   "nbconvert_exporter": "python",
   "pygments_lexer": "ipython3",
   "version": "3.7.6"
  }
 },
 "nbformat": 4,
 "nbformat_minor": 4
}
