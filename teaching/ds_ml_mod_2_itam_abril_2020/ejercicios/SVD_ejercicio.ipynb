{
 "cells": [
  {
   "cell_type": "markdown",
   "metadata": {},
   "source": [
    "# Singular Value Decomposition"
   ]
  },
  {
   "cell_type": "code",
   "execution_count": null,
   "metadata": {},
   "outputs": [],
   "source": [
    "from scipy import misc\n",
    "from PIL import Image\n",
    "import matplotlib.pyplot as plt\n",
    "import numpy as np"
   ]
  },
  {
   "cell_type": "code",
   "execution_count": null,
   "metadata": {},
   "outputs": [],
   "source": [
    "#Imagen prueba en escala de grises\n",
    "img_A = misc.face(gray = True)\n",
    "\n",
    "'''\n",
    "#Para leer una imagen local\n",
    "#se puede utilizar la función open del módulo\n",
    "#Image de la librería PIL\n",
    "img_A = Image.open('homero.jpg')\n",
    "plt.imshow(img_A)\n",
    "plt.show()\n",
    "\n",
    "#Convertimos a blanco y negro\n",
    "img_A = img_A.convert('L')\n",
    "plt.imshow(img_A,  cmap='gray')\n",
    "plt.show()\n",
    "\n",
    "#Convertimos a numpy array\n",
    "img_A = np.array(img_A)\n",
    "'''"
   ]
  },
  {
   "cell_type": "code",
   "execution_count": null,
   "metadata": {},
   "outputs": [],
   "source": [
    "type(img_A)"
   ]
  },
  {
   "cell_type": "code",
   "execution_count": null,
   "metadata": {},
   "outputs": [],
   "source": [
    "img_A.shape"
   ]
  },
  {
   "cell_type": "code",
   "execution_count": null,
   "metadata": {},
   "outputs": [],
   "source": [
    "#Descomposición SVD\n",
    "svd_u, svd_sig, svd_vt = np.linalg.svd(img_A)"
   ]
  },
  {
   "cell_type": "code",
   "execution_count": null,
   "metadata": {},
   "outputs": [],
   "source": [
    "print(svd_u.shape)\n",
    "print(svd_sig.shape)\n",
    "print(svd_vt.shape)"
   ]
  },
  {
   "cell_type": "code",
   "execution_count": null,
   "metadata": {},
   "outputs": [],
   "source": [
    "def determina_k(svd_sig, umbral = 0.95):\n",
    "    '''\n",
    "    Función para determinar la aproximación\n",
    "    del rango que acumula cierta \"energía\"\n",
    "    \n",
    "    ENTRADA\n",
    "    svd_sig: ndarray con los valores singulares ordenados\n",
    "    de mayor a menor\n",
    "    \n",
    "    umbral: float en (0,1)\n",
    "    \n",
    "    SALIDA\n",
    "    entero positivo que determina cual es el rango k\n",
    "    para aproximar la matriz A\n",
    "    '''\n",
    "    \n",
    "    #proporciones acumuladas\n",
    "    prop = np.cumsum(svd_sig) / np.sum(svd_sig)\n",
    "    \n",
    "    #localiza el primer índice que\n",
    "    #rebasa el umbral\n",
    "    k = np.where(prop >= umbral)[0][0]\n",
    "    \n",
    "    return k"
   ]
  },
  {
   "cell_type": "code",
   "execution_count": null,
   "metadata": {},
   "outputs": [],
   "source": [
    "def aproximacion(svd_u, svd_sig, svd_vt, k):\n",
    "    '''\n",
    "    Función para obtener la aproximación de rango k\n",
    "    de una matriz, utilizando SVD\n",
    "    \n",
    "    ENTRADA\n",
    "    svd_u: ndarray que representa la matriz U de la SVD\n",
    "    (se obtiene con numpy.linalg.svd)\n",
    "    \n",
    "    svd_sig: ndarray con los valores singulares\n",
    "    (se obtiene con numpy.linalg.svd)\n",
    "    \n",
    "    svd_vt: ndarray que representa la matriz V^{T} de la SVD\n",
    "    (se obtiene con numpy.linalg.svd)\n",
    "    \n",
    "    k: Entero positivo que representa el orden de la aproximación\n",
    "    (se obtiene con la función determina_k)\n",
    "    \n",
    "    SALIDA\n",
    "    ndarray que representa la aproximación de la matriz original\n",
    "    '''\n",
    "    \n",
    "    #k + 1 porque queremos que sea inclusive\n",
    "    return svd_u[:, 0:(k + 1)] @ np.diagflat(svd_sig[:(k + 1)]) @ svd_vt[0:(k + 1), :]\n",
    "    "
   ]
  },
  {
   "cell_type": "code",
   "execution_count": null,
   "metadata": {},
   "outputs": [],
   "source": [
    "umbrales = np.arange(0.1, 0.99, 0.05)\n",
    "m = img_A.shape[0]\n",
    "n = img_A.shape[1]\n",
    "num_orig = m * n\n",
    "for u in umbrales:\n",
    "    k = determina_k(svd_sig, umbral = u)\n",
    "    print('Para el umbral', round(u, 4))\n",
    "    print('El rango es', k + 1)\n",
    "    print('Imagen original necesita', m * n, 'números')\n",
    "    print('Aproximación necesita', (k + 1)* (m + n + 1), 'números')\n",
    "    print()\n",
    "    plt.imshow(aproximacion(svd_u, svd_sig, svd_vt, k),  cmap='gray')\n",
    "    plt.show()"
   ]
  }
 ],
 "metadata": {
  "kernelspec": {
   "display_name": "Python 3",
   "language": "python",
   "name": "python3"
  },
  "language_info": {
   "codemirror_mode": {
    "name": "ipython",
    "version": 3
   },
   "file_extension": ".py",
   "mimetype": "text/x-python",
   "name": "python",
   "nbconvert_exporter": "python",
   "pygments_lexer": "ipython3",
   "version": "3.7.6"
  }
 },
 "nbformat": 4,
 "nbformat_minor": 4
}
