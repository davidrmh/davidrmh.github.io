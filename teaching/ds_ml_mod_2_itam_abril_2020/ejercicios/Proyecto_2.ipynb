{
 "cells": [
  {
   "cell_type": "code",
   "execution_count": null,
   "metadata": {},
   "outputs": [],
   "source": [
    "import numpy as np\n",
    "from scipy.stats import norm\n",
    "from scipy.optimize import minimize\n",
    "from scipy.optimize import Bounds"
   ]
  },
  {
   "cell_type": "markdown",
   "metadata": {},
   "source": [
    "# Esperanza condicional \n",
    "\n",
    "Si \n",
    "$$\n",
    "f(x, y)=\n",
    "\\begin{cases}\n",
    "  6(1- y) & \\text{Si} & 0 < x < y <1 \\\\\n",
    "  0 & \\text{En otro caso} & \n",
    "\\end{cases}\n",
    "$$\n",
    "\n",
    "obtenga $f_{y|x}\\left(y| x = \\dfrac{1}{2} \\right)$ y estime:\n",
    "\n",
    "$E\\left[Y | X = \\dfrac{1}{2}\\right]$.\n",
    "\n",
    "$Var\\left[Y | X = \\dfrac{1}{2}\\right]$\n",
    "\n",
    "utilizando $100,000$ simulaciones y muestre sus resultados redondeando a 4 decimales.\n"
   ]
  },
  {
   "cell_type": "code",
   "execution_count": null,
   "metadata": {},
   "outputs": [],
   "source": []
  },
  {
   "cell_type": "markdown",
   "metadata": {},
   "source": [
    "# Valuación de derivados\n",
    "\n",
    "Utilizando los valores\n",
    "\n",
    "* $S_0=100$\n",
    "* $K=110$\n",
    "* $T = 1$\n",
    "* $r = 0.01$\n",
    "* $\\sigma = 0.2$\n",
    "* $t = 0$\n",
    "\n",
    "Calcule el valor de una opción call europea utilizando simulación y compare sus resultados con la fórmula analítica de Black-Scholes.\n",
    "\n",
    "Utilice un tamaño de paso $N =365$ y simule $1,000$ trayectorias."
   ]
  },
  {
   "cell_type": "code",
   "execution_count": null,
   "metadata": {},
   "outputs": [],
   "source": []
  },
  {
   "cell_type": "markdown",
   "metadata": {},
   "source": [
    "# Volatilidad implícita\n",
    "\n",
    "Utilizando los valores\n",
    "\n",
    "* $S_0=100$\n",
    "* $K=110$\n",
    "* $T = 1$\n",
    "* $r = 0.01$\n",
    "* $t = 0$\n",
    "\n",
    "y el precio de la opción call observado en el mercado $P_{mercado} = 10$, calcule la volatilidad implícita resolviendo el siguiente problema de optimización\n",
    "\n",
    "$$\n",
    "VolImp = argmin_{\\sigma > 0} \\left( P_{mercado} - P_{BS} \\right)^2\n",
    "$$\n",
    "\n",
    "en donde $P_{BS}$ es el precio de la opción call utilizando la fórmula analítica de Black-Scholes.\n",
    "\n",
    "Como solución inicial $\\sigma_0 = 0.05$"
   ]
  },
  {
   "cell_type": "code",
   "execution_count": null,
   "metadata": {},
   "outputs": [],
   "source": []
  },
  {
   "cell_type": "markdown",
   "metadata": {},
   "source": [
    "## Ejercicio(Covarianza cero no implica independencia)\n",
    "\n",
    "Si $X_1$ tiene la siguiente distribución\n",
    "\n",
    "* $\\mathbb{P}[X_1 = -5 ] = 0.25$.\n",
    "\n",
    "* $\\mathbb{P}[X_1 = -1 ] = 0.2$.\n",
    "\n",
    "* $\\mathbb{P}[X_1 = 0] = 0.1$.\n",
    "\n",
    "* $\\mathbb{P}[X_1 = 1 ] = 0.2$.\n",
    "\n",
    "* $\\mathbb{P}[X_1 = 5 ] = 0.25$.\n",
    "\n",
    "y se define $X_2 = X_{1}^{2}$. Compruebe a través de simulación que $Cov(X_1, X_2) = 0$.\n",
    "\n",
    "Este es un ejemplo en el cual las variables son dependientes (de manera no lineal), pero su covarianza es cero.\n",
    "\n",
    "**NOTA:**\n",
    "\n",
    "No puede utilizar \n",
    "\n",
    "```python\n",
    "numpy.random.choice\n",
    "```\n",
    "y tampoco cíclos **for**.\n",
    "\n",
    "Utilice $2e6$ simulaciones.\n",
    "\n",
    "Recuerde $Cov(X,Y) = E[XY] - E[X] * E[Y]$."
   ]
  },
  {
   "cell_type": "code",
   "execution_count": null,
   "metadata": {},
   "outputs": [],
   "source": []
  }
 ],
 "metadata": {
  "kernelspec": {
   "display_name": "Python 3",
   "language": "python",
   "name": "python3"
  },
  "language_info": {
   "codemirror_mode": {
    "name": "ipython",
    "version": 3
   },
   "file_extension": ".py",
   "mimetype": "text/x-python",
   "name": "python",
   "nbconvert_exporter": "python",
   "pygments_lexer": "ipython3",
   "version": "3.7.6"
  }
 },
 "nbformat": 4,
 "nbformat_minor": 4
}
