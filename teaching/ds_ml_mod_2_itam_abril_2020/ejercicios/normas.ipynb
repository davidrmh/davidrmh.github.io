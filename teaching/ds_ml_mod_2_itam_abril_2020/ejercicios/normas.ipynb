{
 "cells": [
  {
   "cell_type": "markdown",
   "metadata": {},
   "source": [
    "# Implementación de algunas normas\n",
    "\n",
    "## Sin numpy"
   ]
  },
  {
   "cell_type": "code",
   "execution_count": null,
   "metadata": {},
   "outputs": [],
   "source": [
    "import numpy as np\n",
    "x = np.array([-1, 0, 4, 0, 26, 18, -120])\n",
    "A = np.array([[1, 2, 3], [4, 5, 6]])"
   ]
  },
  {
   "cell_type": "code",
   "execution_count": null,
   "metadata": {},
   "outputs": [],
   "source": [
    "def norma_lp(vector, p):\n",
    "    '''\n",
    "    Calcula la norma Lp para p>=1\n",
    "    \n",
    "    ENTRADA\n",
    "    vector: lista o ndarray\n",
    "    \n",
    "    p: entero mayor o igual que 1\n",
    "    \n",
    "    SALIDA\n",
    "    float no negativo\n",
    "    '''\n",
    "    \n",
    "    #Para almacenar la suma\n",
    "    suma = 0\n",
    "    \n",
    "    for elem in vector:\n",
    "        suma = suma + abs(elem)**p\n",
    "    \n",
    "    suma = suma**(1 / p)\n",
    "    \n",
    "    return suma"
   ]
  },
  {
   "cell_type": "code",
   "execution_count": null,
   "metadata": {},
   "outputs": [],
   "source": [
    "def norma_L0(vector):\n",
    "    '''\n",
    "    Calcula la `norma` L0\n",
    "    \n",
    "    ENTRADA\n",
    "    vector: lista o ndarray\n",
    "    \n",
    "    Salida\n",
    "    entero no negativo\n",
    "    '''\n",
    "    \n",
    "    contador_no_cero = 0\n",
    "    \n",
    "    for elem in vector:\n",
    "        if elem != 0:\n",
    "            contador_no_cero = contador_no_cero + 1\n",
    "        \n",
    "    return contador_no_cero    "
   ]
  },
  {
   "cell_type": "code",
   "execution_count": null,
   "metadata": {},
   "outputs": [],
   "source": [
    "def norma_max(vector):\n",
    "    '''\n",
    "    Calcula la norma L infinito\n",
    "    \n",
    "    ENTRADA\n",
    "    vector: lista o ndarray\n",
    "    \n",
    "    SALIDA\n",
    "    float no negativo\n",
    "    '''\n",
    "    \n",
    "    maximo = -float('inf')\n",
    "    \n",
    "    for elem in vector:\n",
    "        if maximo < abs(elem):\n",
    "            maximo = abs(elem)\n",
    "    return maximo        "
   ]
  },
  {
   "cell_type": "code",
   "execution_count": null,
   "metadata": {},
   "outputs": [],
   "source": [
    "def norma_frobenius(matriz):\n",
    "    '''\n",
    "    Calcula la norma de Frobenius para una matriz\n",
    "    \n",
    "    ENTRADA\n",
    "    matriz: lista o ndarray\n",
    "    \n",
    "    SALIDA\n",
    "    float no negativo\n",
    "    '''\n",
    "    \n",
    "    suma = 0\n",
    "    \n",
    "    for renglon in matriz:\n",
    "        for elem in renglon:\n",
    "            suma = suma + elem**2\n",
    "    suma = suma**(1 / 2)\n",
    "    \n",
    "    return suma"
   ]
  },
  {
   "cell_type": "markdown",
   "metadata": {},
   "source": [
    "# Con numpy (sin linalg)"
   ]
  },
  {
   "cell_type": "code",
   "execution_count": null,
   "metadata": {},
   "outputs": [],
   "source": [
    "def norma_lp_numpy(vector, p):\n",
    "    \n",
    "    return np.sum(np.abs(vector)**p)**(1 / p)"
   ]
  },
  {
   "cell_type": "code",
   "execution_count": null,
   "metadata": {},
   "outputs": [],
   "source": [
    "def norma_L0_numpy(vector):\n",
    "    \n",
    "    return np.sum(vector != 0)"
   ]
  },
  {
   "cell_type": "code",
   "execution_count": null,
   "metadata": {},
   "outputs": [],
   "source": [
    "def norma_max_numpy(vector):\n",
    "    \n",
    "    return np.max(np.abs(vector))"
   ]
  },
  {
   "cell_type": "code",
   "execution_count": null,
   "metadata": {},
   "outputs": [],
   "source": [
    "def norma_frobenius_numpy(matriz):\n",
    "    \n",
    "    return np.sum(A**2)**(1/2)"
   ]
  },
  {
   "cell_type": "code",
   "execution_count": null,
   "metadata": {},
   "outputs": [],
   "source": [
    "print(A**2)\n",
    "print(np.sum(A**2))"
   ]
  },
  {
   "cell_type": "code",
   "execution_count": null,
   "metadata": {},
   "outputs": [],
   "source": [
    "#Validamos\n",
    "p = 2\n",
    "print('Sin numpy')\n",
    "print(norma_lp(x, p))\n",
    "print(norma_L0(x))\n",
    "print(norma_max(x))\n",
    "print(norma_frobenius(A))\n",
    "print('-' * 30)\n",
    "print('Con numpy')\n",
    "print(norma_lp_numpy(x, p))\n",
    "print(norma_L0_numpy(x))\n",
    "print(norma_max_numpy(x))\n",
    "print(norma_frobenius_numpy(A))"
   ]
  },
  {
   "cell_type": "code",
   "execution_count": null,
   "metadata": {},
   "outputs": [],
   "source": []
  }
 ],
 "metadata": {
  "kernelspec": {
   "display_name": "Python 3",
   "language": "python",
   "name": "python3"
  },
  "language_info": {
   "codemirror_mode": {
    "name": "ipython",
    "version": 3
   },
   "file_extension": ".py",
   "mimetype": "text/x-python",
   "name": "python",
   "nbconvert_exporter": "python",
   "pygments_lexer": "ipython3",
   "version": "3.7.6"
  }
 },
 "nbformat": 4,
 "nbformat_minor": 4
}
