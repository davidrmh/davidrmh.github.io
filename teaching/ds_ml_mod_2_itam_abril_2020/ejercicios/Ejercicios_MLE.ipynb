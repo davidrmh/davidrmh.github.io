{
 "cells": [
  {
   "cell_type": "code",
   "execution_count": null,
   "metadata": {},
   "outputs": [],
   "source": [
    "import numpy as np\n",
    "from scipy.optimize import minimize\n",
    "from scipy.optimize import Bounds\n",
    "from scipy.stats import norm\n",
    "from scipy.stats import poisson"
   ]
  },
  {
   "cell_type": "markdown",
   "metadata": {},
   "source": [
    "# Ejercicio\n",
    "\n",
    "Si $X_1,\\ldots,X_n$ son variables independientes con distribución $N(\\mu, \\sigma^2)$, es posible demostrar que los estimadores máximos verosímiles para $\\mu$ y $\\sigma^2$ son\n",
    "\n",
    "$$\n",
    "\\widehat{\\mu(\\mathbf{X})} = \\bar{X}\n",
    "$$\n",
    "$$\n",
    "\\widehat{ \\sigma^2 (\\mathbf{X}) } = \\dfrac{1}{n} \\sum_{i=1}^{n} (X_i - \\bar{X})^2\n",
    "$$\n",
    "\n",
    "Compruebe lo anterior utilizando `scipy.optimize` junto con una muestra de 100 variables $N(\\mu = 1, \\sigma = 1.5)$\n",
    "\n",
    "Utilice el método de optimización 'L-BFGS-B'.\n"
   ]
  },
  {
   "cell_type": "code",
   "execution_count": null,
   "metadata": {},
   "outputs": [],
   "source": []
  },
  {
   "cell_type": "markdown",
   "metadata": {},
   "source": [
    "# Ejercicio\n",
    "\n",
    "Compruebe que el estimador máximo verosímil de una distribución ```Poisson``` con $\\lambda = 2.5$, es el promedio de las observaciones.\n",
    "\n",
    "Utilice una muestra de tamaño $100$.\n",
    "\n",
    "Utilice el método de optimización 'L-BFGS-B'."
   ]
  },
  {
   "cell_type": "code",
   "execution_count": null,
   "metadata": {},
   "outputs": [],
   "source": []
  }
 ],
 "metadata": {
  "kernelspec": {
   "display_name": "Python 3",
   "language": "python",
   "name": "python3"
  },
  "language_info": {
   "codemirror_mode": {
    "name": "ipython",
    "version": 3
   },
   "file_extension": ".py",
   "mimetype": "text/x-python",
   "name": "python",
   "nbconvert_exporter": "python",
   "pygments_lexer": "ipython3",
   "version": "3.7.6"
  }
 },
 "nbformat": 4,
 "nbformat_minor": 4
}
