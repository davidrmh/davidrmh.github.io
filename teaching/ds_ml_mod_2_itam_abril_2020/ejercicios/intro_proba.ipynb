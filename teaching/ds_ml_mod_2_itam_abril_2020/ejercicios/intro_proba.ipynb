{
 "cells": [
  {
   "cell_type": "markdown",
   "metadata": {},
   "source": [
    "# **Ejercicio**\n",
    "\n",
    "Considera una caja con 4 cartas enumeradas del 1 al 4, suponga que extrae al azar dos cartas\n",
    "\n",
    "a) ¿Cuál es el espacio muestral $S_1$ si las extracciones se realizan con reemplazo?\n",
    "\n",
    "b) ¿Cuál es el espacio muestral $S_2$ si las extracciones se realizan sin reemplazo?\n",
    "\n",
    "c) Utilizando simulación, calcule en ambos casos la probabilidad de que la primera carta sea un 3. Utilice $100,00$ simulaciones."
   ]
  },
  {
   "cell_type": "code",
   "execution_count": null,
   "metadata": {},
   "outputs": [],
   "source": [
    "import numpy as np\n",
    "import matplotlib.pyplot as plt"
   ]
  },
  {
   "cell_type": "code",
   "execution_count": null,
   "metadata": {},
   "outputs": [],
   "source": []
  },
  {
   "cell_type": "markdown",
   "metadata": {},
   "source": [
    "# Ejercicio\n",
    "\n",
    "Suponga que tira dos dados (justos) al alzar. Calcule y grafique las probabilidades que la suma de sus caras sea $2, 3, \\ldots, 12$.\n",
    "\n",
    "Utilice $100,000$ simulaciones"
   ]
  },
  {
   "cell_type": "code",
   "execution_count": null,
   "metadata": {},
   "outputs": [],
   "source": []
  },
  {
   "cell_type": "markdown",
   "metadata": {},
   "source": [
    "# Ejercicio\n",
    "\n",
    "Se tira una moneda $6$ veces, calcule lo siguiente:\n",
    "\n",
    "* El número de águilas y soles sea el mismo.\n",
    "\n",
    "* Exactamente aparecen dos águilas.\n",
    "\n",
    "* Al menos dos águilas han aparecido.\n",
    "\n",
    "Utilice $100,000$ simulaciones."
   ]
  },
  {
   "cell_type": "code",
   "execution_count": null,
   "metadata": {},
   "outputs": [],
   "source": []
  },
  {
   "cell_type": "markdown",
   "metadata": {},
   "source": [
    "# Ejercicio\n",
    "\n",
    "Supongamos que la población de una ciudad está compuesta por $40\\%$ hombres y $60\\%$ mujeres. Supongamos también que $50\\%$ de los hombres y $30\\%$ de las mujeres fuman. Encuentre la probabilidad de que un fumador sea hombre."
   ]
  },
  {
   "cell_type": "code",
   "execution_count": null,
   "metadata": {},
   "outputs": [],
   "source": []
  }
 ],
 "metadata": {
  "kernelspec": {
   "display_name": "Python 3",
   "language": "python",
   "name": "python3"
  },
  "language_info": {
   "codemirror_mode": {
    "name": "ipython",
    "version": 3
   },
   "file_extension": ".py",
   "mimetype": "text/x-python",
   "name": "python",
   "nbconvert_exporter": "python",
   "pygments_lexer": "ipython3",
   "version": "3.7.6"
  }
 },
 "nbformat": 4,
 "nbformat_minor": 4
}
